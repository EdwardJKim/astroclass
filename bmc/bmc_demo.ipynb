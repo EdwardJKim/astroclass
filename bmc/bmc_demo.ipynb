{
 "cells": [
  {
   "cell_type": "markdown",
   "metadata": {},
   "source": [
    "# Bayesian Model Combination for Star/Galaxy Classification\n",
    "\n",
    "This notebook demonstrates an example of using Bayesian Model Combination (BMC) for the CFHTLenS data.\n",
    "  Fore more details, please refer to [A Hybrid Ensemble Learning Approach to Star-Galaxy Classification](http://arxiv.org/abs/1505.02200)."
   ]
  },
  {
   "cell_type": "code",
   "execution_count": 1,
   "metadata": {
    "collapsed": false
   },
   "outputs": [],
   "source": [
    "from __future__ import print_function, division, unicode_literals\n",
    "%matplotlib inline\n",
    "import numpy as np\n",
    "import pandas as pd\n",
    "import matplotlib.pyplot as plt\n",
    "import seaborn as sns"
   ]
  },
  {
   "cell_type": "markdown",
   "metadata": {},
   "source": [
    "We load the CFHTLenS data, using the object IDs as the index column."
   ]
  },
  {
   "cell_type": "code",
   "execution_count": 2,
   "metadata": {
    "collapsed": false
   },
   "outputs": [],
   "source": [
    "df = pd.read_csv('../data/cfhtlens_matched.csv', index_col='id')"
   ]
  },
  {
   "cell_type": "markdown",
   "metadata": {},
   "source": [
    "The CSV files have 100+ columns."
   ]
  },
  {
   "cell_type": "code",
   "execution_count": 3,
   "metadata": {
    "collapsed": false
   },
   "outputs": [
    {
     "data": {
      "text/html": [
       "<div style=\"max-height:1000px;max-width:1500px;overflow:auto;\">\n",
       "<table border=\"1\" class=\"dataframe\">\n",
       "  <thead>\n",
       "    <tr style=\"text-align: right;\">\n",
       "      <th></th>\n",
       "      <th>ALPHA_J2000</th>\n",
       "      <th>A_WORLD</th>\n",
       "      <th>BPZ_FILT</th>\n",
       "      <th>BPZ_FLAGFILT</th>\n",
       "      <th>BPZ_NONDETFILT</th>\n",
       "      <th>B_WORLD</th>\n",
       "      <th>BackGr</th>\n",
       "      <th>CHI_SQUARED_BPZ</th>\n",
       "      <th>CLASS_STAR</th>\n",
       "      <th>DELTA_J2000</th>\n",
       "      <th>...</th>\n",
       "      <th>n_exposures_detec</th>\n",
       "      <th>n_exposures_used</th>\n",
       "      <th>pos</th>\n",
       "      <th>scalelength</th>\n",
       "      <th>sp_cat</th>\n",
       "      <th>sp_cat_id</th>\n",
       "      <th>star_flag</th>\n",
       "      <th>true_class</th>\n",
       "      <th>weight</th>\n",
       "      <th>z_spec</th>\n",
       "    </tr>\n",
       "    <tr>\n",
       "      <th>id</th>\n",
       "      <th></th>\n",
       "      <th></th>\n",
       "      <th></th>\n",
       "      <th></th>\n",
       "      <th></th>\n",
       "      <th></th>\n",
       "      <th></th>\n",
       "      <th></th>\n",
       "      <th></th>\n",
       "      <th></th>\n",
       "      <th></th>\n",
       "      <th></th>\n",
       "      <th></th>\n",
       "      <th></th>\n",
       "      <th></th>\n",
       "      <th></th>\n",
       "      <th></th>\n",
       "      <th></th>\n",
       "      <th></th>\n",
       "      <th></th>\n",
       "      <th></th>\n",
       "    </tr>\n",
       "  </thead>\n",
       "  <tbody>\n",
       "    <tr>\n",
       "      <th>W3m0m1_11696</th>\n",
       "      <td>214.650267</td>\n",
       "      <td>0.000981</td>\n",
       "      <td>31</td>\n",
       "      <td>0</td>\n",
       "      <td>0</td>\n",
       "      <td>0.000760</td>\n",
       "      <td>0.002792</td>\n",
       "      <td>0.054</td>\n",
       "      <td>0.028628</td>\n",
       "      <td>53.106480</td>\n",
       "      <td>...</td>\n",
       "      <td>7</td>\n",
       "      <td>0</td>\n",
       "      <td>Position ICRS 214.6502668999999 53.10647969000003</td>\n",
       "      <td>0.0000</td>\n",
       "      <td>sdss-dr10</td>\n",
       "      <td>1.493031e+18</td>\n",
       "      <td>0</td>\n",
       "      <td>0</td>\n",
       "      <td>0.0000</td>\n",
       "      <td>0.202653</td>\n",
       "    </tr>\n",
       "    <tr>\n",
       "      <th>W3m0m1_13805</th>\n",
       "      <td>215.003288</td>\n",
       "      <td>0.000834</td>\n",
       "      <td>31</td>\n",
       "      <td>0</td>\n",
       "      <td>0</td>\n",
       "      <td>0.000602</td>\n",
       "      <td>0.011452</td>\n",
       "      <td>0.341</td>\n",
       "      <td>0.028643</td>\n",
       "      <td>53.112236</td>\n",
       "      <td>...</td>\n",
       "      <td>7</td>\n",
       "      <td>0</td>\n",
       "      <td>Position ICRS 215.00328799999977 53.1122355599...</td>\n",
       "      <td>0.0000</td>\n",
       "      <td>sdss-dr10</td>\n",
       "      <td>1.491820e+18</td>\n",
       "      <td>0</td>\n",
       "      <td>0</td>\n",
       "      <td>0.0000</td>\n",
       "      <td>0.200794</td>\n",
       "    </tr>\n",
       "    <tr>\n",
       "      <th>W3m0m1_14097</th>\n",
       "      <td>214.731917</td>\n",
       "      <td>0.001051</td>\n",
       "      <td>31</td>\n",
       "      <td>0</td>\n",
       "      <td>0</td>\n",
       "      <td>0.000762</td>\n",
       "      <td>0.017118</td>\n",
       "      <td>0.308</td>\n",
       "      <td>0.028655</td>\n",
       "      <td>53.108660</td>\n",
       "      <td>...</td>\n",
       "      <td>7</td>\n",
       "      <td>0</td>\n",
       "      <td>Position ICRS 214.7319170999998 53.10865952999999</td>\n",
       "      <td>0.0000</td>\n",
       "      <td>sdss-dr10</td>\n",
       "      <td>1.493029e+18</td>\n",
       "      <td>0</td>\n",
       "      <td>0</td>\n",
       "      <td>0.0000</td>\n",
       "      <td>0.114782</td>\n",
       "    </tr>\n",
       "    <tr>\n",
       "      <th>W3m0m1_14953</th>\n",
       "      <td>214.261103</td>\n",
       "      <td>0.000209</td>\n",
       "      <td>31</td>\n",
       "      <td>0</td>\n",
       "      <td>0</td>\n",
       "      <td>0.000175</td>\n",
       "      <td>-0.003837</td>\n",
       "      <td>0.100</td>\n",
       "      <td>0.028710</td>\n",
       "      <td>53.130319</td>\n",
       "      <td>...</td>\n",
       "      <td>7</td>\n",
       "      <td>0</td>\n",
       "      <td>Position ICRS 214.26110300000002 53.1303185000...</td>\n",
       "      <td>0.0000</td>\n",
       "      <td>sdss-dr10</td>\n",
       "      <td>5.648736e+18</td>\n",
       "      <td>0</td>\n",
       "      <td>0</td>\n",
       "      <td>0.0000</td>\n",
       "      <td>0.773710</td>\n",
       "    </tr>\n",
       "    <tr>\n",
       "      <th>W3m0m1_15171</th>\n",
       "      <td>214.211339</td>\n",
       "      <td>0.000205</td>\n",
       "      <td>31</td>\n",
       "      <td>0</td>\n",
       "      <td>0</td>\n",
       "      <td>0.000118</td>\n",
       "      <td>-0.004166</td>\n",
       "      <td>0.136</td>\n",
       "      <td>0.021400</td>\n",
       "      <td>53.132613</td>\n",
       "      <td>...</td>\n",
       "      <td>5</td>\n",
       "      <td>5</td>\n",
       "      <td>Position ICRS 214.21133930000028 53.1326129599...</td>\n",
       "      <td>3.1838</td>\n",
       "      <td>sdss-dr10</td>\n",
       "      <td>5.649857e+18</td>\n",
       "      <td>0</td>\n",
       "      <td>0</td>\n",
       "      <td>15.4507</td>\n",
       "      <td>0.948875</td>\n",
       "    </tr>\n",
       "  </tbody>\n",
       "</table>\n",
       "<p>5 rows × 102 columns</p>\n",
       "</div>"
      ],
      "text/plain": [
       "              ALPHA_J2000   A_WORLD  BPZ_FILT  BPZ_FLAGFILT  BPZ_NONDETFILT  \\\n",
       "id                                                                            \n",
       "W3m0m1_11696   214.650267  0.000981        31             0               0   \n",
       "W3m0m1_13805   215.003288  0.000834        31             0               0   \n",
       "W3m0m1_14097   214.731917  0.001051        31             0               0   \n",
       "W3m0m1_14953   214.261103  0.000209        31             0               0   \n",
       "W3m0m1_15171   214.211339  0.000205        31             0               0   \n",
       "\n",
       "               B_WORLD    BackGr  CHI_SQUARED_BPZ  CLASS_STAR  DELTA_J2000  \\\n",
       "id                                                                           \n",
       "W3m0m1_11696  0.000760  0.002792            0.054    0.028628    53.106480   \n",
       "W3m0m1_13805  0.000602  0.011452            0.341    0.028643    53.112236   \n",
       "W3m0m1_14097  0.000762  0.017118            0.308    0.028655    53.108660   \n",
       "W3m0m1_14953  0.000175 -0.003837            0.100    0.028710    53.130319   \n",
       "W3m0m1_15171  0.000118 -0.004166            0.136    0.021400    53.132613   \n",
       "\n",
       "                ...     n_exposures_detec  n_exposures_used  \\\n",
       "id              ...                                           \n",
       "W3m0m1_11696    ...                     7                 0   \n",
       "W3m0m1_13805    ...                     7                 0   \n",
       "W3m0m1_14097    ...                     7                 0   \n",
       "W3m0m1_14953    ...                     7                 0   \n",
       "W3m0m1_15171    ...                     5                 5   \n",
       "\n",
       "                                                            pos  scalelength  \\\n",
       "id                                                                             \n",
       "W3m0m1_11696  Position ICRS 214.6502668999999 53.10647969000003       0.0000   \n",
       "W3m0m1_13805  Position ICRS 215.00328799999977 53.1122355599...       0.0000   \n",
       "W3m0m1_14097  Position ICRS 214.7319170999998 53.10865952999999       0.0000   \n",
       "W3m0m1_14953  Position ICRS 214.26110300000002 53.1303185000...       0.0000   \n",
       "W3m0m1_15171  Position ICRS 214.21133930000028 53.1326129599...       3.1838   \n",
       "\n",
       "                 sp_cat     sp_cat_id  star_flag  true_class   weight  \\\n",
       "id                                                                      \n",
       "W3m0m1_11696  sdss-dr10  1.493031e+18          0           0   0.0000   \n",
       "W3m0m1_13805  sdss-dr10  1.491820e+18          0           0   0.0000   \n",
       "W3m0m1_14097  sdss-dr10  1.493029e+18          0           0   0.0000   \n",
       "W3m0m1_14953  sdss-dr10  5.648736e+18          0           0   0.0000   \n",
       "W3m0m1_15171  sdss-dr10  5.649857e+18          0           0  15.4507   \n",
       "\n",
       "                z_spec  \n",
       "id                      \n",
       "W3m0m1_11696  0.202653  \n",
       "W3m0m1_13805  0.200794  \n",
       "W3m0m1_14097  0.114782  \n",
       "W3m0m1_14953  0.773710  \n",
       "W3m0m1_15171  0.948875  \n",
       "\n",
       "[5 rows x 102 columns]"
      ]
     },
     "execution_count": 3,
     "metadata": {},
     "output_type": "execute_result"
    }
   ],
   "source": [
    "df.head()"
   ]
  },
  {
   "cell_type": "markdown",
   "metadata": {},
   "source": [
    "The object IDs of the training set used in the paper are stored in `clens_train_id.txt`. We used these indices to construct the same training set, since we will simply read the save results of TPC, SOMc, and HB from txt files, not run the base classifiers in this notebook."
   ]
  },
  {
   "cell_type": "code",
   "execution_count": 4,
   "metadata": {
    "collapsed": true
   },
   "outputs": [],
   "source": [
    "train_id = pd.read_csv('../data/clens_train_id.txt')\n",
    "train = df.loc[train_id.id]\n",
    "\n",
    "test_id =pd.read_csv('../data/clens_test_id.txt')\n",
    "test = df.loc[test_id.id]"
   ]
  },
  {
   "cell_type": "markdown",
   "metadata": {},
   "source": [
    "It's useful to set aside the truth labels."
   ]
  },
  {
   "cell_type": "code",
   "execution_count": 5,
   "metadata": {
    "collapsed": false
   },
   "outputs": [],
   "source": [
    "truth_train = train['true_class'].values\n",
    "truth_test = test['true_class'].values"
   ]
  },
  {
   "cell_type": "markdown",
   "metadata": {},
   "source": [
    "### Trees for Probabilistic Classification (TPC)\n",
    "\n",
    "Carrasco-Kind & Brunner (2013)\n",
    "\n",
    "TPC is a supervised machine learning technique, which is part of [Machine Learning for photo-Z (MLZ)](http://lcdm.astro.illinois.edu/static/code/mlz/MLZ-1.2/doc/html/) package.\n",
    "\n",
    "We used XSEDE computing resources to run TPC on TACC Stampede with the following parameters (unimportant parameters are omiitted):\n",
    "\n",
    "- Att              : u, g, r, i, z, u-g, g-r, r-i, i-z\n",
    "- PredictionMode   : TPZ_C\n",
    "- PredictionClass  : Class\n",
    "- MinZ             : 0\n",
    "- MaxZ             : 1\n",
    "- NzBins           : 2\n",
    "- NRandom          : 5\n",
    "- NTrees           : 100\n",
    "- Natt             : 3\n",
    "- OobError         : yes\n",
    "- MinLeaf          : 5\n",
    "- ImpurityIndex    : entropy\n",
    "\n",
    "Here, we simply load the results, Out-of-Bag (OOB) and test prediction files."
   ]
  },
  {
   "cell_type": "code",
   "execution_count": 6,
   "metadata": {
    "collapsed": false
   },
   "outputs": [],
   "source": [
    "tpc_cv = np.loadtxt('../paper/data/clens_tpc_oob.mlz', unpack=True, usecols=(2,))\n",
    "tpc_test = np.loadtxt('../paper/data/clens_tpc_test.mlz', unpack=True, usecols=(2,))"
   ]
  },
  {
   "cell_type": "markdown",
   "metadata": {},
   "source": [
    "### Self-Organizing Maps Classification (SOMc)\n",
    "\n",
    "Carrasco-Kind & Brunner (2014)\n",
    "\n",
    "SOMc is an unsupervised machine learning technique, which is also part of [Machine Learning for photo-Z (MLZ)](http://lcdm.astro.illinois.edu/static/code/mlz/MLZ-1.2/doc/html/) package.\n",
    "\n",
    "We used XSEDE computing resources to run SOMc on TACC Stampede with the following parameters (unimportant parameters are omiitted):\n",
    "\n",
    "- Att              : u, g, r, i, z, u-g, g-r, r-i, i-z\n",
    "- PredictionMode   : SOM\n",
    "- PredictionClass  : Class\n",
    "- MinZ             : 0\n",
    "- MaxZ             : 1\n",
    "- NzBins           : 2\n",
    "- NRandom          : 10\n",
    "- NTrees           : 100\n",
    "- Natt             : 6\n",
    "- OobError         : yes\n",
    "- Topology         : sphere\n",
    "- Periodic         : yes\n",
    "- Ntop             : 8\n",
    "- Iterations       : 200\n",
    "- SomType          : online\n",
    "- AlphaStart       : 0.9\n",
    "- AlphaEnd         : 0.5\n",
    "\n",
    "Here, we load the resulting Out-of-Bag (OOB) and test prediction files."
   ]
  },
  {
   "cell_type": "code",
   "execution_count": 7,
   "metadata": {
    "collapsed": false
   },
   "outputs": [],
   "source": [
    "som_cv = np.loadtxt('../paper/data/clens_som_oob.mlz', unpack=True, usecols=(2,))\n",
    "som_test = np.loadtxt('../paper/data/clens_som_test.mlz', unpack=True, usecols=(2,))"
   ]
  },
  {
   "cell_type": "markdown",
   "metadata": {
    "collapsed": true
   },
   "source": [
    "### Heirarchical Bayesian Classifier (HB)\n",
    "\n",
    "Kim, Brunner & Carrasco-Kind (2015)\n",
    "\n",
    "In addition to supervised and unsupervised machine learning algorithms, we have also explored the use of template fitting approach to photometric classification. Following a similar approach to Fadely et al. (2012), we have developed a Hierarchical Bayesian (HB) template fitting routine. In HB template fitting approach, there is no need for additional knowledge outside the observed data and the template SEDs, because the entire sample of sources is used to infer the prior probabilities for each individual source.\n",
    "\n",
    "One of the main ideas of HB is to introduce the hyperparameter $\\mathbf{ϴ}$ to write the probability that a source is a galaxy (or a star) given the observed data $\\mathbf{D}$ as\n",
    "\n",
    "\\begin{equation}\n",
    "P \\left( G | \\mathbf{D} \\right)\n",
    "= P \\left( \\mathbf{D} | G, \\mathbf{\\theta} \\right)\n",
    "P \\left( G | \\mathbf{\\theta} \\right)\n",
    "\\end{equation}\n",
    "\n",
    "The hyperparameter is a nuisance parameter is essentially the misclassification probability that characterizes our uncertainty in the prior distributions. To compute the likelihood that a source is a galaxy, we marginalize over all possible templates:\n",
    "\n",
    "\\begin{equation}\n",
    "P \\left( \\mathbf{D} | G, \\mathbf{\\theta} \\right)\n",
    "= \\sum_{j}\n",
    "P \\left( \\mathbf{D} | t_j, G \\right)\n",
    "P \\left( t_j | G, \\mathbf{\\theta} \\right)\n",
    "\\end{equation}\n",
    "\n",
    "The likelihood of each template is again marginalized over the Gaussian uncertainty in the template-fitting coefficient. Furthermore, for galaxy templates, we introduce another step that marginalizes the likelihood by letting a given galaxy template to be redshifted by a factor of $1+z$. To specify a prior distribution for the fit amplitude, we adopt a flat, uninformative prior distribution across redshifts. Finally, we find the hyperparameters by optimizing the total marginalized likelihood, or sample the posterior probability distribution in the hyperparameter space (with `HGSGC.optimize()`, we can also find the hyperparameters by optmizing the total marginalized likelihood).\n",
    "\n",
    "Although the previous HB star/galaxy classifier by Fadely et al. simply optimized the hyperparameters, our fully parallized implementaion can also sample the hyperparameter space using a Markov Chain Monte Carlo (MCMC) sampler (Foreman-Mackey et al. 2013) using `HBSGC.sample()`."
   ]
  },
  {
   "cell_type": "code",
   "execution_count": 8,
   "metadata": {
    "collapsed": false
   },
   "outputs": [],
   "source": [
    "hbc_all = np.loadtxt('../paper/data/clens_all.hbc', unpack=True, usecols=(0,))\n",
    "hbc_cv = hbc_all[:len(train)]\n",
    "hbc_test = hbc_all[len(train):]"
   ]
  },
  {
   "cell_type": "markdown",
   "metadata": {},
   "source": [
    "### Morphological classification\n",
    "\n",
    "As a first-order morphological selection of point sources, we adopt a rectangluar cut in the half-light radius ($r_h$) vs. magnitude plane, popular among the weak lensing community (Kaiser et al. 1995). We inspect the $r_h$ vs. magnitude diagram visually to determine the cut values."
   ]
  },
  {
   "cell_type": "code",
   "execution_count": 9,
   "metadata": {
    "collapsed": true
   },
   "outputs": [],
   "source": [
    "r_h_cv = train.FLUX_RADIUS.values\n",
    "mag_i_cv = train.MAG_i.values"
   ]
  },
  {
   "cell_type": "code",
   "execution_count": 10,
   "metadata": {
    "collapsed": false
   },
   "outputs": [
    {
     "data": {
      "image/png": "[encoded data removed]",
      "text/plain": [
       "<matplotlib.figure.Figure at 0x7fcb1fcff7d0>"
      ]
     },
     "metadata": {},
     "output_type": "display_data"
    }
   ],
   "source": [
    "mag_i_lower = 17\n",
    "mag_i_upper = 21.0\n",
    "r_h_lower = 1.4\n",
    "r_h_upper = 2.8\n",
    "\n",
    "# select a subset to make the plot not too crowded\n",
    "rows = np.random.choice(xrange(len(r_h_cv)), size=5000)\n",
    "plt.scatter(r_h_cv[rows], mag_i_cv[rows], marker='.', s=5, color='k')\n",
    "plt.xlabel('half-light radius (pixels)')\n",
    "plt.ylabel(r'$i$ (mag)')\n",
    "plt.xlim(0, 6)\n",
    "plt.ylim(16, 25)\n",
    "plt.ylim(plt.ylim()[::-1])\n",
    "\n",
    "plt.plot([r_h_upper, r_h_upper], [mag_i_lower, mag_i_upper], c = 'r')\n",
    "plt.plot([r_h_lower, r_h_lower], [mag_i_lower, mag_i_upper], c = 'r')\n",
    "plt.plot([r_h_lower, r_h_upper], [mag_i_upper, mag_i_upper], c = 'r')\n",
    "plt.plot([r_h_upper, r_h_lower], [mag_i_lower, mag_i_lower], c = 'r')\n",
    "\n",
    "plt.show()"
   ]
  },
  {
   "cell_type": "markdown",
   "metadata": {},
   "source": [
    "A morphological classifier is simple to implement:"
   ]
  },
  {
   "cell_type": "code",
   "execution_count": 11,
   "metadata": {
    "collapsed": false
   },
   "outputs": [],
   "source": [
    "def morph_class(magnitude, half_radius, cut=[0, 25, 1.0, 3.0]):\n",
    "    point_source = ((magnitude > cut[0]) & (magnitude < cut[1]) &\n",
    "                    (half_radius > cut[2]) & (half_radius < cut[3]))\n",
    "    return point_source.astype(np.int)"
   ]
  },
  {
   "cell_type": "code",
   "execution_count": 12,
   "metadata": {
    "collapsed": true
   },
   "outputs": [],
   "source": [
    "morph_cv = morph_class(mag_i_cv, r_h_cv, cut=[mag_i_lower, mag_i_upper, r_h_lower, r_h_upper])"
   ]
  },
  {
   "cell_type": "markdown",
   "metadata": {},
   "source": [
    "We use the same morphological classifier to separate stars from galaxies in the test set."
   ]
  },
  {
   "cell_type": "code",
   "execution_count": 13,
   "metadata": {
    "collapsed": false
   },
   "outputs": [],
   "source": [
    "r_h_test = test.FLUX_RADIUS.values\n",
    "mag_i_test = test.MAG_i.values\n",
    "\n",
    "morph_test = morph_class(mag_i_test, r_h_test, cut=[mag_i_lower, mag_i_upper, r_h_lower, r_h_upper])"
   ]
  },
  {
   "cell_type": "markdown",
   "metadata": {},
   "source": [
    "### Bayesian Model Combination\n",
    "\n",
    "Kim, Brunner & Carrasco-Kind (2015)\n",
    "\n",
    "Collectively, these four methods may represent almost all standard star/galaxy classification approaches published in the literature. It is very likely that any new classification technique would be functionally similar to one of these methods. Therefore, any of these methods could in principle be replaced by a similar method. At this point, there remains the challenge of finding optimal ways to combine our existing implementations.\n",
    "\n",
    "Bayesian Model Combination (BMC) uses Bayesian principles to generate an ensemble combination of different classifiers (Monteith et al. 2011). The probability that a source is a galaxy (or a star) is given by\n",
    "\n",
    "\\begin{equation}\n",
    "P \\left( G | X, \\mathbf{D}, \\mathbf{M}, \\mathbf{E} \\right) =\n",
    "\\sum_{e \\in \\mathbf{E}}\n",
    "P \\left( G | X, \\mathbf{M}, e \\right)\n",
    "P \\left( e | \\mathbf{D} \\right)\n",
    "\\end{equation}\n",
    "\n",
    "where $e$ is an element in the ensemble space $\\mathbf{E}$ of possible model combinations. By Bayes' Theorem, the posterior probability of $e$ given $\\mathbf{D}$ can be calculated by using\n",
    "\n",
    "\\begin{equation}\n",
    "P \\left( e | \\mathbf{D} \\right) =\n",
    "\\frac{ P \\left(e\\right) }{ P \\left( \\mathbf{D} \\right) }\n",
    "\\prod_{i=1}^{n}\n",
    "P \\left( d_i | e \\right)\n",
    "\\propto P \\left( e \\right)\n",
    "\\prod_{i=1}^{n} P \\left( d_i | e \\right)\n",
    "\\end{equation}\n",
    "\n",
    "Although the space $\\mathbf{E}$ of potential model combinations is in principle infinite, it can easily be sampled from in order to produce a reasonable finite set of potential model combinations to test.\n",
    "\n",
    "In our implementation, weights for the first $q$ combinations were drawn from a Dirichlet distribution with uniform alpha values. The posterior probability of a model combination is then calculated for each combination, and the weights from the most probable combination were used to update the alpha values for the distribution from which the next $q$ weight assignments were drawn.\n",
    "\n",
    "First, we import the `bmc` module."
   ]
  },
  {
   "cell_type": "code",
   "execution_count": 14,
   "metadata": {
    "collapsed": false
   },
   "outputs": [],
   "source": [
    "import bmc"
   ]
  },
  {
   "cell_type": "markdown",
   "metadata": {},
   "source": [
    "We need the magnitude, magnitude errors, and colors for BMC."
   ]
  },
  {
   "cell_type": "code",
   "execution_count": 15,
   "metadata": {
    "collapsed": false
   },
   "outputs": [],
   "source": [
    "mags = ['MAG_u', 'MAG_g', 'MAG_r', 'MAG_i', 'MAG_z']\n",
    "magerrs = ['MAGERR_u', 'MAGERR_g', 'MAGERR_r', 'MAGERR_i', 'MAGERR_z']\n",
    "colors = ['u-g', 'g-r', 'r-i', 'i-z']"
   ]
  },
  {
   "cell_type": "markdown",
   "metadata": {},
   "source": [
    "We calculate colors and impute bad/missing values (-99, 99) with the mean values of each field."
   ]
  },
  {
   "cell_type": "code",
   "execution_count": 16,
   "metadata": {
    "collapsed": false
   },
   "outputs": [],
   "source": [
    "def impute_mags(df, mags=None, magerrs=None):\n",
    "    bad_values = [-99, 99]\n",
    "    df[mags + magerrs] = df[mags + magerrs].replace(bad_values, [np.nan] * len(bad_values))\n",
    "    return df.fillna(df[mags + magerrs].mean())\n",
    "\n",
    "def perturb_mags(df, mags=None, magerrs=None):\n",
    "    for m, merr in zip(mags, magerrs):\n",
    "        # set replace merr = 0 with a very small value. necessary to avoid numpy scale == 0 error.\n",
    "        df[merr].where(df[merr] > 0, 1.0e-100, inplace=True)\n",
    "        df[m] = np.random.normal(df[m].values, df[merr].values)\n",
    "    return df\n",
    "\n",
    "def calc_colors(df, colors=None):\n",
    "    for c in colors:\n",
    "        df[c] = df['MAG_' + c[0]] - df['MAG_' + c[2]]\n",
    "    for c in colors:\n",
    "        df[c].where(df[c] < 4, np.nan, inplace = True)\n",
    "        df[c].where(df[c] > -1, np.nan, inplace = True)\n",
    "    df[colors] = df[colors].fillna(df[colors].mean())\n",
    "    return df\n",
    "\n",
    "train = impute_mags(train, mags=mags, magerrs=magerrs)\n",
    "train = calc_colors(train, colors=colors)\n",
    "\n",
    "test = impute_mags(test, mags=mags, magerrs=magerrs)\n",
    "test = calc_colors(test, colors=colors)"
   ]
  },
  {
   "cell_type": "markdown",
   "metadata": {},
   "source": [
    "The class object is unimaginatively named `BMC`."
   ]
  },
  {
   "cell_type": "code",
   "execution_count": 17,
   "metadata": {
    "collapsed": false
   },
   "outputs": [],
   "source": [
    "clf = bmc.BMC()"
   ]
  },
  {
   "cell_type": "markdown",
   "metadata": {},
   "source": [
    "We use only the cross-validation data to calculate the weights. The `fit()` function needs the truth labels for each cross-validation data points (the `truth_train` array). When the \"training\" is done, it prints out\n",
    "\n",
    "    Done creating SOM map."
   ]
  },
  {
   "cell_type": "code",
   "execution_count": 18,
   "metadata": {
    "collapsed": false
   },
   "outputs": [
    {
     "name": "stdout",
     "output_type": "stream",
     "text": [
      "Done creating SOM map.\n"
     ]
    }
   ],
   "source": [
    "base_cv = np.vstack((tpc_cv, som_cv, hbc_cv, morph_cv)).T\n",
    "clf.fit(train[mags + colors].values, base_cv, truth_train)"
   ]
  },
  {
   "cell_type": "markdown",
   "metadata": {},
   "source": [
    "Now we apply the weights to the predictions of each classifier. Note that the truth labels (the `truth_test` array) is not used in the `predict_proba()` function."
   ]
  },
  {
   "cell_type": "code",
   "execution_count": 19,
   "metadata": {
    "collapsed": false
   },
   "outputs": [],
   "source": [
    "base_test = np.vstack((tpc_test, som_test, hbc_test, morph_test)).T\n",
    "clf_test = clf.predict_proba(test[mags + colors].values, base_test)"
   ]
  },
  {
   "cell_type": "markdown",
   "metadata": {},
   "source": [
    "To visualize the SOM projections, let's choose some colors from Seaborn's color pallete."
   ]
  },
  {
   "cell_type": "code",
   "execution_count": 20,
   "metadata": {
    "collapsed": false
   },
   "outputs": [
    {
     "data": {
      "image/png": "[encoded data removed]",
      "text/plain": [
       "<matplotlib.figure.Figure at 0x7fcb1ee71bd0>"
      ]
     },
     "metadata": {},
     "output_type": "display_data"
    }
   ],
   "source": [
    "cmap1 = sns.choose_colorbrewer_palette('sequential', as_cmap=True)"
   ]
  },
  {
   "cell_type": "code",
   "execution_count": 21,
   "metadata": {
    "collapsed": false
   },
   "outputs": [
    {
     "data": {
      "image/png": "[encoded data removed]",
      "text/plain": [
       "<matplotlib.figure.Figure at 0x7fcb15e115d0>"
      ]
     },
     "metadata": {},
     "output_type": "display_data"
    }
   ],
   "source": [
    "cmap2 = sns.choose_colorbrewer_palette('sequential', as_cmap=True)"
   ]
  },
  {
   "cell_type": "code",
   "execution_count": 22,
   "metadata": {
    "collapsed": false
   },
   "outputs": [
    {
     "data": {
      "image/png": "[encoded data removed]",
      "text/plain": [
       "<matplotlib.figure.Figure at 0x7fcb15d4d5d0>"
      ]
     },
     "metadata": {},
     "output_type": "display_data"
    }
   ],
   "source": [
    "cmap3 = sns.choose_colorbrewer_palette('sequential', as_cmap=True)"
   ]
  },
  {
   "cell_type": "code",
   "execution_count": 23,
   "metadata": {
    "collapsed": false
   },
   "outputs": [
    {
     "data": {
      "image/png": "[encoded data removed]",
      "text/plain": [
       "<matplotlib.figure.Figure at 0x7fcb15b37550>"
      ]
     },
     "metadata": {},
     "output_type": "display_data"
    }
   ],
   "source": [
    "cmap4 = sns.choose_colorbrewer_palette('sequential', as_cmap=True)"
   ]
  },
  {
   "cell_type": "markdown",
   "metadata": {},
   "source": [
    "The hybrid `BMC` algorithm creates a SOM cell. These cells are stored in the `cells` directory."
   ]
  },
  {
   "cell_type": "code",
   "execution_count": 24,
   "metadata": {
    "collapsed": true
   },
   "outputs": [],
   "source": [
    "from matplotlib import gridspec\n",
    "\n",
    "n_grid = 10\n",
    "clens_som_cell = np.load('cells/cv_cells.0.npy')\n",
    "\n",
    "# calculate mean values for each cell\n",
    "\n",
    "def calc_cell_mean(x, som_cells, n_grid):\n",
    "    x_cells = np.zeros(n_grid**2)\n",
    "    for i in xrange(n_grid**2):\n",
    "        i_cell = np.where(som_cells == i)\n",
    "        x_cells[i] = x[i_cell].mean()\n",
    "    \n",
    "    return x_cells.reshape((n_grid, n_grid))\n",
    "\n",
    "mag_i_cells = calc_cell_mean(train['MAG_i'].values, clens_som_cell, 10)\n",
    "clr_u_g_cells = calc_cell_mean(train['u-g'].values, clens_som_cell, 10)\n",
    "clr_g_r_cells = calc_cell_mean(train['g-r'].values, clens_som_cell, 10)\n",
    "star_frac_cells = calc_cell_mean(truth_train, clens_som_cell, 10)"
   ]
  },
  {
   "cell_type": "markdown",
   "metadata": {},
   "source": [
    "We plot a two-dimensional 10×10 SOM representation showing the mean $i$-band magnitude (top left), the fraction of true stars in each cell (top right), and the mean values of $u−g$ (bottom left) and $g−r$ (bottom right) for the cross-validation data."
   ]
  },
  {
   "cell_type": "code",
   "execution_count": 25,
   "metadata": {
    "collapsed": false
   },
   "outputs": [
    {
     "data": {
      "image/png": "[encoded data removed]",
      "text/plain": [
       "<matplotlib.figure.Figure at 0x7fcb159c0610>"
      ]
     },
     "metadata": {},
     "output_type": "display_data"
    }
   ],
   "source": [
    "gs = gridspec.GridSpec(2, 3, height_ratios = (1, 1), width_ratios = (9, 9, 1))\n",
    "\n",
    "ax1 = plt.subplot(gs[0, 0])\n",
    "im1 = ax1.matshow(mag_i_cells, cmap=cmap1)\n",
    "ax1.set_xticks([])\n",
    "ax1.set_yticks([])\n",
    "cb1 = plt.colorbar(im1)\n",
    "cb1.set_ticks([16, 18, 20, 22, 24])\n",
    "cb1.set_label(r'$i$')\n",
    "\n",
    "ax2 = plt.subplot(gs[0, 1])\n",
    "im2 = ax2.matshow(star_frac_cells, cmap=cmap2)\n",
    "ax2.set_xticks([])\n",
    "ax2.set_yticks([])\n",
    "cb2 = plt.colorbar(im2)\n",
    "cb2.set_ticks([0, 0.2, 0.4, 0.6, 0.8, 1])\n",
    "cb2.set_label('stellar frac.')\n",
    "\n",
    "ax3 = plt.subplot(gs[1, 0])\n",
    "im3 = ax3.matshow(clr_u_g_cells, cmap=cmap3)\n",
    "ax3.set_xticks([])\n",
    "ax3.set_yticks([])\n",
    "cb3 = plt.colorbar(im3)\n",
    "cb3.set_ticks([0, 0.6, 1.2, 1.8, 2.4])\n",
    "cb3.set_label(r'$u-g$')\n",
    "\n",
    "ax4 = plt.subplot(gs[1, 1])\n",
    "im4 = ax4.matshow(clr_g_r_cells, cmap=cmap4)\n",
    "ax4.set_xticks([])\n",
    "ax4.set_yticks([])\n",
    "cb4 = plt.colorbar(im4)\n",
    "cb4.set_label(r'$g-r$')\n",
    "cb4.set_ticks([0.3, 0.6, 0.9, 1.2, 1.5])\n",
    "\n",
    "plt.show()"
   ]
  },
  {
   "cell_type": "markdown",
   "metadata": {},
   "source": [
    "The relative weights are stored in the `weights` directory. Using the weights, we also plot a two-dimensional 10×10 SOM representation showing the relative weights."
   ]
  },
  {
   "cell_type": "code",
   "execution_count": 26,
   "metadata": {
    "collapsed": false
   },
   "outputs": [
    {
     "data": {
      "image/png": "[encoded data removed]",
      "text/plain": [
       "<matplotlib.figure.Figure at 0x7fcb15da5b90>"
      ]
     },
     "metadata": {},
     "output_type": "display_data"
    }
   ],
   "source": [
    "tpc_cells = np.zeros(n_grid**2)\n",
    "som_cells = np.zeros(n_grid**2)\n",
    "hbc_cells = np.zeros(n_grid**2)\n",
    "morph_cells = np.zeros(n_grid**2)\n",
    "\n",
    "for i in xrange(n_grid**2):\n",
    "    \n",
    "    weights = np.load('weights/bmc_weights.0.' + str(i) + '.npy')\n",
    "\n",
    "    w = np.sum(weights, axis = 0)\n",
    "    w = w / w.sum()\n",
    "\n",
    "    tpc_cells[i] = w[0]\n",
    "    som_cells[i] = w[1]\n",
    "    hbc_cells[i] = w[2]\n",
    "    morph_cells[i] = w[3]\n",
    "\n",
    "tpc_cells = tpc_cells.reshape((n_grid, n_grid))\n",
    "som_cells = som_cells.reshape((n_grid, n_grid))\n",
    "hbc_cells = hbc_cells.reshape((n_grid, n_grid))\n",
    "morph_cells = morph_cells.reshape((n_grid, n_grid))\n",
    "\n",
    "gs = gridspec.GridSpec(2, 3, height_ratios = (1, 1), width_ratios = (9, 9, 1))\n",
    "\n",
    "vmax = np.max([tpc_cells, som_cells, hbc_cells, morph_cells])\n",
    "rotation = 'vertical'\n",
    "\n",
    "ax1 = plt.subplot(gs[0, 0])\n",
    "im1 = ax1.matshow(tpc_cells, vmin=0, vmax=vmax, cmap=cmap1)\n",
    "ax1.set_title('TPC', rotation = rotation, x = -0.1, y = 0.5)\n",
    "ax1.set_xticks([])\n",
    "ax1.set_yticks([])\n",
    "\n",
    "ax2 = plt.subplot(gs[0, 1])\n",
    "ax2.matshow(som_cells, vmin=0, vmax=vmax, cmap=cmap1)\n",
    "ax2.set_title('SOM', rotation = rotation, x = -0.1, y = 0.5)\n",
    "ax2.set_xticks([])\n",
    "ax2.set_yticks([])\n",
    "\n",
    "ax3 = plt.subplot(gs[1, 0])\n",
    "ax3.matshow(hbc_cells, vmin=0, vmax=vmax, cmap=cmap1)\n",
    "ax3.set_title('HB', rotation = rotation, x = -0.1, y = 0.5)\n",
    "ax3.set_xticks([])\n",
    "ax3.set_yticks([])\n",
    "\n",
    "ax4 = plt.subplot(gs[1, 1])\n",
    "ax4.matshow(morph_cells, vmin=0, vmax=vmax, cmap=cmap1)\n",
    "ax4.set_title('Morphology', rotation = rotation, x = -0.1, y = 0.7)\n",
    "ax4.set_xticks([])\n",
    "ax4.set_yticks([])\n",
    "\n",
    "ax5 = plt.subplot(gs[0:, 2])\n",
    "cb1 = plt.colorbar(im1, cax=ax5)\n",
    "cb1.set_label(r'$w$')\n",
    "cb1.set_clim([0, vmax])\n",
    "\n",
    "plt.show()"
   ]
  },
  {
   "cell_type": "markdown",
   "metadata": {},
   "source": [
    "## Rerferences\n",
    "\n",
    "Fadely R., Hogg D. W., Willman B., 2012, ApJ, 760, 15\n",
    "\n",
    "Foreman-Mackey D., Hogg D. W., Lang D., Goodman J., 2013, PASP, 125, 306\n",
    "\n",
    "Hildebrandt H. et al., 2012, MNRAS, 421, 2355\n",
    "\n",
    "Kaiser N., Squires G., Broadhurst T., 1995, ApJ, 449, 460\n",
    "\n",
    "Le Fevre O. et al., 2005, A&A, 439, 845\n",
    "\n",
    "Monteith K., Carroll J. L., Seppi K., Martinez T., 2011, in Neural Networks (IJCNN), The 2011 International Joint Conference on, IEEE, pp. 2657–2663"
   ]
  },
  {
   "cell_type": "code",
   "execution_count": null,
   "metadata": {
    "collapsed": true
   },
   "outputs": [],
   "source": []
  }
 ],
 "metadata": {
  "kernelspec": {
   "display_name": "Python 2",
   "language": "python",
   "name": "python2"
  },
  "language_info": {
   "codemirror_mode": {
    "name": "ipython",
    "version": 2
   },
   "file_extension": ".py",
   "mimetype": "text/x-python",
   "name": "python",
   "nbconvert_exporter": "python",
   "pygments_lexer": "ipython2",
   "version": "2.7.6"
  }
 },
 "nbformat": 4,
 "nbformat_minor": 0
}
