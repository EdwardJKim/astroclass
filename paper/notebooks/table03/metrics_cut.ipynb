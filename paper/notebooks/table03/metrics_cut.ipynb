{
 "cells": [
  {
   "cell_type": "markdown",
   "metadata": {},
   "source": [
    "## Table 3\n",
    "\n",
    "A summary of the classification performance metrics\n",
    "  for the four individual methods\n",
    "  and the four different classification combination methods\n",
    "  when the training data set consists of\n",
    "  only the sources that are in CFHTLS W1 field,\n",
    "  has spectroscopic labels available from VVDS,\n",
    "  and has $i < 22$.\n",
    "  The definition of the metrics is summarized in\n",
    "  Table 1.\n",
    "  The bold entries highlight the best performance values\n",
    "  within each column.}"
   ]
  },
  {
   "cell_type": "code",
   "execution_count": 17,
   "metadata": {
    "collapsed": false
   },
   "outputs": [],
   "source": [
    "from __future__ import division, print_function, unicode_literals\n",
    "import numpy as np"
   ]
  },
  {
   "cell_type": "code",
   "execution_count": 18,
   "metadata": {
    "collapsed": false
   },
   "outputs": [],
   "source": [
    "truth_test = np.loadtxt('../../data/truth_test.dat')"
   ]
  },
  {
   "cell_type": "code",
   "execution_count": 19,
   "metadata": {
    "collapsed": false
   },
   "outputs": [],
   "source": [
    "# load TPC results\n",
    "tpc_test = np.loadtxt('../../data/w1_22_0_tpc_test.mlz', unpack=True, usecols=(2,))"
   ]
  },
  {
   "cell_type": "code",
   "execution_count": 20,
   "metadata": {
    "collapsed": true
   },
   "outputs": [],
   "source": [
    "# load SOMc results\n",
    "som_test = np.loadtxt('../../data/w1_22_0_som_test.mlz', unpack=True, usecols=(2,))"
   ]
  },
  {
   "cell_type": "code",
   "execution_count": 21,
   "metadata": {
    "collapsed": false
   },
   "outputs": [],
   "source": [
    "# load HBC results\n",
    "hbc_all = np.loadtxt('../../data/w1_22_0_median.hbc', unpack=True, usecols=(0,))\n",
    "hbc_cv = hbc_all[:-len(truth_test)]\n",
    "hbc_test = hbc_all[-len(truth_test):]"
   ]
  },
  {
   "cell_type": "code",
   "execution_count": 26,
   "metadata": {
    "collapsed": false
   },
   "outputs": [],
   "source": [
    "wa_test = np.loadtxt('../../data/w1_22_0.flat')\n",
    "bom_test = np.loadtxt('../../data/w1_22_0.bom')\n",
    "stack_test = np.loadtxt('../../data/w1_22_0.stack')\n",
    "bmc_test = np.loadtxt('../../data/w1_22_0.bmc')"
   ]
  },
  {
   "cell_type": "code",
   "execution_count": 27,
   "metadata": {
    "collapsed": false
   },
   "outputs": [],
   "source": [
    "# read in FLUX_RADIUS and MAG_i and make a classification\n",
    "def morph_class(magnitude, half_radius, cut=[0, 25, 1.0, 3.0]):\n",
    "    point_source = ((magnitude > cut[0]) & (magnitude < cut[1]) &\n",
    "                    (half_radius > cut[2]) & (half_radius < cut[3]))\n",
    "    return point_source.astype(np.int)\n",
    "\n",
    "mag_i_lower = 17\n",
    "mag_i_upper = 21.0\n",
    "r_h_lower = 1.4\n",
    "r_h_upper = 2.8\n",
    "\n",
    "r_h_test = np.loadtxt('../../data/flux_radius.test.dat')\n",
    "mag_i_test = np.loadtxt('../../data/mag_i.test.dat')\n",
    "morph_test = morph_class(mag_i_test, r_h_test, cut=[mag_i_lower, mag_i_upper, r_h_lower, r_h_upper])"
   ]
  },
  {
   "cell_type": "code",
   "execution_count": 28,
   "metadata": {
    "collapsed": false
   },
   "outputs": [],
   "source": [
    "# true galaxies classified as stars\n",
    "morph_gs = ((morph_test == 1) & (truth_test == 0)).sum()\n",
    "# true galaxies classified as galaxies\n",
    "morph_gg = ((morph_test == 0) & (truth_test == 0)).sum()\n",
    "# true stars classified as galaxies\n",
    "morph_sg = ((morph_test == 0) & (truth_test == 1)).sum()\n",
    "# true stars classified as stars\n",
    "morph_ss = ((morph_test == 1) & (truth_test == 1)).sum()\n",
    "\n",
    "# galaxy completeness\n",
    "morph_g_comp = morph_gg / (morph_gg + morph_gs)\n",
    "# galaxy purity\n",
    "morph_g_pur = morph_gg / (morph_gg + morph_sg)\n",
    "# star completeness\n",
    "morph_s_comp = morph_ss / (morph_ss + morph_sg)\n",
    "# star purity\n",
    "morph_s_pur = morph_ss / (morph_ss + morph_gs)"
   ]
  },
  {
   "cell_type": "code",
   "execution_count": 29,
   "metadata": {
    "collapsed": false
   },
   "outputs": [
    {
     "name": "stdout",
     "output_type": "stream",
     "text": [
      "{u'BMC': u'\\\\textbf{0.9738}', u'TPC': u'0.9399', u'WA': u'0.9600', u'Stacking': u'0.9442', u'SOM': u'0.8861', u'HB': u'0.9386', u'BoM': u'0.9587', u'Morphology': u'0.8555'}\n"
     ]
    }
   ],
   "source": [
    "all_test = {'TPC': tpc_test,\n",
    "            'SOM': som_test,\n",
    "            'HB': hbc_test,\n",
    "            'Morphology': morph_test,\n",
    "            'WA': wa_test,\n",
    "            'BoM': bom_test,\n",
    "            'Stacking': stack_test,\n",
    "            'BMC': bmc_test}\n",
    "\n",
    "from sklearn.metrics import roc_auc_score\n",
    "\n",
    "auc = {}\n",
    "\n",
    "for k in all_test.keys():\n",
    "    auc[k] = \"%.4f\" % roc_auc_score(truth_test, all_test[k])\n",
    "    \n",
    "max_auc = max(auc, key=auc.get)\n",
    "\n",
    "auc[max_auc] = r\"\\textbf{%s}\" % auc[max_auc]\n",
    "\n",
    "print(auc)"
   ]
  },
  {
   "cell_type": "code",
   "execution_count": 30,
   "metadata": {
    "collapsed": false
   },
   "outputs": [
    {
     "name": "stdout",
     "output_type": "stream",
     "text": [
      "{u'BMC': u'\\\\textbf{0.0291}', u'TPC': u'0.0511', u'WA': u'0.0536', u'Stacking': u'0.1847', u'SOM': u'0.0989', u'HB': u'0.0760', u'BoM': u'0.1511', u'Morphology': u'0.0397'}\n"
     ]
    }
   ],
   "source": [
    "from sklearn.metrics import mean_squared_error\n",
    "\n",
    "mse = {}\n",
    "\n",
    "for k in all_test.keys():\n",
    "    mse[k] = \"%.4f\" % mean_squared_error(truth_test, all_test[k])\n",
    "    \n",
    "min_mse = min(mse, key=mse.get)\n",
    "\n",
    "mse[min_mse] = r\"\\textbf{%s}\" % mse[min_mse]\n",
    "\n",
    "print(mse)"
   ]
  },
  {
   "cell_type": "code",
   "execution_count": 31,
   "metadata": {
    "collapsed": false
   },
   "outputs": [],
   "source": [
    "def calc_completeness_purity(truth, classif, mag, p_cut=0.5, bins=np.arange(16, 26, 0.5)):\n",
    "    '''\n",
    "    '''\n",
    "    # true galaxies classified as stars\n",
    "    gs_bin, _ = np.histogram(mag[(classif > p_cut) & (truth == 0)], bins=bins)\n",
    "    # true galaxies classified as galaxies\n",
    "    gg_bin, _ = np.histogram(mag[(classif < p_cut) & (truth == 0)], bins=bins)\n",
    "    # true stars classified as galaxies\n",
    "    sg_bin, _ = np.histogram(mag[(classif < p_cut) & (truth == 1)], bins=bins)\n",
    "    # true stars classified as stars\n",
    "    ss_bin, _ = np.histogram(mag[(classif > p_cut) & (truth == 1)], bins=bins)\n",
    "\n",
    "    # galaxy completeness\n",
    "    g_comp_bin = gg_bin / (gg_bin + gs_bin)\n",
    "    g_comp_bin[~np.isfinite(g_comp_bin)] = 1\n",
    "    # galaxy purity\n",
    "    g_pur_bin = gg_bin / (gg_bin + sg_bin)\n",
    "    g_pur_bin[~np.isfinite(g_pur_bin)] = 1\n",
    "    # star completeness\n",
    "    s_comp_bin = ss_bin / (ss_bin + sg_bin)\n",
    "    s_comp_bin[~np.isfinite(s_comp_bin)] = 1\n",
    "    # star purity\n",
    "    s_pur_bin = ss_bin / (ss_bin + gs_bin)\n",
    "    s_pur_bin[~np.isfinite(s_pur_bin)] = 1\n",
    "    \n",
    "    return g_comp_bin, g_pur_bin, s_comp_bin, s_pur_bin\n",
    "\n",
    "    \n",
    "def find_purity_at(truth_test, clf, step=0.001, gc=None, sc=None):\n",
    "    \n",
    "    if bool(gc) == bool(sc):\n",
    "        raise Exception('Specify only one of gp or sp parameter.')\n",
    "\n",
    "    pbin = np.arange(0, 1, step)\n",
    "    \n",
    "    pure_all = np.zeros(len(pbin))\n",
    "    comp_all = np.zeros(len(pbin))\n",
    "    \n",
    "    for i, p in enumerate(pbin):\n",
    "        \n",
    "        # true galaxies classified as stars\n",
    "        gs = ((clf >= p) & (truth_test == 0)).sum()\n",
    "        # true galaxies classified as galaxies\n",
    "        gg = ((clf < p) & (truth_test == 0)).sum()\n",
    "        # true stars classified as galaxies\n",
    "        sg = ((clf < p) & (truth_test == 1)).sum()\n",
    "        # true stars classified as stars\n",
    "        ss = ((clf >= p) & (truth_test == 1)).sum()\n",
    "    \n",
    "        if gc is not None:\n",
    "            if gg == 0 and gg + sg == 0:\n",
    "                pure_all[i] = 1\n",
    "            else:\n",
    "                pure_all[i] = gg / (gg + sg)\n",
    "            if gg == 0 and gg + gs == 0:\n",
    "                comp_all[i] = 1\n",
    "            else:\n",
    "                comp_all[i] = gg / (gg + gs)\n",
    "            \n",
    "        if sc is not None:\n",
    "            if ss == 0 and ss + sg == 0:\n",
    "                comp_all[i] = 1\n",
    "            else:\n",
    "                comp_all[i] = ss / (ss + sg)\n",
    "            if ss == 0 and ss + gs == 0:\n",
    "                pure_all[i] = 1\n",
    "            else:\n",
    "                pure_all[i] = ss / (ss + gs)\n",
    "    \n",
    "    if gc is not None:\n",
    "        ibin = np.argmin(np.abs(comp_all - gc))\n",
    "        return pbin[ibin], pure_all[ibin]\n",
    "    \n",
    "    if sc is not None:\n",
    "        ibin = np.argmin(np.abs(comp_all - sc))\n",
    "        return pbin[ibin], pure_all[ibin]"
   ]
  },
  {
   "cell_type": "code",
   "execution_count": 32,
   "metadata": {
    "collapsed": false
   },
   "outputs": [
    {
     "name": "stdout",
     "output_type": "stream",
     "text": [
      "{u'BMC': u'\\\\textbf{0.9696}', u'TPC': u'0.9350', u'WA': u'0.9208', u'Stacking': u'0.9561', u'SOM': u'0.8843', u'HB': u'0.9325', u'BoM': u'0.9658', u'Morphology': u'0.9597'}\n"
     ]
    }
   ],
   "source": [
    "g_pur1 = {}\n",
    "\n",
    "for k in all_test.keys():\n",
    "    i, j = find_purity_at(truth_test, all_test[k], gc=morph_g_comp, step=0.001)\n",
    "    g_pur1[k] = \"%.4f\" % j\n",
    "    \n",
    "max_g_pur1 = max(g_pur1, key=g_pur1.get)\n",
    "g_pur1[max_g_pur1] = r\"\\textbf{%s}\" % g_pur1[max_g_pur1]\n",
    "print(g_pur1)"
   ]
  },
  {
   "cell_type": "code",
   "execution_count": 33,
   "metadata": {
    "collapsed": false
   },
   "outputs": [
    {
     "name": "stdout",
     "output_type": "stream",
     "text": [
      "{u'BMC': u'$\\\\textbf{0.9862}$', u'TPC': u'0.7060', u'WA': u'0.8818', u'Stacking': u'0.9309', u'SOM': u'0.4316', u'HB': u'0.6911', u'BoM': u'0.9862', u'Morphology': u'0.9666'}\n"
     ]
    }
   ],
   "source": [
    "s_pur1 = {}\n",
    "\n",
    "for k in all_test.keys():\n",
    "    i, j = find_purity_at(truth_test, all_test[k], sc=morph_s_comp, step=0.001)\n",
    "    s_pur1[k] = \"%.4f\" % j\n",
    "    \n",
    "max_s_pur1 = max(s_pur1, key=s_pur1.get)\n",
    "s_pur1[max_s_pur1] = r\"$\\textbf{%s}$\" % s_pur1[max_s_pur1]\n",
    "print(s_pur1)"
   ]
  },
  {
   "cell_type": "code",
   "execution_count": 34,
   "metadata": {
    "collapsed": false
   },
   "outputs": [
    {
     "name": "stdout",
     "output_type": "stream",
     "text": [
      "{u'BMC': u'$\\\\textbf{0.9856}$', u'TPC': u'0.9570', u'WA': u'0.9757', u'Stacking': u'0.9664', u'SOM': u'0.9165', u'HB': u'0.9424', u'BoM': u'0.9790', u'Morphology': u'0.9597'}\n"
     ]
    }
   ],
   "source": [
    "g_pur2 = {}\n",
    "\n",
    "for k in all_test.keys():\n",
    "    i, j = find_purity_at(truth_test, all_test[k], gc=0.96, step=0.001)\n",
    "    g_pur2[k] = \"%.4f\" % j\n",
    "    \n",
    "max_g_pur2 = max(g_pur2, key=g_pur2.get)\n",
    "g_pur2[max_g_pur2] = r\"$\\textbf{%s}$\" % g_pur2[max_g_pur2]\n",
    "print(g_pur2)         "
   ]
  },
  {
   "cell_type": "code",
   "execution_count": 35,
   "metadata": {
    "collapsed": false
   },
   "outputs": [
    {
     "name": "stdout",
     "output_type": "stream",
     "text": [
      "{u'BMC': u'\\\\textbf{1.0000}', u'TPC': u'0.9747', u'WA': u'0.9815', u'Stacking': u'0.9983', u'SOM': u'0.6263', u'HB': u'0.6918', u'BoM': u'0.9977', u'Morphology': u'0.9666'}\n"
     ]
    }
   ],
   "source": [
    "s_pur2 = {}\n",
    "for k in all_test.keys():\n",
    "    i, j = find_purity_at(truth_test, all_test[k], sc=0.25, step=0.001)\n",
    "    s_pur2[k] = \"%.4f\" % j\n",
    "    \n",
    "max_s_pur2 = max(s_pur2, key=s_pur2.get)\n",
    "s_pur2[max_s_pur2] = r\"\\textbf{%s}\" % s_pur2[max_s_pur2]\n",
    "print(s_pur2)"
   ]
  },
  {
   "cell_type": "code",
   "execution_count": 36,
   "metadata": {
    "collapsed": false
   },
   "outputs": [
    {
     "name": "stdout",
     "output_type": "stream",
     "text": [
      "\\begin{tabular}{l c c c c c c}\n",
      "  Classifier & AUC & MSE &\n",
      "  $p_{g}\\left(c_g=0.9964\\right)$ & $p_{s}\\left(c_s=0.7145\\right)$ &\n",
      "  $p_{g}\\left(c_g=0.9600\\right)$ & $p_{s}\\left(c_s=0.2500\\right)$ \\\\\n",
      "  \\hline\n",
      "  TPC        & 0.9399 & 0.0511 & 0.9350 & 0.7060 & 0.9570 & 0.9747 \\\\\n",
      "  SOMc       & 0.8861 & 0.0989 & 0.8843 & 0.4316 & 0.9165 & 0.6263 \\\\\n",
      "  HB         & 0.9386 & 0.0760 & 0.9325 & 0.6911 & 0.9424 & 0.6918 \\\\\n",
      "  Morphology & - & 0.0397 & 0.9597 & 0.9666 & - & - \\\\\n",
      "  WA         & 0.9600 & 0.0536 & 0.9208 & 0.8818 & 0.9757 & 0.9815 \\\\\n",
      "  BoM        & 0.9587 & 0.1511 & 0.9658 & 0.9862 & 0.9790 & 0.9977 \\\\\n",
      "  Stacking   & 0.9442 & 0.1847 & 0.9561 & 0.9309 & 0.9664 & 0.9983 \\\\\n",
      "  BMC        & \\textbf{0.9738} & \\textbf{0.0291} & \\textbf{0.9696} & $\\textbf{0.9862}$ & $\\textbf{0.9856}$ & \\textbf{1.0000} \\\\\n",
      "\\end{tabular}\n"
     ]
    }
   ],
   "source": [
    "output = r\"\"\"\\begin{tabular}{l c c c c c c}\n",
    "  Classifier & AUC & MSE &\n",
    "  $p_{g}\\left(c_g=%.4f\\right)$ & $p_{s}\\left(c_s=%.4f\\right)$ &\n",
    "  $p_{g}\\left(c_g=0.9600\\right)$ & $p_{s}\\left(c_s=0.2500\\right)$ \\\\\n",
    "  \\hline\n",
    "  TPC        & %s & %s & %s & %s & %s & %s \\\\\n",
    "  SOMc       & %s & %s & %s & %s & %s & %s \\\\\n",
    "  HB         & %s & %s & %s & %s & %s & %s \\\\\n",
    "  Morphology & %s & %s & %s & %s & %s & %s \\\\\n",
    "  WA         & %s & %s & %s & %s & %s & %s \\\\\n",
    "  BoM        & %s & %s & %s & %s & %s & %s \\\\\n",
    "  Stacking   & %s & %s & %s & %s & %s & %s \\\\\n",
    "  BMC        & %s & %s & %s & %s & %s & %s \\\\\n",
    "\\end{tabular}\"\"\" % (morph_g_comp, morph_s_comp,\n",
    "                    auc['TPC'], mse['TPC'], g_pur1['TPC'], s_pur1['TPC'], g_pur2['TPC'], s_pur2['TPC'],\n",
    "                    auc['SOM'], mse['SOM'], g_pur1['SOM'], s_pur1['SOM'], g_pur2['SOM'], s_pur2['SOM'],\n",
    "                    auc['HB'], mse['HB'],  g_pur1['HB'],  s_pur1['HB'],  g_pur2['HB'], s_pur2['HB'],\n",
    "                    '-', mse['Morphology'], g_pur1['Morphology'], s_pur1['Morphology'], '-', '-',\n",
    "                    auc['WA'], mse['WA'], g_pur1['WA'], s_pur1['WA'], g_pur2['WA'], s_pur2['WA'],\n",
    "                    auc['BoM'], mse['BoM'], g_pur1['BoM'], s_pur1['BoM'], g_pur2['BoM'], s_pur2['BoM'],\n",
    "                    auc['Stacking'], mse['Stacking'], g_pur1['Stacking'], s_pur1['Stacking'], g_pur2['Stacking'], s_pur2['Stacking'],\n",
    "                    auc['BMC'], mse['BMC'], g_pur1['BMC'], s_pur1['BMC'], g_pur2['BMC'], s_pur2['BMC']\n",
    "                    )\n",
    "\n",
    "print(output)"
   ]
  },
  {
   "cell_type": "code",
   "execution_count": 37,
   "metadata": {
    "collapsed": false
   },
   "outputs": [],
   "source": [
    "with open('../../tables/metrics_cut.tex', 'w') as f:\n",
    "    f.write(output)"
   ]
  },
  {
   "cell_type": "code",
   "execution_count": null,
   "metadata": {
    "collapsed": true
   },
   "outputs": [],
   "source": []
  }
 ],
 "metadata": {
  "kernelspec": {
   "display_name": "Python 2",
   "name": "python2"
  },
  "language_info": {
   "codemirror_mode": {
    "name": "ipython",
    "version": 2
   },
   "file_extension": ".py",
   "mimetype": "text/x-python",
   "name": "python",
   "nbconvert_exporter": "python",
   "pygments_lexer": "ipython2",
   "version": "2.7.6"
  }
 },
 "nbformat": 4,
 "nbformat_minor": 0
}
