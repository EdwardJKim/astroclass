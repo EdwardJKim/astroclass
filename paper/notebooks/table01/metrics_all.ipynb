{
 "cells": [
  {
   "cell_type": "code",
   "execution_count": 1,
   "metadata": {
    "collapsed": false
   },
   "outputs": [],
   "source": [
    "from __future__ import division, print_function, unicode_literals\n",
    "import numpy as np"
   ]
  },
  {
   "cell_type": "code",
   "execution_count": 2,
   "metadata": {
    "collapsed": true
   },
   "outputs": [],
   "source": [
    "truth_train = np.loadtxt('../../data/truth_train.dat')\n",
    "truth_test = np.loadtxt('../../data/truth_test.dat')"
   ]
  },
  {
   "cell_type": "code",
   "execution_count": 3,
   "metadata": {
    "collapsed": false
   },
   "outputs": [],
   "source": [
    "# load TPC results\n",
    "tpc_cv = np.loadtxt('../../data/clens_tpc_oob.mlz', unpack=True, usecols=(2,))\n",
    "tpc_test = np.loadtxt('../../data/clens_tpc_test.mlz', unpack=True, usecols=(2,))"
   ]
  },
  {
   "cell_type": "code",
   "execution_count": 4,
   "metadata": {
    "collapsed": true
   },
   "outputs": [],
   "source": [
    "# load SOMc results\n",
    "som_cv = np.loadtxt('../../data/clens_som_oob.mlz', unpack=True, usecols=(2,))\n",
    "som_test = np.loadtxt('../../data/clens_som_test.mlz', unpack=True, usecols=(2,))"
   ]
  },
  {
   "cell_type": "code",
   "execution_count": 5,
   "metadata": {
    "collapsed": false
   },
   "outputs": [],
   "source": [
    "# load HBC results\n",
    "hbc_all = np.loadtxt('../../data/clens_all.hbc', unpack=True, usecols=(0,))\n",
    "hbc_cv = hbc_all[:len(truth_train)]\n",
    "hbc_test = hbc_all[len(truth_train):]"
   ]
  },
  {
   "cell_type": "code",
   "execution_count": 6,
   "metadata": {
    "collapsed": false
   },
   "outputs": [],
   "source": [
    "wa_test = np.loadtxt('../../data/clens_test.wa')\n",
    "bom_test = np.loadtxt('../../data/clens_test.bom')\n",
    "stack_test = np.loadtxt('../../data/clens_test.stack')\n",
    "bmc_test = np.loadtxt('../../data/clens_test.bmc')"
   ]
  },
  {
   "cell_type": "code",
   "execution_count": 7,
   "metadata": {
    "collapsed": false
   },
   "outputs": [],
   "source": [
    "# read in FLUX_RADIUS and MAG_i and make a classification\n",
    "def morph_class(magnitude, half_radius, cut=[0, 25, 1.0, 3.0]):\n",
    "    point_source = ((magnitude > cut[0]) & (magnitude < cut[1]) &\n",
    "                    (half_radius > cut[2]) & (half_radius < cut[3]))\n",
    "    return point_source.astype(np.int)\n",
    "\n",
    "mag_i_lower = 17\n",
    "mag_i_upper = 21.0\n",
    "r_h_lower = 1.4\n",
    "r_h_upper = 2.8\n",
    "\n",
    "r_h_cv = np.loadtxt('../../data/flux_radius.train.dat')\n",
    "mag_i_cv = np.loadtxt('../../data/mag_i.train.dat')\n",
    "morph_cv = morph_class(mag_i_cv, r_h_cv, cut=[mag_i_lower, mag_i_upper, r_h_lower, r_h_upper])\n",
    "r_h_test = np.loadtxt('../../data/flux_radius.test.dat')\n",
    "mag_i_test = np.loadtxt('../../data/mag_i.test.dat')\n",
    "morph_test = morph_class(mag_i_test, r_h_test, cut=[mag_i_lower, mag_i_upper, r_h_lower, r_h_upper])"
   ]
  },
  {
   "cell_type": "code",
   "execution_count": 8,
   "metadata": {
    "collapsed": false
   },
   "outputs": [],
   "source": [
    "# true galaxies classified as stars\n",
    "morph_gs = ((morph_test == 1) & (truth_test == 0)).sum()\n",
    "# true galaxies classified as galaxies\n",
    "morph_gg = ((morph_test == 0) & (truth_test == 0)).sum()\n",
    "# true stars classified as galaxies\n",
    "morph_sg = ((morph_test == 0) & (truth_test == 1)).sum()\n",
    "# true stars classified as stars\n",
    "morph_ss = ((morph_test == 1) & (truth_test == 1)).sum()\n",
    "\n",
    "# galaxy completeness\n",
    "morph_g_comp = morph_gg / (morph_gg + morph_gs)\n",
    "# galaxy purity\n",
    "morph_g_pur = morph_gg / (morph_gg + morph_sg)\n",
    "# star completeness\n",
    "morph_s_comp = morph_ss / (morph_ss + morph_sg)\n",
    "# star purity\n",
    "morph_s_pur = morph_ss / (morph_ss + morph_gs)"
   ]
  },
  {
   "cell_type": "code",
   "execution_count": 9,
   "metadata": {
    "collapsed": false
   },
   "outputs": [
    {
     "name": "stdout",
     "output_type": "stream",
     "text": [
      "{u'BMC': u'0.9852', u'TPC': u'\\\\textbf{0.9870}', u'WA': u'0.9806', u'Stacking': u'0.9842', u'SOM': u'0.9683', u'HB': u'0.9403', u'BoM': u'0.9870', u'Morphology': u'0.8555'}\n"
     ]
    }
   ],
   "source": [
    "all_test = {'TPC': tpc_test,\n",
    "            'SOM': som_test,\n",
    "            'HB': hbc_test,\n",
    "            'Morphology': morph_test,\n",
    "            'WA': wa_test,\n",
    "            'BoM': bom_test,\n",
    "            'Stacking': stack_test,\n",
    "            'BMC': bmc_test}\n",
    "\n",
    "from sklearn.metrics import roc_auc_score\n",
    "\n",
    "auc = {}\n",
    "\n",
    "for k in all_test.keys():\n",
    "    auc[k] = \"%.4f\" % roc_auc_score(truth_test, all_test[k])\n",
    "    \n",
    "max_auc = max(auc, key=auc.get)\n",
    "\n",
    "auc[max_auc] = r\"\\textbf{%s}\" % auc[max_auc]\n",
    "\n",
    "print(auc)"
   ]
  },
  {
   "cell_type": "code",
   "execution_count": 10,
   "metadata": {
    "collapsed": false
   },
   "outputs": [
    {
     "name": "stdout",
     "output_type": "stream",
     "text": [
      "{u'BMC': u'\\\\textbf{0.0174}', u'TPC': u'0.0208', u'WA': u'0.0266', u'Stacking': u'0.0194', u'SOM': u'0.0452', u'HB': u'0.0705', u'BoM': u'0.0208', u'Morphology': u'0.0397'}\n"
     ]
    }
   ],
   "source": [
    "from sklearn.metrics import mean_squared_error\n",
    "\n",
    "mse = {}\n",
    "\n",
    "for k in all_test.keys():\n",
    "    mse[k] = \"%.4f\" % mean_squared_error(truth_test, all_test[k])\n",
    "    \n",
    "min_mse = min(mse, key=mse.get)\n",
    "\n",
    "mse[min_mse] = r\"\\textbf{%s}\" % mse[min_mse]\n",
    "\n",
    "print(mse)"
   ]
  },
  {
   "cell_type": "code",
   "execution_count": 11,
   "metadata": {
    "collapsed": false
   },
   "outputs": [],
   "source": [
    "def calc_completeness_purity(truth, classif, mag, p_cut=0.5, bins=np.arange(16, 26, 0.5)):\n",
    "    '''\n",
    "    '''\n",
    "    # true galaxies classified as stars\n",
    "    gs_bin, _ = np.histogram(mag[(classif > p_cut) & (truth == 0)], bins=bins)\n",
    "    # true galaxies classified as galaxies\n",
    "    gg_bin, _ = np.histogram(mag[(classif < p_cut) & (truth == 0)], bins=bins)\n",
    "    # true stars classified as galaxies\n",
    "    sg_bin, _ = np.histogram(mag[(classif < p_cut) & (truth == 1)], bins=bins)\n",
    "    # true stars classified as stars\n",
    "    ss_bin, _ = np.histogram(mag[(classif > p_cut) & (truth == 1)], bins=bins)\n",
    "\n",
    "    # galaxy completeness\n",
    "    g_comp_bin = gg_bin / (gg_bin + gs_bin)\n",
    "    g_comp_bin[~np.isfinite(g_comp_bin)] = 1\n",
    "    # galaxy purity\n",
    "    g_pur_bin = gg_bin / (gg_bin + sg_bin)\n",
    "    g_pur_bin[~np.isfinite(g_pur_bin)] = 1\n",
    "    # star completeness\n",
    "    s_comp_bin = ss_bin / (ss_bin + sg_bin)\n",
    "    s_comp_bin[~np.isfinite(s_comp_bin)] = 1\n",
    "    # star purity\n",
    "    s_pur_bin = ss_bin / (ss_bin + gs_bin)\n",
    "    s_pur_bin[~np.isfinite(s_pur_bin)] = 1\n",
    "    \n",
    "    return g_comp_bin, g_pur_bin, s_comp_bin, s_pur_bin\n",
    "\n",
    "    \n",
    "def find_purity_at(truth_test, clf, step=0.001, gc=None, sc=None):\n",
    "    \n",
    "    if bool(gc) == bool(sc):\n",
    "        raise Exception('Specify only one of gp or sp parameter.')\n",
    "\n",
    "    pbin = np.arange(0, 1, step)\n",
    "    \n",
    "    pure_all = np.zeros(len(pbin))\n",
    "    comp_all = np.zeros(len(pbin))\n",
    "    \n",
    "    for i, p in enumerate(pbin):\n",
    "        \n",
    "        # true galaxies classified as stars\n",
    "        gs = ((clf >= p) & (truth_test == 0)).sum()\n",
    "        # true galaxies classified as galaxies\n",
    "        gg = ((clf < p) & (truth_test == 0)).sum()\n",
    "        # true stars classified as galaxies\n",
    "        sg = ((clf < p) & (truth_test == 1)).sum()\n",
    "        # true stars classified as stars\n",
    "        ss = ((clf >= p) & (truth_test == 1)).sum()\n",
    "    \n",
    "        if gc is not None:\n",
    "            if gg == 0 and gg + sg == 0:\n",
    "                pure_all[i] = 1\n",
    "            else:\n",
    "                pure_all[i] = gg / (gg + sg)\n",
    "            if gg == 0 and gg + gs == 0:\n",
    "                comp_all[i] = 1\n",
    "            else:\n",
    "                comp_all[i] = gg / (gg + gs)\n",
    "            \n",
    "        if sc is not None:\n",
    "            if ss == 0 and ss + sg == 0:\n",
    "                comp_all[i] = 1\n",
    "            else:\n",
    "                comp_all[i] = ss / (ss + sg)\n",
    "            if ss == 0 and ss + gs == 0:\n",
    "                pure_all[i] = 1\n",
    "            else:\n",
    "                pure_all[i] = ss / (ss + gs)\n",
    "    \n",
    "    if gc is not None:\n",
    "        ibin = np.argmin(np.abs(comp_all - gc))\n",
    "        return pbin[ibin], pure_all[ibin]\n",
    "    \n",
    "    if sc is not None:\n",
    "        ibin = np.argmin(np.abs(comp_all - sc))\n",
    "        return pbin[ibin], pure_all[ibin]"
   ]
  },
  {
   "cell_type": "code",
   "execution_count": 12,
   "metadata": {
    "collapsed": false
   },
   "outputs": [
    {
     "name": "stdout",
     "output_type": "stream",
     "text": [
      "{u'BMC': u'\\\\textbf{0.9800}', u'TPC': u'0.9714', u'WA': u'0.9755', u'Stacking': u'0.9752', u'SOM': u'0.9125', u'HB': u'0.9219', u'BoM': u'0.9714', u'Morphology': u'0.9597'}\n"
     ]
    }
   ],
   "source": [
    "g_pur1 = {}\n",
    "\n",
    "for k in all_test.keys():\n",
    "    i, j = find_purity_at(truth_test, all_test[k], gc=morph_g_comp, step=0.0001)\n",
    "    g_pur1[k] = \"%.4f\" % j\n",
    "    \n",
    "max_g_pur1 = max(g_pur1, key=g_pur1.get)\n",
    "g_pur1[max_g_pur1] = r\"\\textbf{%s}\" % g_pur1[max_g_pur1]\n",
    "print(g_pur1)"
   ]
  },
  {
   "cell_type": "code",
   "execution_count": 13,
   "metadata": {
    "collapsed": false
   },
   "outputs": [
    {
     "name": "stdout",
     "output_type": "stream",
     "text": [
      "{u'BMC': u'$\\\\textbf{0.9959}$', u'TPC': u'0.9838', u'WA': u'0.9926', u'Stacking': u'0.9902', u'SOM': u'0.8454', u'HB': u'0.7017', u'BoM': u'0.9838', u'Morphology': u'0.9666'}\n"
     ]
    }
   ],
   "source": [
    "s_pur1 = {}\n",
    "\n",
    "for k in all_test.keys():\n",
    "    i, j = find_purity_at(truth_test, all_test[k], sc=morph_s_comp, step=0.0001)\n",
    "    s_pur1[k] = \"%.4f\" % j\n",
    "    \n",
    "max_s_pur1 = max(s_pur1, key=s_pur1.get)\n",
    "s_pur1[max_s_pur1] = r\"$\\textbf{%s}$\" % s_pur1[max_s_pur1]\n",
    "print(s_pur1)"
   ]
  },
  {
   "cell_type": "code",
   "execution_count": 14,
   "metadata": {
    "collapsed": false
   },
   "outputs": [
    {
     "name": "stdout",
     "output_type": "stream",
     "text": [
      "{u'BMC': u'$\\\\textbf{0.9924}$', u'TPC': u'0.9918', u'WA': u'0.9872', u'Stacking': u'0.9918', u'SOM': u'0.9788', u'HB': u'0.9471', u'BoM': u'0.9918', u'Morphology': u'0.9597'}\n"
     ]
    }
   ],
   "source": [
    "g_pur2 = {}\n",
    "\n",
    "for k in all_test.keys():\n",
    "    i, j = find_purity_at(truth_test, all_test[k], gc=0.96, step=0.0001)\n",
    "    g_pur2[k] = \"%.4f\" % j\n",
    "    \n",
    "max_g_pur2 = max(g_pur2, key=g_pur2.get)\n",
    "g_pur2[max_g_pur2] = r\"$\\textbf{%s}$\" % g_pur2[max_g_pur2]\n",
    "print(g_pur2)"
   ]
  },
  {
   "cell_type": "code",
   "execution_count": 15,
   "metadata": {
    "collapsed": false
   },
   "outputs": [],
   "source": [
    "s_pur2 = {}\n",
    "for k in all_test.keys():\n",
    "    i, j = find_purity_at(truth_test, all_test[k], sc=0.25, step=0.0001)\n",
    "    s_pur2[k] = \"%.4f\" % j\n",
    "    \n",
    "#max_s_pur2 = max(s_pur2, key=s_pur2.get)\n",
    "#s_pur2[max_s_pur2] = r\"\\mathbf{%s}\" % s_pur2[max_s_pur2]\n",
    "#print(s_pur2)"
   ]
  },
  {
   "cell_type": "code",
   "execution_count": 16,
   "metadata": {
    "collapsed": false
   },
   "outputs": [
    {
     "name": "stdout",
     "output_type": "stream",
     "text": [
      "\\begin{tabular}{l c c c c c c}\n",
      "  Classifier & AUC & MSE &\n",
      "  $p_{g}\\left(c_g=0.9964\\right)$ & $p_{s}\\left(c_s=0.7145\\right)$ &\n",
      "  $p_{g}\\left(c_g=0.9600\\right)$ & $p_{s}\\left(c_s=0.2500\\right)$ \\\\\n",
      "  \\hline\n",
      "  TPC        & \\textbf{0.9870} & 0.0208 & 0.9714 & 0.9838 & 0.9918 & 0.9977 \\\\\n",
      "  SOMc       & 0.9683 & 0.0452 & 0.9125 & 0.8454 & 0.9788 & 0.9551 \\\\\n",
      "  HB         & 0.9403 & 0.0705 & 0.9219 & 0.7017 & 0.9471 & 0.6963 \\\\\n",
      "  Morphology & - & 0.0397 & 0.9597 & 0.9666 & - & - \\\\\n",
      "  WA         & 0.9806 & 0.0266 & 0.9755 & 0.9926 & 0.9872 & 0.9977 \\\\\n",
      "  BoM        & 0.9870 & 0.0208 & 0.9714 & 0.9838 & 0.9918 & 0.9977 \\\\\n",
      "  Stacking   & 0.9842 & 0.0194 & 0.9752 & 0.9902 & 0.9918 & 1.0000 \\\\\n",
      "  BMC        & 0.9852 & \\textbf{0.0174} & \\textbf{0.9800} & $\\textbf{0.9959}$ & $\\textbf{0.9924}$ & 1.0000 \\\\\n",
      "\\end{tabular}\n"
     ]
    }
   ],
   "source": [
    "output = r\"\"\"\\begin{tabular}{l c c c c c c}\n",
    "  Classifier & AUC & MSE &\n",
    "  $p_{g}\\left(c_g=%.4f\\right)$ & $p_{s}\\left(c_s=%.4f\\right)$ &\n",
    "  $p_{g}\\left(c_g=0.9600\\right)$ & $p_{s}\\left(c_s=0.2500\\right)$ \\\\\n",
    "  \\hline\n",
    "  TPC        & %s & %s & %s & %s & %s & %s \\\\\n",
    "  SOMc       & %s & %s & %s & %s & %s & %s \\\\\n",
    "  HB         & %s & %s & %s & %s & %s & %s \\\\\n",
    "  Morphology & %s & %s & %s & %s & %s & %s \\\\\n",
    "  WA         & %s & %s & %s & %s & %s & %s \\\\\n",
    "  BoM        & %s & %s & %s & %s & %s & %s \\\\\n",
    "  Stacking   & %s & %s & %s & %s & %s & %s \\\\\n",
    "  BMC        & %s & %s & %s & %s & %s & %s \\\\\n",
    "\\end{tabular}\"\"\" % (morph_g_comp, morph_s_comp,\n",
    "                    auc['TPC'], mse['TPC'], g_pur1['TPC'], s_pur1['TPC'], g_pur2['TPC'], s_pur2['TPC'],\n",
    "                    auc['SOM'], mse['SOM'], g_pur1['SOM'], s_pur1['SOM'], g_pur2['SOM'], s_pur2['SOM'],\n",
    "                    auc['HB'], mse['HB'],  g_pur1['HB'],  s_pur1['HB'],  g_pur2['HB'], s_pur2['HB'],\n",
    "                    '-', mse['Morphology'], g_pur1['Morphology'], s_pur1['Morphology'], '-', '-',\n",
    "                    auc['WA'], mse['WA'], g_pur1['WA'], s_pur1['WA'], g_pur2['WA'], s_pur2['WA'],\n",
    "                    auc['BoM'], mse['BoM'], g_pur1['BoM'], s_pur1['BoM'], g_pur2['BoM'], s_pur2['BoM'],\n",
    "                    auc['Stacking'], mse['Stacking'], g_pur1['Stacking'], s_pur1['Stacking'], g_pur2['Stacking'], s_pur2['Stacking'],\n",
    "                    auc['BMC'], mse['BMC'], g_pur1['BMC'], s_pur1['BMC'], g_pur2['BMC'], s_pur2['BMC']\n",
    "                    )\n",
    "\n",
    "print(output)"
   ]
  },
  {
   "cell_type": "code",
   "execution_count": 17,
   "metadata": {
    "collapsed": false
   },
   "outputs": [],
   "source": [
    "with open('../../tables/metrics_all.tex', 'w') as f:\n",
    "    f.write(output)"
   ]
  },
  {
   "cell_type": "code",
   "execution_count": 17,
   "metadata": {
    "collapsed": true
   },
   "outputs": [],
   "source": []
  }
 ],
 "metadata": {
  "kernelspec": {
   "display_name": "Python 2",
   "name": "python2"
  },
  "language_info": {
   "codemirror_mode": {
    "name": "ipython",
    "version": 2
   },
   "file_extension": ".py",
   "mimetype": "text/x-python",
   "name": "python",
   "nbconvert_exporter": "python",
   "pygments_lexer": "ipython2",
   "version": "2.7.6"
  }
 },
 "nbformat": 4,
 "nbformat_minor": 0
}
