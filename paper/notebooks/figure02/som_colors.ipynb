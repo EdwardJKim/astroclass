{
 "cells": [
  {
   "cell_type": "markdown",
   "metadata": {},
   "source": [
    "## Figure 2.\n",
    "\n",
    "A two-dimensional 10$\\times$10 SOM representation showing the mean\n",
    "$i$-band magnitude (top left),\n",
    "the fraction of true stars in each cell (top right),\n",
    "and the mean values of $u-g$ (bottom left) and $g-r$ (bottom right)\n",
    "for the cross-validation data."
   ]
  },
  {
   "cell_type": "code",
   "execution_count": 1,
   "metadata": {
    "collapsed": true
   },
   "outputs": [],
   "source": [
    "%matplotlib inline"
   ]
  },
  {
   "cell_type": "code",
   "execution_count": 2,
   "metadata": {
    "collapsed": false
   },
   "outputs": [],
   "source": [
    "from __future__ import print_function, division, unicode_literals\n",
    "import numpy as np\n",
    "import pandas as pd\n",
    "import matplotlib\n",
    "import matplotlib.pyplot as plt\n",
    "import seaborn as sns"
   ]
  },
  {
   "cell_type": "markdown",
   "metadata": {},
   "source": [
    "The following code cells let you choose colors from Seaborn's color pallette."
   ]
  },
  {
   "cell_type": "code",
   "execution_count": 4,
   "metadata": {
    "collapsed": false
   },
   "outputs": [
    {
     "data": {
      "image/png": "[encoded data removed]",
      "text/plain": [
       "<matplotlib.figure.Figure at 0x7f9d23cca410>"
      ]
     },
     "metadata": {},
     "output_type": "display_data"
    }
   ],
   "source": [
    "cmap1 = sns.choose_colorbrewer_palette('sequential', as_cmap=True)"
   ]
  },
  {
   "cell_type": "code",
   "execution_count": 5,
   "metadata": {
    "collapsed": false
   },
   "outputs": [
    {
     "data": {
      "image/png": "[encoded data removed]",
      "text/plain": [
       "<matplotlib.figure.Figure at 0x7f9d2132a3d0>"
      ]
     },
     "metadata": {},
     "output_type": "display_data"
    }
   ],
   "source": [
    "cmap2 = sns.choose_colorbrewer_palette('sequential', as_cmap=True)"
   ]
  },
  {
   "cell_type": "code",
   "execution_count": 6,
   "metadata": {
    "collapsed": false
   },
   "outputs": [
    {
     "data": {
      "image/png": "[encoded data removed]",
      "text/plain": [
       "<matplotlib.figure.Figure at 0x7f9d211af3d0>"
      ]
     },
     "metadata": {},
     "output_type": "display_data"
    }
   ],
   "source": [
    "cmap3 = sns.choose_colorbrewer_palette('sequential', as_cmap=True)"
   ]
  },
  {
   "cell_type": "code",
   "execution_count": 7,
   "metadata": {
    "collapsed": false
   },
   "outputs": [
    {
     "data": {
      "image/png": "[encoded data removed]",
      "text/plain": [
       "<matplotlib.figure.Figure at 0x7f9d210422d0>"
      ]
     },
     "metadata": {},
     "output_type": "display_data"
    }
   ],
   "source": [
    "cmap4 = sns.choose_colorbrewer_palette('sequential', as_cmap=True)"
   ]
  },
  {
   "cell_type": "markdown",
   "metadata": {},
   "source": [
    "Load the data files and calculate the means values within each cell."
   ]
  },
  {
   "cell_type": "code",
   "execution_count": null,
   "metadata": {
    "collapsed": true
   },
   "outputs": [],
   "source": [
    "truth_train = np.loadtxt('../../data/truth_train.dat')\n",
    "mag_i_train = np.loadtxt('../../data/mag_i_imputed.train.dat')\n",
    "clr_u_g_train = np.loadtxt('../../data/clr_u_g_imputed.train.dat')\n",
    "clr_g_r_train = np.loadtxt('../../data/clr_g_r_imputed.train.dat')\n",
    "\n",
    "n_grid = 10\n",
    "clens_som_cell = np.loadtxt('../../data/som_cells_cv.dat')\n",
    "\n",
    "# calculate mean values for each cell\n",
    "def calc_cell_mean(x, som_cells, n_grid=10):\n",
    "    x_cells = np.zeros(n_grid**2)\n",
    "    for i in xrange(n_grid**2):\n",
    "        i_cell = np.where(som_cells == i)\n",
    "        x_cells[i] = x[i_cell].mean()\n",
    "    \n",
    "    return x_cells.reshape((n_grid, n_grid))\n",
    "\n",
    "mag_i_cells = calc_cell_mean(mag_i_train, clens_som_cell)\n",
    "clr_u_g_cells = calc_cell_mean(clr_u_g_train, clens_som_cell)\n",
    "clr_g_r_cells = calc_cell_mean(clr_g_r_train, clens_som_cell)\n",
    "star_frac_cells = calc_cell_mean(truth_train, clens_som_cell)"
   ]
  },
  {
   "cell_type": "markdown",
   "metadata": {},
   "source": [
    "Create plots of SOM representations."
   ]
  },
  {
   "cell_type": "code",
   "execution_count": 9,
   "metadata": {
    "collapsed": false
   },
   "outputs": [
    {
     "data": {
      "image/png": "[encoded data removed]",
      "text/plain": [
       "<matplotlib.figure.Figure at 0x7f9d212de090>"
      ]
     },
     "metadata": {},
     "output_type": "display_data"
    }
   ],
   "source": [
    "from matplotlib import gridspec\n",
    "\n",
    "gs = gridspec.GridSpec(2, 3, height_ratios = (1, 1), width_ratios = (9, 9, 1))\n",
    "\n",
    "ax1 = plt.subplot(gs[0, 0])\n",
    "im1 = ax1.matshow(mag_i_cells, cmap=cmap1)\n",
    "ax1.set_xticks([])\n",
    "ax1.set_yticks([])\n",
    "cb1 = plt.colorbar(im1)\n",
    "cb1.set_ticks([16, 18, 20, 22, 24])\n",
    "cb1.set_label(r'$i$')\n",
    "\n",
    "ax2 = plt.subplot(gs[0, 1])\n",
    "im2 = ax2.matshow(star_frac_cells, cmap=cmap2)\n",
    "ax2.set_xticks([])\n",
    "ax2.set_yticks([])\n",
    "cb2 = plt.colorbar(im2)\n",
    "cb2.set_ticks([0, 0.2, 0.4, 0.6, 0.8, 1])\n",
    "cb2.set_label('stellar frac.')\n",
    "\n",
    "ax3 = plt.subplot(gs[1, 0])\n",
    "im3 = ax3.matshow(clr_u_g_cells, cmap=cmap3)\n",
    "ax3.set_xticks([])\n",
    "ax3.set_yticks([])\n",
    "cb3 = plt.colorbar(im3)\n",
    "cb3.set_ticks([0, 0.6, 1.2, 1.8, 2.4])\n",
    "cb3.set_label(r'$u-g$')\n",
    "\n",
    "ax4 = plt.subplot(gs[1, 1])\n",
    "im4 = ax4.matshow(clr_g_r_cells, cmap=cmap4)\n",
    "ax4.set_xticks([])\n",
    "ax4.set_yticks([])\n",
    "cb4 = plt.colorbar(im4)\n",
    "cb4.set_label(r'$g-r$')\n",
    "cb4.set_ticks([0.3, 0.6, 0.9, 1.2, 1.5])\n",
    "\n",
    "plt.savefig('../../figures/som_colors.pdf')\n",
    "\n",
    "plt.show()"
   ]
  },
  {
   "cell_type": "code",
   "execution_count": null,
   "metadata": {
    "collapsed": true
   },
   "outputs": [],
   "source": []
  }
 ],
 "metadata": {
  "kernelspec": {
   "display_name": "Python 2",
   "name": "python2"
  },
  "language_info": {
   "codemirror_mode": {
    "name": "ipython",
    "version": 2
   },
   "file_extension": ".py",
   "mimetype": "text/x-python",
   "name": "python",
   "nbconvert_exporter": "python",
   "pygments_lexer": "ipython2",
   "version": "2.7.6"
  }
 },
 "nbformat": 4,
 "nbformat_minor": 0
}
