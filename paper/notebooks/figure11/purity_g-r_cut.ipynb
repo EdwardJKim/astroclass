{
 "cells": [
  {
   "cell_type": "code",
   "execution_count": 1,
   "metadata": {
    "collapsed": true
   },
   "outputs": [],
   "source": [
    "from __future__ import division, print_function, unicode_literals\n",
    "%matplotlib inline\n",
    "import numpy as np\n",
    "import matplotlib.pyplot as plt\n",
    "plt.rc('legend', fontsize=10)"
   ]
  },
  {
   "cell_type": "code",
   "execution_count": 2,
   "metadata": {
    "collapsed": false
   },
   "outputs": [],
   "source": [
    "truth_train = np.loadtxt('../../data/truth_train.dat')\n",
    "truth_test = np.loadtxt('../../data/truth_test.dat')\n",
    "mask_w1_train = np.loadtxt('../../data/vvds_w1_train.mask').astype(bool)\n",
    "mask_w1_test = np.loadtxt('../../data/vvds_w1_test.mask').astype(bool)\n",
    "mask_w4_train = np.loadtxt('../../data/vvds_w4_train.mask').astype(bool)\n",
    "mask_w4_test = np.loadtxt('../../data/vvds_w4_test.mask').astype(bool)\n",
    "g_r_train = np.loadtxt('../../data/g_r.train.dat')\n",
    "g_r_test = np.loadtxt('../../data/g_r.test.dat')"
   ]
  },
  {
   "cell_type": "code",
   "execution_count": 3,
   "metadata": {
    "collapsed": false
   },
   "outputs": [],
   "source": [
    "tpc_test = np.loadtxt('../../data/w1_22_0_tpc_test.mlz', unpack=True, usecols=(2,))\n",
    "som_test = np.loadtxt('../../data/w1_22_0_som_test.mlz', unpack=True, usecols=(2,))\n",
    "hbc_all = np.loadtxt('../../data/w1_22_0_median.hbc', unpack=True, usecols=(0,))\n",
    "hbc_cv = hbc_all[:-len(truth_test)]\n",
    "hbc_test = hbc_all[-len(truth_test):]\n",
    "bmc_test = np.loadtxt('../../data/w1_22_0.bmc')"
   ]
  },
  {
   "cell_type": "code",
   "execution_count": 4,
   "metadata": {
    "collapsed": true
   },
   "outputs": [],
   "source": [
    "# read in FLUX_RADIUS and MAG_i and make a classification\n",
    "def morph_class(magnitude, half_radius, cut=[0, 25, 1.0, 3.0]):\n",
    "    point_source = ((magnitude > cut[0]) & (magnitude < cut[1]) &\n",
    "                    (half_radius > cut[2]) & (half_radius < cut[3]))\n",
    "    return point_source.astype(np.int)\n",
    "\n",
    "mag_i_lower = 17\n",
    "mag_i_upper = 21.0\n",
    "r_h_lower = 1.4\n",
    "r_h_upper = 2.8\n",
    "\n",
    "r_h_test = np.loadtxt('../../data/flux_radius.test.dat')\n",
    "mag_i_test = np.loadtxt('../../data/mag_i.test.dat')\n",
    "morph_test = morph_class(mag_i_test, r_h_test, cut=[mag_i_lower, mag_i_upper, r_h_lower, r_h_upper])"
   ]
  },
  {
   "cell_type": "code",
   "execution_count": 35,
   "metadata": {
    "collapsed": true
   },
   "outputs": [],
   "source": [
    "bins = np.arange(-0.75, 2.75, 0.25)\n",
    "bins_center = (bins[1:] + bins[:-1]) / 2"
   ]
  },
  {
   "cell_type": "code",
   "execution_count": 36,
   "metadata": {
    "collapsed": false
   },
   "outputs": [],
   "source": [
    "n_stars_w1_train, _ = np.histogram(g_r_train[mask_w1_train & (truth_train == 1)], bins=bins)\n",
    "n_stars_w1_test, _ = np.histogram(g_r_test[mask_w1_test & (truth_test == 1)], bins=bins)\n",
    "n_stars_w1 = n_stars_w1_train + n_stars_w1_test\n",
    "\n",
    "#n_gals_w1_train, _ = np.histogram(mag_i_train[mask_w1_train & (truth_train == 0)], bins=bins)\n",
    "#n_gals_w1_test, _ = np.histogram(mag_i_test[mask_w1_test & (truth_test == 0)], bins=bins)\n",
    "#n_gals_w1 = n_gals_w1_train + n_gals_w1_test\n",
    "\n",
    "n_total_w1_train, _ = np.histogram(g_r_train[mask_w1_train], bins=bins)\n",
    "n_total_w1_test, _ = np.histogram(g_r_test[mask_w1_test], bins=bins)\n",
    "n_total_w1 = n_total_w1_train + n_total_w1_test\n",
    "            \n",
    "n_stars_w4_train, _ = np.histogram(g_r_train[mask_w4_train & (truth_train == 1)], bins=bins)\n",
    "n_stars_w4_test, _ = np.histogram(g_r_test[mask_w4_test & (truth_test == 1)], bins=bins)\n",
    "n_stars_w4 = n_stars_w4_train + n_stars_w4_test\n",
    "\n",
    "#n_gals_w4_train, _ = np.histogram(mag_i_train[mask_w4_train & (truth_train == 0)], bins=bins)\n",
    "#n_gals_w4_test, _ = np.histogram(mag_i_test[mask_w4_test & (truth_test == 0)], bins=bins)\n",
    "#n_gals_w4 = n_gals_w4_train + n_gals_w1_test\n",
    "\n",
    "n_total_w4_train, _ = np.histogram(g_r_train[mask_w4_train], bins=bins)\n",
    "n_total_w4_test, _ = np.histogram(g_r_test[mask_w4_test], bins=bins)\n",
    "n_total_w4 = n_total_w4_train + n_total_w4_test\n",
    "\n",
    "n_total_test, _ = np.histogram(g_r_test, bins=bins)"
   ]
  },
  {
   "cell_type": "code",
   "execution_count": 37,
   "metadata": {
    "collapsed": false
   },
   "outputs": [],
   "source": [
    "def calc_completeness_purity(truth, classif, mag, p_cut=0.5, bins=np.arange(16, 26, 0.5)):\n",
    "    '''\n",
    "    '''\n",
    "    result = {}\n",
    "    \n",
    "    # true galaxies classified as stars\n",
    "    gs_bin, _ = np.histogram(mag[(classif >= p_cut) & (truth == 0)], bins=bins)\n",
    "    # true galaxies classified as galaxies\n",
    "    gg_bin, _ = np.histogram(mag[(classif < p_cut) & (truth == 0)], bins=bins)\n",
    "    # true stars classified as galaxies\n",
    "    sg_bin, _ = np.histogram(mag[(classif < p_cut) & (truth == 1)], bins=bins)\n",
    "    # true stars classified as stars\n",
    "    ss_bin, _ = np.histogram(mag[(classif >= p_cut) & (truth == 1)], bins=bins)\n",
    "\n",
    "    # galaxy completeness\n",
    "    mask = (gg_bin == 0) & (gs_bin == 0)\n",
    "    g_comp_bin = np.zeros(len(gg_bin))\n",
    "    g_comp_bin[mask] = np.nan\n",
    "    g_comp_bin[~mask] = gg_bin[~mask] / (gg_bin[~mask] + gs_bin[~mask])\n",
    "    \n",
    "    g_comp_err_bin = np.zeros(len(gg_bin))\n",
    "    g_comp_err_bin[mask] = np.nan\n",
    "    g_comp_err_bin[~mask] = np.sqrt(gg_bin[~mask]) / (gg_bin[~mask] + gs_bin[~mask])\n",
    "    \n",
    "    # galaxy purity\n",
    "    mask = (gg_bin == 0) & (sg_bin == 0)\n",
    "    g_pur_bin = np.zeros(len(gg_bin))\n",
    "    g_pur_bin[mask] = np.nan\n",
    "    g_pur_bin[~mask] = gg_bin[~mask] / (gg_bin[~mask] + sg_bin[~mask])\n",
    "    \n",
    "    g_pur_err_bin = np.zeros(len(gg_bin))\n",
    "    g_pur_err_bin[mask] = np.nan\n",
    "    g_pur_err_bin[~mask] = np.sqrt(gg_bin[~mask]) / (gg_bin[~mask] + sg_bin[~mask])\n",
    "    \n",
    "    # star completeness\n",
    "    mask = (ss_bin == 0) & (sg_bin == 0)\n",
    "    s_comp_bin = np.zeros(len(ss_bin))\n",
    "    s_comp_bin[mask] = np.nan\n",
    "    s_comp_bin[~mask] = ss_bin[~mask] / (ss_bin[~mask] + sg_bin[~mask])\n",
    "    \n",
    "    s_comp_err_bin = np.zeros(len(ss_bin))\n",
    "    s_comp_err_bin[mask] = np.nan\n",
    "    s_comp_err_bin[~mask] = np.sqrt(ss_bin[~mask]) / (ss_bin[~mask] + sg_bin[~mask])\n",
    "\n",
    "    # star purity\n",
    "    mask = (ss_bin == 0) & (gs_bin == 0)\n",
    "    s_pur_bin = np.zeros(len(ss_bin))\n",
    "    s_pur_bin[mask] = np.nan\n",
    "    s_pur_bin[~mask] = ss_bin[~mask] / (ss_bin[~mask] + gs_bin[~mask])\n",
    "    \n",
    "    nans, f = nan_helper(s_pur_bin)\n",
    "    s_pur_bin[nans] = np.interp(f(nans), f(~nans), s_pur_bin[~nans])\n",
    "    \n",
    "    # http://stsdas.stsci.edu/cgi-bin/gethelp.cgi?explain_errors\n",
    "    s_pur_err_bin = np.zeros(len(ss_bin))\n",
    "    s_pur_err_bin[mask] = np.nan\n",
    "    s_pur_err_bin[~mask] = (1 + np.sqrt(ss_bin[~mask] + 0.75)) / (ss_bin[~mask] + gs_bin[~mask])\n",
    "    \n",
    "    result['galaxy_completeness'] = g_comp_bin\n",
    "    result['galaxy_completeness_error'] = g_comp_err_bin\n",
    "    result['galaxy_purity'] = g_pur_bin\n",
    "    result['galaxy_purity_error'] = g_pur_err_bin\n",
    "    result['star_completeness'] = s_comp_bin\n",
    "    result['star_completeness_error'] = s_comp_err_bin\n",
    "    result['star_purity'] = s_pur_bin\n",
    "    result['star_purity_error'] = s_pur_err_bin\n",
    "\n",
    "    return result\n",
    "\n",
    "def nan_helper(y):\n",
    "\n",
    "    return np.isnan(y), lambda z: z.nonzero()[0]\n",
    "\n",
    "def find_purity_at(truth_test, clf, step=0.001, gc=None, gp=None, sc=None, sp=None):\n",
    "    \n",
    "    if bool(gc) and bool(sc) and bool(gp) and bool(sp):\n",
    "        raise Exception('Specify only one of gp or sp parameter.')\n",
    "\n",
    "    pbin = np.arange(0, 1, step)\n",
    "    \n",
    "    pure_all = np.zeros(len(pbin))\n",
    "    comp_all = np.zeros(len(pbin))\n",
    "    \n",
    "    for i, p in enumerate(pbin):\n",
    "        \n",
    "        # true galaxies classified as stars\n",
    "        gs = ((clf >= p) & (truth_test == 0)).sum()\n",
    "        # true galaxies classified as galaxies\n",
    "        gg = ((clf < p) & (truth_test == 0)).sum()\n",
    "        # true stars classified as galaxies\n",
    "        sg = ((clf < p) & (truth_test == 1)).sum()\n",
    "        # true stars classified as stars\n",
    "        ss = ((clf >= p) & (truth_test == 1)).sum()\n",
    "    \n",
    "        if gc is not None or gp is not None:\n",
    "            if gg == 0 and sg == 0:\n",
    "                pure_all[i] = np.nan\n",
    "            else:\n",
    "                pure_all[i] = gg / (gg + sg)\n",
    "            if gg == 0 and gs == 0:\n",
    "                comp_all[i] = np.nan\n",
    "            else:\n",
    "                comp_all[i] = gg / (gg + gs)\n",
    "            \n",
    "        if sc is not None or sp is not None:\n",
    "            if ss == 0 and sg == 0:\n",
    "                comp_all[i] = np.nan\n",
    "            else:\n",
    "                comp_all[i] = ss / (ss + sg)\n",
    "            if ss == 0 and gs == 0:\n",
    "                pure_all[i] = np.nan\n",
    "            else:\n",
    "                pure_all[i] = ss / (ss + gs)\n",
    "    \n",
    "    if gc is not None:\n",
    "        ibin = np.argmin(np.abs(comp_all - gc))\n",
    "        return pbin[ibin], pure_all[ibin]\n",
    "    \n",
    "    if gp is not None:\n",
    "        ibin = np.argmin(np.abs(pure_all - gp))\n",
    "        return pbin[ibin], comp_all[ibin]\n",
    "    \n",
    "    if sc is not None:\n",
    "        ibin = np.argmin(np.abs(comp_all - sc))\n",
    "        return pbin[ibin], pure_all[ibin]\n",
    "    \n",
    "    if sp is not None:\n",
    "        ibin = np.argmin(np.abs(pure_all - sp))\n",
    "        return pbin[ibin], comp_all[ibin]"
   ]
  },
  {
   "cell_type": "code",
   "execution_count": 38,
   "metadata": {
    "collapsed": false
   },
   "outputs": [],
   "source": [
    "morph = calc_completeness_purity(truth_test, morph_test, g_r_test, p_cut=0.5, bins=bins)"
   ]
  },
  {
   "cell_type": "code",
   "execution_count": null,
   "metadata": {
    "collapsed": false
   },
   "outputs": [],
   "source": [
    "bmc_p_cut, _ = find_purity_at(truth_test, bmc_test, gc=0.9964, step=0.001)\n",
    "bmc_mg = calc_completeness_purity(truth_test, bmc_test, g_r_test, p_cut=bmc_p_cut, bins=bins)\n",
    "bmc_p_cut, _ = find_purity_at(truth_test, bmc_test, sc=0.7145, step=0.001)\n",
    "bmc_ms = calc_completeness_purity(truth_test, bmc_test, g_r_test, p_cut=bmc_p_cut, bins=bins)\n",
    "\n",
    "bmc_p_cut, _ = find_purity_at(truth_test, bmc_test, gc=0.96, step=0.001)\n",
    "bmc_dg = calc_completeness_purity(truth_test, bmc_test, g_r_test, p_cut=bmc_p_cut, bins=bins)"
   ]
  },
  {
   "cell_type": "code",
   "execution_count": null,
   "metadata": {
    "collapsed": false
   },
   "outputs": [],
   "source": [
    "tpc_p_cut, _ = find_purity_at(truth_test, tpc_test, gc=0.9964, step=0.001)\n",
    "tpc_mg = calc_completeness_purity(truth_test, tpc_test, g_r_test, p_cut=tpc_p_cut, bins=bins)\n",
    "tpc_p_cut, _ = find_purity_at(truth_test, tpc_test, sc=0.7145, step=0.001)\n",
    "tpc_ms = calc_completeness_purity(truth_test, tpc_test, g_r_test, p_cut=tpc_p_cut, bins=bins)"
   ]
  },
  {
   "cell_type": "code",
   "execution_count": null,
   "metadata": {
    "collapsed": false
   },
   "outputs": [],
   "source": [
    "fig = plt.figure(figsize=(6, 10))\n",
    "\n",
    "ax0 = plt.subplot2grid((6, 3), (0, 0), colspan=3)\n",
    "ax1 = plt.subplot2grid((6, 3), (1, 0), colspan=3)\n",
    "ax2 = plt.subplot2grid((6, 3), (2, 0), colspan=3, rowspan=2)\n",
    "ax3 = plt.subplot2grid((6, 3), (4, 0), colspan=3, rowspan=2)\n",
    "\n",
    "plt.setp(ax0.get_xticklabels(), visible=False)\n",
    "plt.setp(ax1.get_xticklabels(), visible=False)\n",
    "plt.setp(ax2.get_xticklabels(), visible=False)\n",
    "\n",
    "x_offset = 0.01\n",
    "\n",
    "ax0.hist(g_r_test, bins=bins, histtype='bar', color='0.8')\n",
    "ax0.set_xlim(-0.5, 2.5)\n",
    "ax0.set_ylabel('$N$')\n",
    "\n",
    "ax1.errorbar(bins_center + x_offset, n_stars_w1 / n_total_w1, yerr=np.sqrt(n_stars_w1) / n_total_w1,\n",
    "             label='W1', ls='-', c='k')#, marker='o', markersize=4)\n",
    "ax1.errorbar(bins_center, n_stars_w4 / n_total_w4, yerr=np.sqrt(n_stars_w4) / n_total_w4,\n",
    "             label='W4', ls='--', c='k')#, marker='s', markersize=4)\n",
    "#ax1.plot(bins_center, ngals / nvvds, label='galaxies', ls='--', c='k', marker='s')\n",
    "ax1.set_xlim(-0.5, 2.5)\n",
    "ax1.set_ylim(0, 1)\n",
    "ax1.set_ylabel('fraction')\n",
    "ax1.legend(loc='best')\n",
    "\n",
    "ax2.errorbar(bins_center, bmc_mg['galaxy_purity'],\n",
    "             #yerr=bmc_mg['galaxy_purity_error'],\n",
    "             label='BMC', ls='-', c='k', marker='o', markersize=4)\n",
    "ax2.errorbar(bins_center + x_offset, morph['galaxy_purity'],\n",
    "             #yerr=morph['galaxy_purity_error'],\n",
    "             label='Morphology', ls='--', c='b', marker='o', markersize=4)\n",
    "ax2.errorbar(bins_center - x_offset, tpc_mg['galaxy_purity'],\n",
    "             #yerr=morph['galaxy_purity_error'],\n",
    "             label='TPC', ls='--', c='r', marker='o', markersize=4)\n",
    "ax2.legend(loc='lower right')\n",
    "\n",
    "ax2.set_xlim(-0.5, 2.5)\n",
    "ax2.set_ylim(0.8, 1.02)\n",
    "#ax2.set_yticks([0.9, 0.95, 1.0])\n",
    "ax2.set_ylabel(r'$p_g\\left(c_g=0.9964\\right)$')\n",
    "\n",
    "ax3.errorbar(bins_center, bmc_ms['star_purity'],\n",
    "             #yerr=bmc_ms['star_purity_error'],\n",
    "             label='BMC', ls='-', c='k', marker='o', markersize=4)\n",
    "ax3.errorbar(bins_center + x_offset, morph['star_purity'],\n",
    "             #yerr=morph['star_purity_error'],\n",
    "             label='Morphology', ls='--', c='b', marker='o', markersize=4)\n",
    "\n",
    "ax3.errorbar(bins_center - x_offset, tpc_ms['star_purity'],\n",
    "             #yerr=tpc_ms['star_purity_error'],\n",
    "             label='TPC', ls='--', c='r', marker='o', markersize=4)\n",
    "\n",
    "ax3.set_ylabel(r'$p_s\\left(c_s=0.7145\\right)$')\n",
    "ax3.set_xlim(-0.5, 2.5)\n",
    "ax3.set_ylim(0, 1.05)\n",
    "\n",
    "ax3.set_xlabel(r'$g-r$')\n",
    "\n",
    "plt.savefig('../../figures/purity_g-r_cut.eps')\n",
    "\n",
    "plt.show()"
   ]
  },
  {
   "cell_type": "code",
   "execution_count": 34,
   "metadata": {
    "collapsed": true
   },
   "outputs": [],
   "source": []
  }
 ],
 "metadata": {
  "kernelspec": {
   "display_name": "Python 2",
   "name": "python2"
  },
  "language_info": {
   "codemirror_mode": {
    "name": "ipython",
    "version": 2
   },
   "file_extension": ".py",
   "mimetype": "text/x-python",
   "name": "python",
   "nbconvert_exporter": "python",
   "pygments_lexer": "ipython2",
   "version": "2.7.6"
  }
 },
 "nbformat": 4,
 "nbformat_minor": 0
}
