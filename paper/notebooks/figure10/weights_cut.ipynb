{
 "cells": [
  {
   "cell_type": "markdown",
   "metadata": {},
   "source": [
    "## Figure 10\n",
    "\n",
    "Similar to [Figure 3](https://github.com/EdwardJKim/astroclass/blob/master/paper/notebooks/figure03/weights.ipynb)\n",
    "but for the reduced training data set."
   ]
  },
  {
   "cell_type": "code",
   "execution_count": 1,
   "metadata": {
    "collapsed": true
   },
   "outputs": [],
   "source": [
    "%matplotlib inline"
   ]
  },
  {
   "cell_type": "code",
   "execution_count": 2,
   "metadata": {
    "collapsed": false
   },
   "outputs": [],
   "source": [
    "from __future__ import print_function, division, unicode_literals\n",
    "import numpy as np\n",
    "import pandas as pd\n",
    "import matplotlib\n",
    "import matplotlib.pyplot as plt\n",
    "from matplotlib import gridspec\n",
    "import seaborn as sns"
   ]
  },
  {
   "cell_type": "code",
   "execution_count": 3,
   "metadata": {
    "collapsed": false
   },
   "outputs": [
    {
     "data": {
      "image/png": "[encoded data removed]",
      "text/plain": [
       "<matplotlib.figure.Figure at 0x7fcd41f3ee90>"
      ]
     },
     "metadata": {},
     "output_type": "display_data"
    }
   ],
   "source": [
    "cmap = sns.choose_colorbrewer_palette('sequential', as_cmap=True)"
   ]
  },
  {
   "cell_type": "code",
   "execution_count": 7,
   "metadata": {
    "collapsed": false
   },
   "outputs": [
    {
     "data": {
      "image/png": "[encoded data removed]",
      "text/plain": [
       "<matplotlib.figure.Figure at 0x7fcd420aa050>"
      ]
     },
     "metadata": {},
     "output_type": "display_data"
    }
   ],
   "source": [
    "n_grid = 10\n",
    "\n",
    "tpc_cells = np.zeros(n_grid**2)\n",
    "som_cells = np.zeros(n_grid**2)\n",
    "hbc_cells = np.zeros(n_grid**2)\n",
    "morph_cells = np.zeros(n_grid**2)\n",
    "\n",
    "for i in xrange(n_grid**2):\n",
    "    \n",
    "    weights = np.loadtxt('../../data/bmc_weights_cut/bmc_weights.' + str(i) + '.dat')\n",
    "\n",
    "    w = np.sum(weights, axis = 0)\n",
    "    w = w / w.sum()\n",
    "\n",
    "    tpc_cells[i] = w[0]\n",
    "    som_cells[i] = w[1]\n",
    "    hbc_cells[i] = w[2]\n",
    "    morph_cells[i] = w[3]\n",
    "\n",
    "tpc_cells = tpc_cells.reshape((n_grid, n_grid))\n",
    "som_cells = som_cells.reshape((n_grid, n_grid))\n",
    "hbc_cells = hbc_cells.reshape((n_grid, n_grid))\n",
    "morph_cells = morph_cells.reshape((n_grid, n_grid))\n",
    "\n",
    "# rotate matrices to match Figure 3\n",
    "def mirror(x):\n",
    "    return np.rot90(np.rot90(np.transpose(x)))\n",
    "\n",
    "tpc_cells = mirror(tpc_cells)\n",
    "som_cells = mirror(som_cells)\n",
    "hbc_cells = mirror(hbc_cells)\n",
    "morph_cells = mirror(morph_cells)\n",
    "\n",
    "gs = gridspec.GridSpec(2, 3, height_ratios = (1, 1), width_ratios = (9, 9, 1))\n",
    "\n",
    "vmax = np.max([tpc_cells, som_cells, hbc_cells, morph_cells])\n",
    "rotation = 'vertical'\n",
    "\n",
    "ax1 = plt.subplot(gs[0, 0])\n",
    "im1 = ax1.matshow(tpc_cells, cmap=cmap, vmin=0, vmax=vmax)\n",
    "ax1.set_title('TPC', rotation = rotation, x = -0.1, y = 0.5)\n",
    "ax1.set_xticks([])\n",
    "ax1.set_yticks([])\n",
    "\n",
    "ax2 = plt.subplot(gs[0, 1])\n",
    "ax2.matshow(som_cells, cmap=cmap, vmin=0, vmax=vmax)\n",
    "ax2.set_title('SOM', rotation = rotation, x = -0.1, y = 0.5)\n",
    "ax2.set_xticks([])\n",
    "ax2.set_yticks([])\n",
    "\n",
    "ax3 = plt.subplot(gs[1, 0])\n",
    "ax3.matshow(hbc_cells, cmap=cmap, vmin=0, vmax=vmax)\n",
    "ax3.set_title('HB', rotation = rotation, x = -0.1, y = 0.5)\n",
    "ax3.set_xticks([])\n",
    "ax3.set_yticks([])\n",
    "\n",
    "ax4 = plt.subplot(gs[1, 1])\n",
    "ax4.matshow(morph_cells, cmap=cmap, vmin=0, vmax=vmax)\n",
    "ax4.set_title('Morphology', rotation = rotation, x = -0.1, y = 0.7)\n",
    "ax4.set_xticks([])\n",
    "ax4.set_yticks([])\n",
    "\n",
    "ax5 = plt.subplot(gs[0:, 2])\n",
    "cb1 = plt.colorbar(im1, cax=ax5)\n",
    "cb1.set_label(r'$w$')\n",
    "cb1.set_clim([0, vmax])\n",
    "\n",
    "plt.savefig('../../figures/weights_cut.pdf')\n",
    "\n",
    "plt.show()"
   ]
  },
  {
   "cell_type": "code",
   "execution_count": 10,
   "metadata": {
    "collapsed": true
   },
   "outputs": [],
   "source": []
  }
 ],
 "metadata": {
  "kernelspec": {
   "display_name": "Python 2",
   "language": "python",
   "name": "python2"
  },
  "language_info": {
   "codemirror_mode": {
    "name": "ipython",
    "version": 2
   },
   "file_extension": ".py",
   "mimetype": "text/x-python",
   "name": "python",
   "nbconvert_exporter": "python",
   "pygments_lexer": "ipython2",
   "version": "2.7.6"
  }
 },
 "nbformat": 4,
 "nbformat_minor": 0
}
