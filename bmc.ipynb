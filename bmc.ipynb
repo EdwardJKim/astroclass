{
 "cells": [
  {
   "cell_type": "markdown",
   "metadata": {},
   "source": [
    "#<center>A Hybrid Ensemble Learning Approach to Star-galaxy Classification </center>\n",
    "\n",
    "##<center>Edward Kim, Robert Brunner, and Matias Carrasco Kind</center>\n",
    "\n",
    "<center>[MNRAS (2015) 453 (1): 507-521](http://mnras.oxfordjournals.org/content/453/1/507)</center>\n",
    "\n",
    "<center>[arXiv:1505.02200](http://arxiv.org/abs/1505.02200) [astro-ph.IM]</center>\n",
    "\n",
    "##<center>Abstract</center>\n",
    "\n",
    "There exist a variety of star-galaxy classification techniques, each with their own strengths and weaknesses. In this paper, we present a novel meta-classification framework that combines and fully exploits different techniques to produce a more robust star-galaxy classification. To demonstrate this hybrid, ensemble approach, we combine a purely morphological classifier, a supervised machine learning method based on random forest, an unsupervised machine learning method based on self-organizing maps, and a hierarchical Bayesian template fitting method. Using data from the CFHTLenS survey, we consider different scenarios: when a high-quality training set is available with spectroscopic labels from DEEP2, SDSS, VIPERS, and VVDS, and when the demographics of sources in a low-quality training set do not match the demographics of objects in the test data set. We demonstrate that our Bayesian combination technique improves the overall performance over any individual classification method in these scenarios. Thus, strategies that combine the predictions of different classifiers may prove to be optimal in currently ongoing and forthcoming photometric surveys, such as the Dark Energy Survey and the Large Synoptic Survey Telescope.\n",
    "\n",
    "This notebook demonstrates an example of using Bayesian Model Combination (BMC) for the CFHTLenS data.\n",
    "\n",
    "##<center>I. Introduction</center>\n",
    "\n",
    "<img src=\"bmc/images/SGmag.png\" width=\"500\">\n",
    "\n",
    "<center> Image: sample images of stars and galaxies from the SDSS survey at different magnitudes (source: [LCDM website](http://lcdm.astro.illinois.edu/)) </center>\n",
    "\n",
    "The problem of source classification is fundamental to astronomy and goes as far back as [Messier (1781)](https://en.wikipedia.org/wiki/Charles_Messier). A variety of different strategies have been developed  to tackle this long-standing problem, and yet there is no consensus on the optimal star-galaxy classification strategy. The most commonly used method to classify stars and galaxies in large sky surveys is the morphological separation ([Sebok 1979](http://adsabs.harvard.edu/abs/1979AJ.....84.1526S); [Kron 1980](http://adsabs.harvard.edu/abs/1980ApJS...43..305K); [Valdes 1982](http://adsabs.harvard.edu/abs/1982SPIE..331..465V); [Yee 1991](http://adsabs.harvard.edu/abs/1991PASP..103..396Y); [Vasconcellos et al. 2011](http://adsabs.harvard.edu/abs/2011AJ....141..189V); [Henrion et al. 2011](http://adsabs.harvard.edu/abs/2011MNRAS.412.2286H)). It relies on the assumption that stars appear as point sources while galaxies appear as resolved sources. However, currently ongoing and upcoming large photometric surveys, such as the [Dark Energy Survey (DES)](http://www.darkenergysurvey.org/) and the [Large Synoptic Survey Telescope (LSST)](http://www.lsst.org/lsst/), will detect a vast number of unresolved galaxies at faint magnitudes. Near a survey's limit, the photometric observations cannot reliably separate stars from unresolved galaxies by morphology alone without leading to incompleteness and contamination in the star and galaxy samples.\n",
    "\n",
    "The contamination of unresolved galaxies can be mitigated by using training based algorithms. Machine learning methods have the advantage that it is easier to include extra information, such as concentration indices, shape information, or different model magnitudes. However, they are only reliable within the limits of the training data, and it can be difficult to extrapolate these algorithms outside the parameter range of the training data. These techniques can be further categorized into supervised and unsupervised learning approaches.\n",
    "\n",
    "In [supervised learning](https://en.wikipedia.org/wiki/Supervised_learning), the input attributes (e.g. magnitudes or colors) are provided along with the truth labels (e.g. star or galaxy). [Odewahn et al. (1992)](http://adsabs.harvard.edu/abs/1992AJ....103..318O) pioneered the application of neural networks to the star-galaxy classification problem, and it has become a core part of the astronomical image processing software [_SExtractor_](http://www.astromatic.net/software/sextractor). Other successfully implemented examples include decision trees ([Weir, Fayyad, & Djorgovski (1995)](http://adsabs.harvard.edu/abs/1995AJ....109.2401W); [Suchkov, Hanisch, & Margon (2005)](http://adsabs.harvard.edu/abs/2005AJ....130.2439S); [Ball & Brunner (2006)](http://adsabs.harvard.edu/abs/2010IJMPD..19.1049B); [Sevilla-Noarbe & Etayo-Sotos (2015)](http://adsabs.harvard.edu/abs/2015A%26C....11...64S)) and Support Vector Machines ([Fadely, Hogg, & Willman 2012](http://adsabs.harvard.edu/abs/2012ApJ...760...15F)). [Unsupervised machine learning](https://en.wikipedia.org/wiki/Unsupervised_learning) techniques are less common, as they do not utilize the truth labels during the training process, and only the input attributes are used.\n",
    "\n",
    "<img src=\"bmc/images/spDR2-000.gif\" width=\"500\">\n",
    "<center>Image: A spectrum of an O star (source: [SDSS](http://classic.sdss.org/dr7/algorithms/spectemplates/))</center>\n",
    "\n",
    "<img src=\"bmc/images/spDR2-023.gif\" width=\"500\">\n",
    "<center>Image: A spectrum of a galaxy (source: [SDSS](http://classic.sdss.org/dr7/algorithms/spectemplates/))</center>\n",
    "\n",
    "Physically based template fitting methods have also been used for the star-galaxy classification problem ([Robin et al. 2007](http://adsabs.harvard.edu/abs/2007ApJS..172..545R); [Fadely, Hogg, & Willman 2012](http://adsabs.harvard.edu/abs/2012ApJ...760...15F)). Template fitting approaches infer a source's properties by finding the best match between the measured set of magnitudes (or colors) and the synthetic set of magnitudes (or colors) computed from a set of spectral templates. Although it is not necessary to obtain a high-quality spectroscopic training sample,\n",
    "these techniques do require a representative sample of theoretical or empirical templates that span the possible spectral energy distributions (SEDs) of stars and galaxies. Furthermore, they are not exempt from uncertainties due to measurement errors on the filter response curves, or from mismatches between the observed magnitudes and the template SEDs."
   ]
  },
  {
   "cell_type": "code",
   "execution_count": 1,
   "metadata": {
    "collapsed": true
   },
   "outputs": [],
   "source": [
    "%matplotlib inline"
   ]
  },
  {
   "cell_type": "code",
   "execution_count": 2,
   "metadata": {
    "collapsed": false
   },
   "outputs": [],
   "source": [
    "from __future__ import print_function, division, unicode_literals\n",
    "import numpy as np\n",
    "import pandas as pd\n",
    "import matplotlib.pyplot as plt\n",
    "import seaborn as sns"
   ]
  },
  {
   "cell_type": "markdown",
   "metadata": {},
   "source": [
    "## II. Data: [CFHTLens](http://cfhtlens.org/astronomers/data-store)\n",
    "\n",
    "We use photometric data from the [Canada-France-Hawaii Telescope Lensing Survey (CFHTLens)](http://www.cfhtlens.org/). This catalog consists of more than twenty five million objects with a limiting magnitude of $i_{\\text{AB}} \\approx 25.5$. It covers a total of 154 square degrees in the four fields (named W1, W2, W3, and W4) of [CFHT Legacy Survey (CFHTLS)](http://www.cfht.hawaii.edu/Science/CFHTLS/) observed in the five photometric bands: $u$, $g$, $r$, $i$, and $z$.\n",
    "\n",
    "We have cross-matched reliable spectroscopic galaxies from the [Deep Extragalactic Evolutionary Probe Phase 2 (DEEP2)](http://deep.ps.uci.edu/), the [Sloan Digital Sky Survey Data Release 10 (SDSS-DR10)](https://www.sdss3.org/dr10/), the [VIsible imaging Multi-Object Spectrograph (VIMOS) Very Large Telescope (VLT) Deep Survey (VVDS)](http://cesam.oamp.fr/vvdsproject/vvds.htm), and the [VIMOS Public Extragalactic Redshift Survey (VIPERS)](http://vipers.inaf.it/). We have selected only sources with very secure redshifts and no bad flags (quality flags -1, 3, and 4 for DEEP2; quality flag 0 for SDSS; quality flags 3, 4, 23, and 24 for VIPERS and VVDS). In the end, we have 8,545 stars and 57,843 galaxies available for the training and testing processes. We randomly select 13,278 objects for the blind testing set, and use the remainder for training and cross-validation. While HB uses only the magnitudes in the five bands, $u$, $g$, $r$, $i$, and $z$, TPC and SOMc are trained with a total of 9 attributes: the five magnitudes and their corresponding colors, $u-g$, $g-r$, $r-i$, and $i-z$. The morphological separation method uses [_SExtractor_](http://www.astromatic.net/software/sextractor)'s  FLUX RADIUS parameter provided by the CFHTLenS catalog.\n",
    "\n",
    "We use `pandas` to load the CFHTLenS data, using the object IDs as the index column."
   ]
  },
  {
   "cell_type": "code",
   "execution_count": 3,
   "metadata": {
    "collapsed": false
   },
   "outputs": [],
   "source": [
    "df = pd.read_csv('data/cfhtlens_matched.csv', index_col='id')"
   ]
  },
  {
   "cell_type": "markdown",
   "metadata": {},
   "source": [
    "The CSV files have 100+ columns."
   ]
  },
  {
   "cell_type": "code",
   "execution_count": 4,
   "metadata": {
    "collapsed": false
   },
   "outputs": [
    {
     "data": {
      "text/html": [
       "<div style=\"max-height:1000px;max-width:1500px;overflow:auto;\">\n",
       "<table border=\"1\" class=\"dataframe\">\n",
       "  <thead>\n",
       "    <tr style=\"text-align: right;\">\n",
       "      <th></th>\n",
       "      <th>ALPHA_J2000</th>\n",
       "      <th>A_WORLD</th>\n",
       "      <th>BPZ_FILT</th>\n",
       "      <th>BPZ_FLAGFILT</th>\n",
       "      <th>BPZ_NONDETFILT</th>\n",
       "      <th>B_WORLD</th>\n",
       "      <th>BackGr</th>\n",
       "      <th>CHI_SQUARED_BPZ</th>\n",
       "      <th>CLASS_STAR</th>\n",
       "      <th>DELTA_J2000</th>\n",
       "      <th>...</th>\n",
       "      <th>n_exposures_detec</th>\n",
       "      <th>n_exposures_used</th>\n",
       "      <th>pos</th>\n",
       "      <th>scalelength</th>\n",
       "      <th>sp_cat</th>\n",
       "      <th>sp_cat_id</th>\n",
       "      <th>star_flag</th>\n",
       "      <th>true_class</th>\n",
       "      <th>weight</th>\n",
       "      <th>z_spec</th>\n",
       "    </tr>\n",
       "    <tr>\n",
       "      <th>id</th>\n",
       "      <th></th>\n",
       "      <th></th>\n",
       "      <th></th>\n",
       "      <th></th>\n",
       "      <th></th>\n",
       "      <th></th>\n",
       "      <th></th>\n",
       "      <th></th>\n",
       "      <th></th>\n",
       "      <th></th>\n",
       "      <th></th>\n",
       "      <th></th>\n",
       "      <th></th>\n",
       "      <th></th>\n",
       "      <th></th>\n",
       "      <th></th>\n",
       "      <th></th>\n",
       "      <th></th>\n",
       "      <th></th>\n",
       "      <th></th>\n",
       "      <th></th>\n",
       "    </tr>\n",
       "  </thead>\n",
       "  <tbody>\n",
       "    <tr>\n",
       "      <th>W3m0m1_11696</th>\n",
       "      <td>214.650267</td>\n",
       "      <td>0.000981</td>\n",
       "      <td>31</td>\n",
       "      <td>0</td>\n",
       "      <td>0</td>\n",
       "      <td>0.000760</td>\n",
       "      <td>0.002792</td>\n",
       "      <td>0.054</td>\n",
       "      <td>0.028628</td>\n",
       "      <td>53.106480</td>\n",
       "      <td>...</td>\n",
       "      <td>7</td>\n",
       "      <td>0</td>\n",
       "      <td>Position ICRS 214.6502668999999 53.10647969000003</td>\n",
       "      <td>0.0000</td>\n",
       "      <td>sdss-dr10</td>\n",
       "      <td>1.493031e+18</td>\n",
       "      <td>0</td>\n",
       "      <td>0</td>\n",
       "      <td>0.0000</td>\n",
       "      <td>0.202653</td>\n",
       "    </tr>\n",
       "    <tr>\n",
       "      <th>W3m0m1_13805</th>\n",
       "      <td>215.003288</td>\n",
       "      <td>0.000834</td>\n",
       "      <td>31</td>\n",
       "      <td>0</td>\n",
       "      <td>0</td>\n",
       "      <td>0.000602</td>\n",
       "      <td>0.011452</td>\n",
       "      <td>0.341</td>\n",
       "      <td>0.028643</td>\n",
       "      <td>53.112236</td>\n",
       "      <td>...</td>\n",
       "      <td>7</td>\n",
       "      <td>0</td>\n",
       "      <td>Position ICRS 215.00328799999977 53.1122355599...</td>\n",
       "      <td>0.0000</td>\n",
       "      <td>sdss-dr10</td>\n",
       "      <td>1.491820e+18</td>\n",
       "      <td>0</td>\n",
       "      <td>0</td>\n",
       "      <td>0.0000</td>\n",
       "      <td>0.200794</td>\n",
       "    </tr>\n",
       "    <tr>\n",
       "      <th>W3m0m1_14097</th>\n",
       "      <td>214.731917</td>\n",
       "      <td>0.001051</td>\n",
       "      <td>31</td>\n",
       "      <td>0</td>\n",
       "      <td>0</td>\n",
       "      <td>0.000762</td>\n",
       "      <td>0.017118</td>\n",
       "      <td>0.308</td>\n",
       "      <td>0.028655</td>\n",
       "      <td>53.108660</td>\n",
       "      <td>...</td>\n",
       "      <td>7</td>\n",
       "      <td>0</td>\n",
       "      <td>Position ICRS 214.7319170999998 53.10865952999999</td>\n",
       "      <td>0.0000</td>\n",
       "      <td>sdss-dr10</td>\n",
       "      <td>1.493029e+18</td>\n",
       "      <td>0</td>\n",
       "      <td>0</td>\n",
       "      <td>0.0000</td>\n",
       "      <td>0.114782</td>\n",
       "    </tr>\n",
       "    <tr>\n",
       "      <th>W3m0m1_14953</th>\n",
       "      <td>214.261103</td>\n",
       "      <td>0.000209</td>\n",
       "      <td>31</td>\n",
       "      <td>0</td>\n",
       "      <td>0</td>\n",
       "      <td>0.000175</td>\n",
       "      <td>-0.003837</td>\n",
       "      <td>0.100</td>\n",
       "      <td>0.028710</td>\n",
       "      <td>53.130319</td>\n",
       "      <td>...</td>\n",
       "      <td>7</td>\n",
       "      <td>0</td>\n",
       "      <td>Position ICRS 214.26110300000002 53.1303185000...</td>\n",
       "      <td>0.0000</td>\n",
       "      <td>sdss-dr10</td>\n",
       "      <td>5.648736e+18</td>\n",
       "      <td>0</td>\n",
       "      <td>0</td>\n",
       "      <td>0.0000</td>\n",
       "      <td>0.773710</td>\n",
       "    </tr>\n",
       "    <tr>\n",
       "      <th>W3m0m1_15171</th>\n",
       "      <td>214.211339</td>\n",
       "      <td>0.000205</td>\n",
       "      <td>31</td>\n",
       "      <td>0</td>\n",
       "      <td>0</td>\n",
       "      <td>0.000118</td>\n",
       "      <td>-0.004166</td>\n",
       "      <td>0.136</td>\n",
       "      <td>0.021400</td>\n",
       "      <td>53.132613</td>\n",
       "      <td>...</td>\n",
       "      <td>5</td>\n",
       "      <td>5</td>\n",
       "      <td>Position ICRS 214.21133930000028 53.1326129599...</td>\n",
       "      <td>3.1838</td>\n",
       "      <td>sdss-dr10</td>\n",
       "      <td>5.649857e+18</td>\n",
       "      <td>0</td>\n",
       "      <td>0</td>\n",
       "      <td>15.4507</td>\n",
       "      <td>0.948875</td>\n",
       "    </tr>\n",
       "  </tbody>\n",
       "</table>\n",
       "<p>5 rows × 102 columns</p>\n",
       "</div>"
      ],
      "text/plain": [
       "              ALPHA_J2000   A_WORLD  BPZ_FILT  BPZ_FLAGFILT  BPZ_NONDETFILT  \\\n",
       "id                                                                            \n",
       "W3m0m1_11696   214.650267  0.000981        31             0               0   \n",
       "W3m0m1_13805   215.003288  0.000834        31             0               0   \n",
       "W3m0m1_14097   214.731917  0.001051        31             0               0   \n",
       "W3m0m1_14953   214.261103  0.000209        31             0               0   \n",
       "W3m0m1_15171   214.211339  0.000205        31             0               0   \n",
       "\n",
       "               B_WORLD    BackGr  CHI_SQUARED_BPZ  CLASS_STAR  DELTA_J2000  \\\n",
       "id                                                                           \n",
       "W3m0m1_11696  0.000760  0.002792            0.054    0.028628    53.106480   \n",
       "W3m0m1_13805  0.000602  0.011452            0.341    0.028643    53.112236   \n",
       "W3m0m1_14097  0.000762  0.017118            0.308    0.028655    53.108660   \n",
       "W3m0m1_14953  0.000175 -0.003837            0.100    0.028710    53.130319   \n",
       "W3m0m1_15171  0.000118 -0.004166            0.136    0.021400    53.132613   \n",
       "\n",
       "                ...     n_exposures_detec  n_exposures_used  \\\n",
       "id              ...                                           \n",
       "W3m0m1_11696    ...                     7                 0   \n",
       "W3m0m1_13805    ...                     7                 0   \n",
       "W3m0m1_14097    ...                     7                 0   \n",
       "W3m0m1_14953    ...                     7                 0   \n",
       "W3m0m1_15171    ...                     5                 5   \n",
       "\n",
       "                                                            pos  scalelength  \\\n",
       "id                                                                             \n",
       "W3m0m1_11696  Position ICRS 214.6502668999999 53.10647969000003       0.0000   \n",
       "W3m0m1_13805  Position ICRS 215.00328799999977 53.1122355599...       0.0000   \n",
       "W3m0m1_14097  Position ICRS 214.7319170999998 53.10865952999999       0.0000   \n",
       "W3m0m1_14953  Position ICRS 214.26110300000002 53.1303185000...       0.0000   \n",
       "W3m0m1_15171  Position ICRS 214.21133930000028 53.1326129599...       3.1838   \n",
       "\n",
       "                 sp_cat     sp_cat_id  star_flag  true_class   weight  \\\n",
       "id                                                                      \n",
       "W3m0m1_11696  sdss-dr10  1.493031e+18          0           0   0.0000   \n",
       "W3m0m1_13805  sdss-dr10  1.491820e+18          0           0   0.0000   \n",
       "W3m0m1_14097  sdss-dr10  1.493029e+18          0           0   0.0000   \n",
       "W3m0m1_14953  sdss-dr10  5.648736e+18          0           0   0.0000   \n",
       "W3m0m1_15171  sdss-dr10  5.649857e+18          0           0  15.4507   \n",
       "\n",
       "                z_spec  \n",
       "id                      \n",
       "W3m0m1_11696  0.202653  \n",
       "W3m0m1_13805  0.200794  \n",
       "W3m0m1_14097  0.114782  \n",
       "W3m0m1_14953  0.773710  \n",
       "W3m0m1_15171  0.948875  \n",
       "\n",
       "[5 rows x 102 columns]"
      ]
     },
     "execution_count": 4,
     "metadata": {},
     "output_type": "execute_result"
    }
   ],
   "source": [
    "df.head()"
   ]
  },
  {
   "cell_type": "markdown",
   "metadata": {},
   "source": [
    "The object IDs of the training set used in the paper are stored in `clens_train_id.txt`. We used these indices to construct the same training set, since we will simply read the save results of TPC, SOMc, and HB from txt files, not run the base classifiers in this notebook."
   ]
  },
  {
   "cell_type": "code",
   "execution_count": 5,
   "metadata": {
    "collapsed": true
   },
   "outputs": [],
   "source": [
    "train_id = pd.read_csv('data/clens_train_id.txt')\n",
    "train = df.loc[train_id.id]\n",
    "\n",
    "test_id =pd.read_csv('data/clens_test_id.txt')\n",
    "test = df.loc[test_id.id]"
   ]
  },
  {
   "cell_type": "markdown",
   "metadata": {},
   "source": [
    "It's useful to set aside the truth labels."
   ]
  },
  {
   "cell_type": "code",
   "execution_count": 6,
   "metadata": {
    "collapsed": false
   },
   "outputs": [],
   "source": [
    "truth_train = train['true_class'].values\n",
    "truth_test = test['true_class'].values"
   ]
  },
  {
   "cell_type": "markdown",
   "metadata": {},
   "source": [
    "## III. Classification Methods\n",
    "\n",
    "In this section, we present four distinct star-galaxy classification techniques. The first method is a morphological separation method, which uses a hard cut in the half-light radius vs.\\ magnitude plane. The second method is a supervised machine learning technique named TPC (Trees for Probabilistic Classification), which uses prediction trees and a random forest ([Carrasco Kind & Brunner 2013](http://adsabs.harvard.edu/abs/2013MNRAS.432.1483C)). The third method is an unsupervised machine learning technique named SOMc, which uses self-organizing maps (SOMs) and a random atlas to provide a classification ([Carrasco Kind & Brunner 2014](http://adsabs.harvard.edu/abs/2014MNRAS.438.3409C)). The fourth method is a Hierarchical Bayesian (HB) template fitting technique based on the work by [Fadely, Hogg, & Willman (2012)](http://adsabs.harvard.edu/abs/2012ApJ...760...15F)), which fits SED templates from star and galaxy libraries to an observed set of measured flux values.\n",
    "\n",
    "Collectively, these four methods represent the majority of all standard star-galaxy classification approaches published in the literature. It is very likely that any new classification technique would be functionally similar to one of these four methods. Therefore, any of these four methods could in principle be replaced by a similar method. \n",
    "\n",
    "### III.1. Morphological classification\n",
    "\n",
    "The simplest and perhaps the most widely used approach to star-galaxy classification is to make a hard cut in the space of photometric attributes. As a first-order morphological selection of point sources, we adopt a technique that is popular among the weak lensing community. "
   ]
  },
  {
   "cell_type": "code",
   "execution_count": 7,
   "metadata": {
    "collapsed": false
   },
   "outputs": [],
   "source": [
    "r_h_cv = train.FLUX_RADIUS.values\n",
    "mag_i_cv = train.MAG_i.values"
   ]
  },
  {
   "cell_type": "code",
   "execution_count": 8,
   "metadata": {
    "collapsed": false
   },
   "outputs": [
    {
     "data": {
      "image/png": "[encoded data removed]",
      "text/plain": [
       "<matplotlib.figure.Figure at 0x7f25820d2510>"
      ]
     },
     "metadata": {},
     "output_type": "display_data"
    }
   ],
   "source": [
    "color_true = False\n",
    "draw_box = False\n",
    "\n",
    "mag_i_lower = 17\n",
    "mag_i_upper = 21.0\n",
    "r_h_lower = 1.4\n",
    "r_h_upper = 2.8\n",
    "\n",
    "# select a subset to make the plot not too crowded\n",
    "rows = np.random.choice(xrange(len(r_h_cv)), size=5000)\n",
    "\n",
    "if color_true:\n",
    "    color_star = 'g'\n",
    "    color_gal = 'b'\n",
    "else:\n",
    "        color_star = color_gal = 'k'\n",
    "\n",
    "mask = truth_train.astype(bool)\n",
    "\n",
    "plt.scatter(r_h_cv[mask][::3], mag_i_cv[mask][::3], marker='.', s=5, color=color_star)\n",
    "plt.scatter(r_h_cv[~mask][::10], mag_i_cv[~mask][::10], marker='.', s=5, color=color_gal)\n",
    "\n",
    "plt.xlabel('half-light radius (pixels)')\n",
    "plt.ylabel(r'$i$ (mag)')\n",
    "plt.xlim(0, 6)\n",
    "plt.ylim(16, 25)\n",
    "plt.ylim(plt.ylim()[::-1])\n",
    "\n",
    "if draw_box:\n",
    "    plt.plot([r_h_upper, r_h_upper], [mag_i_lower, mag_i_upper], c = 'r')\n",
    "    plt.plot([r_h_lower, r_h_lower], [mag_i_lower, mag_i_upper], c = 'r')\n",
    "    plt.plot([r_h_lower, r_h_upper], [mag_i_upper, mag_i_upper], c = 'r')\n",
    "    plt.plot([r_h_upper, r_h_lower], [mag_i_lower, mag_i_lower], c = 'r')\n",
    "\n",
    "plt.show()"
   ]
  },
  {
   "cell_type": "markdown",
   "metadata": {},
   "source": [
    "[See code for Figure 1](paper/notebooks/figure01/morph.ipynb)\n",
    "\n",
    "Figure 1. Half-light radius vs. magnitude."
   ]
  },
  {
   "cell_type": "markdown",
   "metadata": {},
   "source": [
    "As figure 1 shows, there is a distinct locus produced by point sources in the half-light radius (estimated by [SExtractor](http://www.astromatic.net/software/sextractor)'s FLUX RADIUS parameter) vs. the $i$-band magnitude plane. A rectangular cut in this size-magnitude plane separates point sources, which are presumed to be stars, from resolved sources, which are presumed to be galaxies. The boundaries of the selection box are determined by manually inspecting the size-magnitude diagram.\n",
    "\n",
    "One of the disadvantages of such cut-based methods is that it classifies every source with absolute certainty. It is difficult to justify such a decisive classification near a survey's magnitude limits, where measurement uncertainties generally increase. A more informative approach is to provide probabilistic classifications. Although a recent work by [Henrion 2011](http://adsabs.harvard.edu/abs/2011MNRAS.412.2286H) implemented a probabilistic classification using a Bayesian approach on the morphological measurements alone, here we use a cut-based morphological separation to demonstrate the advantages of our combination techniques. In particular, we later show that the binary outputs (i.e., 0 or 1) of cut-based methods can be transformed into probability estimates by combining them with the probability outputs from other probabilistic classification techniques, such as TPC, SOMc, and HB.\n",
    "\n",
    "\n",
    "A morphological classifier is simple to implement:"
   ]
  },
  {
   "cell_type": "code",
   "execution_count": 9,
   "metadata": {
    "collapsed": false
   },
   "outputs": [],
   "source": [
    "def morph_class(magnitude, half_radius, cut=[0, 25, 1.0, 3.0]):\n",
    "    point_source = ((magnitude > cut[0]) & (magnitude < cut[1]) &\n",
    "                    (half_radius > cut[2]) & (half_radius < cut[3]))\n",
    "    return point_source.astype(np.int)"
   ]
  },
  {
   "cell_type": "code",
   "execution_count": 10,
   "metadata": {
    "collapsed": true
   },
   "outputs": [],
   "source": [
    "morph_cv = morph_class(mag_i_cv, r_h_cv, cut=[mag_i_lower, mag_i_upper, r_h_lower, r_h_upper])"
   ]
  },
  {
   "cell_type": "markdown",
   "metadata": {},
   "source": [
    "We use the same morphological classifier to separate stars from galaxies in the test set."
   ]
  },
  {
   "cell_type": "code",
   "execution_count": 11,
   "metadata": {
    "collapsed": false
   },
   "outputs": [],
   "source": [
    "r_h_test = test.FLUX_RADIUS.values\n",
    "mag_i_test = test.MAG_i.values\n",
    "\n",
    "morph_test = morph_class(mag_i_test, r_h_test, cut=[mag_i_lower, mag_i_upper, r_h_lower, r_h_upper])"
   ]
  },
  {
   "cell_type": "markdown",
   "metadata": {},
   "source": [
    "### III.2. Trees for Probabilistic Classification (TPC)\n",
    "\n",
    "[Carrasco Kind & Brunner (2013)](http://adsabs.harvard.edu/abs/2013MNRAS.432.1483C)\n",
    "\n",
    "<img src=\"bmc/images/example_tree.png\" width=\"500\">\n",
    "\n",
    "<center> Image: A visual representation of a random forest (source: [TPZ: Trees for Photo-Z](http://pythonhosted.org/MLZ/tpz.html)) </center>\n",
    "\n",
    "TPC is a parallel, supervised machine learning algorithm that uses prediction trees and random forest techniques ([Breiman 1984](https://scholar.google.com/citations?view_op=view_citation&hl=en&user=mXSv_1UAAAAJ&citation_for_view=mXSv_1UAAAAJ:u5HHmVD_uO8C)) to produce a star-galaxy classification. TPC is a part of a publicly available software package called [MLZ (Machine Learning for Photo-$z$)](http://lcdm.astro.illinois.edu/static/code/mlz/MLZ-1.2/doc/html/).\n",
    "The full software package includes: TPZ, a supervised photometric redshift (photo-$z$) estimation technique ([Carrasco Kind & Brunner 2013](http://adsabs.harvard.edu/abs/2013MNRAS.432.1483C)); TPC, a supervised star-galaxy classification technique (classification mode); SOM$z$, an unsupervised photo-$z$ technique ([Carrasco Kind & Brunner 2014](http://adsabs.harvard.edu/abs/2014MNRAS.438.3409C)) ; and SOMc, an unsupervised star-galaxy classification technique (classification mode).\n",
    "\n",
    "TPC uses classification trees, a type of prediction trees that are designed to provide a classification or predict a discrete category. Prediction trees are built by asking a sequence of questions that recursively split the data into branches until a terminal leaf is created that meets a stopping criterion (e.g., a minimum leaf size). The optimal split dimension is decided by choosing the attribute that maximizes the _Information Gain_ ($I_G$), which is defined as\n",
    "\n",
    "$$\n",
    "  I_G \\left(D_{\\mathrm{node}}, X\\right)\n",
    "  = I_d \\left( D_{\\mathrm{node}} \\right)\n",
    "  - \\sum_{x \\in \\mathrm{values}(X)}\n",
    "  \\frac{|D_{\\mathrm{node}, x}|}{|D_{\\mathrm{node}}|}\n",
    "  I_d \\left( D_{\\mathrm{node}, x} \\right),\n",
    "$$\n",
    "\n",
    "where $D_{\\mathrm{node}}$ is the training data in a given node, $X$ is one of the possible dimensions (e.g., magnitudes or colors) along which the node is split, and $x$ are the possible values of a specific dimension $X$. $|D_{\\mathrm{node}}|$ and $|D_{\\mathrm{node}, x}|$ are the size of the total training data and the number of objects in a given subset $x$ within the current node, respectively. $I_d$ is the impurity degree index, and TPC can calculate $I_d$ from any of the three standard different impurity indices: _information entropy_, _Gini impurity_, and _classification error_. In this work, we use the information entropy, which is defined similarly to the thermodynamic entropy:\n",
    "\n",
    "$$  I_d \\left( D \\right)\n",
    "  = - f_g \\log_{2} f_g - \\left(1 - f_g\\right) \\log_{2} \\left(1 - f_g\\right),\n",
    "$$\n",
    "\n",
    "where $f_g$ is the fraction of galaxies in the training data. At each node in our tree, we scan all dimensions to identify the split point that maximizes the information gain, and select the attribute that maximizes the impurity index overall.\n",
    "\n",
    "In a technique called random forest, we create bootstrap samples (i.e., $N$ randomly selected objects with replacement) from the input training data by sampling repeatedly from the magnitudes and colors using their measurement errors. We use these bootstrap samples to construct multiple, uncorrelated prediction trees whose individual predictions are aggregated to produce a star-galaxy classification for each source.\n",
    "\n",
    "We also use a cross-validation technique called Out-of-Bag (OOB; [Breiman 1984](https://scholar.google.com/citations?view_op=view_citation&hl=en&user=mXSv_1UAAAAJ&citation_for_view=mXSv_1UAAAAJ:u5HHmVD_uO8C), [Carrasco Kind & Brunner (2013)](http://adsabs.harvard.edu/abs/2013MNRAS.432.1483C)). When a tree (or a map) is built in TPC (or SOMc), a fraction of the training data, usually one-third, is left out and not used in training the trees (or maps). After a tree is constructed using two-thirds of the training data, the final tree is applied to the remaining one-third to make a classification. This process is repeated for every tree, and the predictions from each tree are aggregated for each object to make the final star-galaxy classification. We emphasize that if an object is used for training a given tree, it is never used for subsequent prediction by that tree. Thus, the OOB data is an unbiased estimation of the errors and can be used as cross-validation data as long as the OOB data remain similar to the final test data set. The OOB technique can also provide extra information such as a ranking of the relative importance of the input attributes used in the prediction. The OOB technique can prove extremely valuable when calibrating the algorithm, when deciding which attributes to incorporate in the construction of the trees, and when combining this approach with other techniques.\n",
    "\n",
    "We used XSEDE computing resources to run TPC on [TACC Stampede](https://www.tacc.utexas.edu/) with the following parameters (unimportant parameters are omiitted):\n",
    "\n",
    "- Att              : u, g, r, i, z, u-g, g-r, r-i, i-z\n",
    "- PredictionMode   : TPZ_C\n",
    "- PredictionClass  : Class\n",
    "- MinZ             : 0\n",
    "- MaxZ             : 1\n",
    "- NzBins           : 2\n",
    "- NRandom          : 5\n",
    "- NTrees           : 100\n",
    "- Natt             : 3\n",
    "- OobError         : yes\n",
    "- MinLeaf          : 5\n",
    "- ImpurityIndex    : entropy\n",
    "\n",
    "Here, we simply load the results, Out-of-Bag (OOB) and test prediction files."
   ]
  },
  {
   "cell_type": "code",
   "execution_count": 12,
   "metadata": {
    "collapsed": false
   },
   "outputs": [],
   "source": [
    "tpc_cv = np.loadtxt('paper/data/clens_tpc_oob.mlz', unpack=True, usecols=(2,))\n",
    "tpc_test = np.loadtxt('paper/data/clens_tpc_test.mlz', unpack=True, usecols=(2,))"
   ]
  },
  {
   "cell_type": "markdown",
   "metadata": {},
   "source": [
    "### III.3. Self-Organizing Maps Classification (SOMc)\n",
    "\n",
    "[Carrasco-Kind & Brunner (2014)](http://adsabs.harvard.edu/abs/2014MNRAS.438.3409C)\n",
    "\n",
    "<img src=\"bmc/images/scheme2.png\" width=\"500\">\n",
    "\n",
    "<center> Image: A schematic representation of a SOM (source: [SOMz: Self Organizing Maps and random atlas](http://pythonhosted.org/MLZ/somz.html)) </center>\n",
    "\n",
    "A [self-organizing map](https://en.wikipedia.org/wiki/Self-organizing_map) ([Kohonen 1998](http://www.sciencedirect.com/science/article/pii/S0925231298000307)) is an unsupervised, artificial neural network algorithm that is capable of projecting high-dimensional input data onto a low-dimensional map through a process of competitive learning. In astronomical applications, the high-dimensional input data can be magnitudes, colors, or some other photometric attributes. The output map is usually chosen to be two-dimensional so that the resulting map can be used for visualizing various properties of the input data. The differences between a SOM and typical neural network algorithms are that a SOM is unsupervised, there are no hidden layers and therefore no extra parameters, and it produces a direct mapping between the training set and the output network. In fact, a SOM can be viewed as a non-linear generalization of a principal component analysis (PCA) algorithm ([Yin 2008](http://link.springer.com/chapter/10.1007%2F978-3-540-78293-3_17)).\n",
    "\n",
    "The key characteristic of SOM is that\n",
    "it retains the topology of the input training set,\n",
    "revealing correlations between input data that are not obvious.\n",
    "The method is unsupervised:\n",
    "the user is not required to specify the desired output\n",
    "during the creation of the lower-dimensional map,\n",
    "and the mapping of the components from the input vectors\n",
    "is a natural outcome of the competitive learning process.\n",
    "\n",
    "During the construction of a SOM,\n",
    "each node on the two-dimensional map is represented by\n",
    "weight vectors of the same dimension\n",
    "as the number of attributes used to create the map itself.\n",
    "In an iterative process,\n",
    "each object in the input sample is individually used\n",
    "to correct these weight vectors.\n",
    "This correction is determined so that the specific neuron (or node),\n",
    "which at a given moment best represents the input source,\n",
    "is modified along with the weight vectors\n",
    "of that node's neighboring neurons.\n",
    "As a result, this sector within the map\n",
    "becomes a better representation of the current input object.\n",
    "This process is repeated for every object in the training data,\n",
    "and the entire process is repeated for several iterations.\n",
    "Eventually, the SOM converges to its final form where\n",
    "the training data is separated into groups of similar features.\n",
    "Although the spectroscopic labels are not used at all\n",
    "in the learning process, they are used\n",
    "(only after the map has been constructed)\n",
    "to generate predictions for each cell in the resulting two-dimensional map.\n",
    "\n",
    "In a similar approach to random forest in TPZ and TPC,\n",
    "SOM$z$ uses a technique called \\textit{random atlas}\n",
    "to provide photo-$z$ estimation \\citep{carrascokind2014somz}.\n",
    "In random atlas, the prediction trees of random forest are replaced by maps,\n",
    "and each map is constructed from different bootstrap samples\n",
    "of the training data.\n",
    "Furthermore, we create random realizations of the training data\n",
    "by perturbing the magnitudes and colors by their measurement errors.\n",
    "For each map, we can either use all available attributes,\n",
    "or randomly select a subsample of the attribute space.\n",
    "This SOM implementation can also be\n",
    "applied to the classification problem,\n",
    "and we refer to it as SOMc\n",
    "in order to differentiate it from \n",
    "the photo-$z$ estimation problem (regression mode).\n",
    "We also use the random atlas approach\n",
    "in some of the classification combination approaches as discussed in\n",
    "Section IV.\n",
    "\n",
    "One of the most important parameter in SOMc\n",
    "is the topology of the two-dimensional SOM,\n",
    "which can be rectangular, hexagonal, or spherical.\n",
    "In our SOM implementation, it is also possible\n",
    "to use periodic boundary conditions for the non-spherical cases.\n",
    "The spherical topology is by definition periodic and\n",
    "is constructed by using [HEALPIX](http://healpix.jpl.nasa.gov/).\n",
    "Similar to TPC,\n",
    "we use the OOB technique to make an unbiased estimation of errors.\n",
    "We determine the optimal parameters by performing\n",
    "a grid search in the parameter space of different toplogies,\n",
    "as well as other SOM parameters, for the OOB data.\n",
    "We find that the spherical topology gives the best performance\n",
    "for the CFHTLenS data, likely due to its natural periodicity.\n",
    "Thus, we use a spherical topology to classify stars and galaxies\n",
    "in the CFHTLenS data.\n",
    "For a complete description of the SOM implementation\n",
    "and its application to the estimation of\n",
    "photo-$z$ probability density functions (photo-$z$ PDFs),\n",
    "we refer the reader to [Carrasco Kind & Brunner (2014)](http://adsabs.harvard.edu/abs/2014MNRAS.438.3409C).\n",
    "\n",
    "We used XSEDE computing resources to run SOMc on TACC Stampede with the following parameters (unimportant parameters are omiitted):\n",
    "\n",
    "- Att              : u, g, r, i, z, u-g, g-r, r-i, i-z\n",
    "- PredictionMode   : SOM\n",
    "- PredictionClass  : Class\n",
    "- MinZ             : 0\n",
    "- MaxZ             : 1\n",
    "- NzBins           : 2\n",
    "- NRandom          : 10\n",
    "- NTrees           : 100\n",
    "- Natt             : 6\n",
    "- OobError         : yes\n",
    "- Topology         : sphere\n",
    "- Periodic         : yes\n",
    "- Ntop             : 8\n",
    "- Iterations       : 200\n",
    "- SomType          : online\n",
    "- AlphaStart       : 0.9\n",
    "- AlphaEnd         : 0.5\n",
    "\n",
    "Here, we load the resulting Out-of-Bag (OOB) and test prediction files."
   ]
  },
  {
   "cell_type": "code",
   "execution_count": 13,
   "metadata": {
    "collapsed": false
   },
   "outputs": [],
   "source": [
    "som_cv = np.loadtxt('paper/data/clens_som_oob.mlz', unpack=True, usecols=(2,))\n",
    "som_test = np.loadtxt('paper/data/clens_som_test.mlz', unpack=True, usecols=(2,))"
   ]
  },
  {
   "cell_type": "markdown",
   "metadata": {
    "collapsed": true
   },
   "source": [
    "### III.4. Template Fitting: Heirarchical Bayesian\n",
    "\n",
    "[Fadely, Hoog, & Willman (2015)](http://adsabs.harvard.edu/abs/2012ApJ...760...15F)\n",
    "\n",
    "![](bmc/images/sdss_cfhtls_ugriz.gif)\n",
    "\n",
    "<center> Image: The CFHTLS and SDSS filter sets (source: [CFHTLS](http://www1.cadc-ccda.hia-iha.nrc-cnrc.gc.ca/community/CFHTLS-SG/docs/extra/filters.html)) </center>\n",
    "\n",
    "One of the most common methods to classify a source based on its observed magnitudes is template fitting. Template fitting algorithms do not require a spectroscopic training sample; there is no need for additional knowledge outside the observed data and the template SEDs. However, any incompleteness in our knowledge of the template SEDs that fully span the possible SEDs of observed sources may lead to misclassification of sources.\n",
    "\n",
    "Bayesian algorithms use Bayesian inference to quantify the relative probability that each template matches the input photometry and determine a probability estimate by computing the posterior that a source is a star or a galaxy. In this work, we have modified and parallelized a publicly available Hierarchical Bayesian (HB) template fitting algorithm by [Fadely, Hogg, & Willman (2012)](http://adsabs.harvard.edu/abs/2012ApJ...760...15F). In this section, we provide a brief description of the HB template fitting technique; for the details of the underlying HB approach, we refer the reader to [Fadely et al. (2012)](http://adsabs.harvard.edu/abs/2012ApJ...760...15F).\n",
    "\n",
    "We write the posterior probability that a source is a star as\n",
    "\n",
    "$$ P \\left( S | \\mathbf{x}, \\mathbf{\\theta} \\right) = P \\left( \\mathbf{x} | S, \\mathbf{\\theta} \\right) P \\left( S | \\mathbf{\\theta} \\right), $$\n",
    "\n",
    "where $\\mathbf{x}$ represents a given set of observed magnitudes. We have also introduced the _hyperparameter_ $\\mathbf{\\theta}$, a nuisance parameter that characterizes our uncertainty in the prior distribution. To compute the likelihood that a source is a star, we marginalize over all star and galaxy templates $\\mathbf{T}$. In a template-fitting approach, we marginalize by summing up the likelihood that a source has the set of magnitudes $\\mathbf{x}$ for a given star template as well as the likelihood for a given galaxy template:\n",
    "\n",
    "$$ P \\left(\\mathbf{x} | S, \\mathbf{\\theta} \\right) = \\sum_{t \\in \\mathbf{T}} P \\left(\\mathbf{x} | S, t, \\mathbf{\\theta} \\right) P \\left(t | S, \\mathbf{\\theta} \\right).$$\n",
    "\n",
    "The likelihood of each template $ P \\left( \\mathbf{x} | S, \\mathbf{\\theta} \\right) $ is itself marginalized over the uncertainty in the template-fitting coefficient. Furthermore, for galaxy templates, we introduce another step that \n",
    "marginalizes the likelihood by redshifting a given galaxy template by a factor of $1 + z$.\n",
    "\n",
    "Marginalization requires that we specify the prior probability $ P \\left(t | S, \\mathbf{\\theta} \\right) $ that a source has a spectral template $t$ (at a given redshift). Thus, the probability that a source is a star (or a galaxy) is either the posterior probability itself if a prior is used, or the likelihood itself if an uninformative prior is used. In a Bayesian analysis, it is preferable to use a prior, which can be directly computed either from physical assumptions, or from an empirical function calibrated by using a spectroscopic training sample. In an HB approach, the entire sample of sources is used to infer the prior probabilities for each individual source.\n",
    "\n",
    "Since the templates are discrete in both SED shape and physical properties, we parametrize the prior probability of each template as a discrete set of weights such that\n",
    "\n",
    "$$ \\sum_{t \\in \\mathbf{T}} P \\left(t | S, \\mathbf{\\theta} \\right) = 1. $$\n",
    "\n",
    "Similarly, we also parametrize the overall prior probability, $\\left(S | \\mathbf{\\theta}\\right)$, as a weight. These weights correspond to the hyperparameters, which can be inferred by sampling the posterior probability distribution in the hyperparameter space. For the sampling, we use [emcee](http://dan.iel.fm/emcee/), a Python implementation of the\n",
    "affine-invariant Markov Chain Monte Carlo (MCMC) ensemble sampler ([Foreman-Mackey et al. 2013](http://arxiv.org/abs/1202.3665)).  \n",
    "\n",
    "As the goal of template fitting methods is to minimize the difference between observed and theoretical magnitudes, this approach heavily relies on both the use of SED templates and the accuracy of the transmission functions for the filters used for particular survey. For our stellar templates, we use the empirical SED library from [Pickles (1998)](http://adsabs.harvard.edu/abs/1998PASP..110..863P). The Pickles library consists of 131 stellar templates, which span all normal spectral types and luminosity classes at solar abundance, as well as metal-poor and metal-rich F-K dwarf and G-K giant and supergiant stars. We supplement the stellar library with 100 SEDs from [Chabrier et al. 2000](http://adsabs.harvard.edu/abs/2000ApJ...542..464C), which include low mass stars and brown dwarfs with different $T_{\\mathrm{eff}}$ and surface gravities. We also include four white dwarf templates of\n",
    "[Bohlin, Colina, & Finley (1995)](http://adsabs.harvard.edu/abs/1995AJ....110.1316B), for a total of 235 templates in our final stellar library. For our galaxy templates, we use four CWW spectra from [Coleman, Wu, & Weeman (1980)](http://adsabs.harvard.edu/abs/1980ApJS...43..393C), which include an Elliptical, an Sba, an Sbb, and an Irregular galaxy template. When extending an analysis to higher redshifts, the CWW library is often augmented with two star bursting galaxy templates from [Kinney et al. (1996)](http://adsabs.harvard.edu/abs/1996ApJ...467...38K). From the six original CWW and Kinney spectra, intermediate templates are created by interpolation, for a total of 51 SEDs in our final galaxy library.\n",
    "\n",
    "All of the above templates are convolved with the filter response curves to generate model magnitudes. These response curves consist of $u$, $g$, $r$, $i$, $z$ filter transmission functions for the observations taken by the Canada-France Hawaii Telescope (CFHT)."
   ]
  },
  {
   "cell_type": "code",
   "execution_count": 14,
   "metadata": {
    "collapsed": false
   },
   "outputs": [],
   "source": [
    "hbc_all = np.loadtxt('paper/data/clens_all.hbc', unpack=True, usecols=(0,))\n",
    "hbc_cv = hbc_all[:len(train)]\n",
    "hbc_test = hbc_all[len(train):]"
   ]
  },
  {
   "cell_type": "markdown",
   "metadata": {},
   "source": [
    "## IV. Classification combination methods\n",
    "\n",
    "Building on the work in the field of ensemble learning, we combine the predictions from individual star-galaxy classification techniques using four combination techniques. The main idea behind ensemble learning is to weight the predictions from individual models and combine them to obtain a prediction that outperforms every one of  them individually ([Rokach 2010](http://link.springer.com/article/10.1007%2Fs10462-009-9124-7)).\n",
    "\n",
    "### IV.1. Unsupervised Binning\n",
    "\n",
    "Given the variety of star-galaxy classification methods\n",
    "we are using,\n",
    "we fully expect the relative performance\n",
    "of the individual techniques to vary across\n",
    "the parameter space spanned by the data.\n",
    "For example, it is reasonable to expect \n",
    "supervised techniques to outperform other techniques\n",
    "in areas of parameter space that are well-populated\n",
    "with training data.\n",
    "Similarly, we can expect unsupervised approaches\n",
    "such as SOM or template fitting approaches \n",
    "to generally perform better when a training sample\n",
    "is either sparse or unavailable.\n",
    "\n",
    "We therefore adopt a binning strategy similar to [Carrasco Kind & Brunner (2014)](http://adsabs.harvard.edu/abs/2014MNRAS.442.3380C).\n",
    "In this binning strategy,\n",
    "we allow different classifier combinations \n",
    "in different parts of parameter space\n",
    "by creating two-dimensional SOM representations of\n",
    "the full nine-dimensional magnitude-color space:\n",
    "$u$, $g$, $r$, $i$, $z$, $u-g$, $g-r$, $r-i$, and $i-z$.\n",
    "A SOM representation can be rectangular, hexagonal, or spherical;\n",
    "here we choose a 10$\\times$10 rectangular topology to facilitate \n",
    "visualization as shown in Figure 2.\n",
    "We note that this choice is mainly for convenience\n",
    "and that the optimal topology and map size would likely depend on\n",
    "a number of factors, such as the number of objects and attributes.\n",
    "For all combination methods,\n",
    "we use only the OOB (cross-validation) data contained in each cell\n",
    "to compute the relative weights for the base classifiers.\n",
    "The weights within individual cells are then applied to\n",
    "the blind test data set to make the prediction.\n",
    "\n",
    "Furthermore, we construct a collection of SOM representations\n",
    "and subsequently combine the predictions from each map\n",
    "into a meta-prediction.\n",
    "Given a training sample of $N$ sources,\n",
    "we generate $N_R$ random realizations of training data\n",
    "by perturbing the attributes\n",
    "with the measured uncertainty for each attribute.\n",
    "The uncertainties are assumed to be normally distributed.\n",
    "In this manner,\n",
    "we reduce the bias towards the data\n",
    "and introduce randomness in a systematic manner.\n",
    "For each random realization of a training sample,\n",
    "we create $N_M$ bootstrap samples of size $N$\n",
    "to generate $N_M$ different maps.\n",
    "\n",
    "After all maps are built,\n",
    "we have a total of $N_R \\times N_M$ probabilistic outputs\n",
    "for each of the $N$ sources.\n",
    "To produce a single probability estimate for each source,\n",
    "we could take the mean, the median, or some other simple statistic.\n",
    "With a sufficient number of maps,\n",
    "we find that there is usually negligible difference\n",
    "between taking the mean and taking the median, and\n",
    "use the median in the following sections.\n",
    "We note that it is also possible to establish confidence intervals\n",
    "using the distribution of the probability estimates.\n",
    "\n",
    "### IV.2. Weighted Average\n",
    "\n",
    "The simplest approach to combine different combination techniques is\n",
    "to simply add the individual classifications from the base classifiers\n",
    "and renormalize the sum.\n",
    "In this case, the final probability is given by\n",
    "\n",
    "$$\n",
    "P\\left(S | \\mathbf{x}, \\mathbf{M} \\right)\n",
    "= \\sum_{i} P \\left( S | \\mathbf{x}, M_{i} \\right),\n",
    "$$\n",
    "\n",
    "where $\\mathbf{M}$ is the set of models\n",
    "(TPC, SOMc, HB, and morphological separation\n",
    "in our work).\n",
    "We improve on this simple approach\n",
    "by using the binning strategy to\n",
    "calculate the weighted average of objects in each SOM cell\n",
    "separately for each map,\n",
    "and then combine the predictions from each map into a final prediction.\n",
    "\n",
    "\n",
    "### IV.3. Bucket of Models (BoM)\n",
    "\n",
    "After the multi-dimensional input data have been binned,\n",
    "we can use the cross-validation data\n",
    "to choose the best model within each bin,\n",
    "and use only that model within that specific bin\n",
    "to make predictions for the test data.\n",
    "We use the mean squared error\n",
    "(MSE; also known as [Brier score](https://en.wikipedia.org/wiki/Brier_score)\n",
    "as a classification error metric. We define MSE as\n",
    "\n",
    "$$\n",
    "\\mathrm{MSE} = \\frac{1}{N} \\sum^{N - 1}_{i = 0}\n",
    "  \\left( y_i - \\hat{y}_i \\right)^2,\n",
    "$$\n",
    "\n",
    "where $\\hat{y}_i$ is the actual truth value\n",
    "(\\eg 0 or 1) of the $i^{\\text{th}}$ data, \n",
    "and $y_{i}$ is the probability prediction made by the models.\n",
    "Thus, a model with the minimum MSE is chosen in each bin,\n",
    "and is assigned a weight of one,\n",
    "and zero for all other models.\n",
    "However, the chosen model is allowed to vary between different bins.\n",
    "\n",
    "### IV.4. Stacking\n",
    "\n",
    "Instead of selecting a single model that performs best within each bin,\n",
    "we can train a learning algorithm to combine the output values of\n",
    "several other base classifiers in each bin.\n",
    "An ensemble learning method of using a meta-classifier\n",
    "to combine lower-level classifiers is known as _stacking_\n",
    "or _stacked generalization_ ([Wolpert 1992](http://citeseerx.ist.psu.edu/viewdoc/summary?doi=10.1.1.56.1533)).\n",
    "Although any arbitrary algorithm\n",
    "can theoretically be used as a meta-classifier,\n",
    "a logistic regression or a linear regression is often used\n",
    "in practice.\n",
    "In our work,\n",
    "we use a single-layer multi-response linear regression algorithm,\n",
    "which often shows the best performance ([Breiman 1996](http://link.springer.com/article/10.1007%2FBF00117832), [Ting 1999](http://arxiv.org/abs/1105.5466)). \n",
    "This algorithm\n",
    "is a variant of the least-square regression algorithm,\n",
    "where a linear regression model is constructed for each class.\n",
    "\n",
    "### IV.5. Bayesian Model Combination\n",
    "\n",
    "Hybrid BMC: [Kim, Brunner & Carrasco-Kind (2015)](http://adsabs.harvard.edu/abs/2015MNRAS.453..507K)\n",
    "\n",
    "BMC: [Monteith et al. (2011)](http://ieeexplore.ieee.org/xpls/abs_all.jsp?arnumber=6033566&tag=1)\n",
    "\n",
    "We also use a model combination technique known as Bayesian Model Combination (BMC; [Monteith et al. 2011](http://ieeexplore.ieee.org/xpls/abs_all.jsp?arnumber=6033566&tag=1)), which uses Bayesian principles to generate an ensemble combination of different classifiers. The posterior probability that a source is a star is given by\n",
    "\n",
    "$$ P \\left(S | \\mathbf{x}, \\mathbf{D}, \\mathbf{M}, \\mathbf{E} \\right) = \\sum_{e \\in \\mathbf{E}} P \\left(S | \\mathbf{x}, \\mathbf{M}, e \\right) P \\left(e | \\mathbf{D} \\right), $$\n",
    "\n",
    "where $\\mathbf{D}$ is the data set, and $e$ is an element in the ensemble space $\\mathbf{E}$ of possible model combinations. By Bayes' Theorem, the posterior probability of $e$ given $\\mathbf{D}$ is given by\n",
    "\n",
    "$$  P \\left(e | \\mathbf{D} \\right) = \\frac{P \\left(e \\right)}{P \\left(\\mathbf{D} \\right)} \\prod_{d \\in \\mathbf{D}} P \\left( d | e \\right) \\propto P \\left(e\\right) \\prod_{d \\in \\mathbf{D}} P \\left(d | e \\right). $$\n",
    "\n",
    "Here, $P\\left(e \\right)$ is the prior probability of $e$, which we assume to be uniform. The product of $P\\left(d | e\\right)$ is over all individual data $d$ in the training data $\\mathbf{D}$, and $P\\left(\\mathbf{D}\\right)$ is merely a normalization factor and not important.\n",
    "\n",
    "For binary classifiers whose output is either zero or one (e.g., a cut-based morphological separation), we assume that each example is corrupted with an average error rate $\\epsilon$. This means that $P\\left(d|e\\right) = 1-\\epsilon$ if the combination $e$ correctly predicts class $\\hat{y}_i$ for the $i^{\\text{th}}$ object, and $P\\left(d|e\\right) = \\epsilon$ if it predicts an incorrect class. The average rate $\\epsilon$ can be estimated by the fraction $\\left(M_g + M_s\\right) / N$,\n",
    "where $M_g$ is the number of true galaxies classified as stars, $M_s$ is the number of true stars classified as galaxies, and $N$ is the total number of sources. We then have\n",
    "\n",
    "$$  P \\left( e | \\mathbf{D} \\right) \\propto  P \\left( e \\right) \\left(1 - \\epsilon \\right)^{N - M_s - M_g} \\left( \\epsilon \\right)^{M_s + M_g}. $$\n",
    "\n",
    "For probabilistic classifiers, we can directly use the probabilistic predictions and write\n",
    "\n",
    "$$  P \\left( e | \\mathbf{D} \\right) \\propto P \\left( e \\right) \\prod_{i=0}^{N-1} \\hat{y}_i y_i + \\left(1 - \\hat{y}_i\\right) \\left(1 - y_i\\right). $$\n",
    "\n",
    "Although the space $\\mathbf{E}$ of potential model combinations is in principle infinite, we can produce a reasonable finite set of potential model combinations by using sampling techniques. In our implementation, the weights of each combination of the base classifiers is obtained by sampling from a Dirichlet distribution. We first set all alpha values of a Dirichlet distribution to unity. We then sample this distribution $q$ times to obtain $q$ sets of weights. For each combination, we assume a uniform prior and calculate $P\\left(e|\\mathbf{D}\\right)$ using the above equations. We select the combination with the highest $P\\left(e|\\mathbf{D}\\right)$, and update the alpha values by adding the weights of the most probable combination to the current alpha values. The next $q$ sets of weights are drawn using the updated alpha values.\n",
    "\n",
    "We continue the sampling process until we reach a predefined number of combinations, and finally compute the posterior probability that a source is a star (or a galaxy). In this paper, we use a $q$ value of three, and 1,000 model combinations are considered. We also use a binned version of the BMC technique, where we use a SOM representation to apply different model combinations for different regions of the parameter space."
   ]
  },
  {
   "cell_type": "code",
   "execution_count": 15,
   "metadata": {
    "collapsed": false
   },
   "outputs": [],
   "source": [
    "from bmc import bmc"
   ]
  },
  {
   "cell_type": "markdown",
   "metadata": {},
   "source": [
    "We need the magnitude, magnitude errors, and colors for BMC."
   ]
  },
  {
   "cell_type": "code",
   "execution_count": 16,
   "metadata": {
    "collapsed": false
   },
   "outputs": [],
   "source": [
    "mags = ['MAG_u', 'MAG_g', 'MAG_r', 'MAG_i', 'MAG_z']\n",
    "magerrs = ['MAGERR_u', 'MAGERR_g', 'MAGERR_r', 'MAGERR_i', 'MAGERR_z']\n",
    "colors = ['u-g', 'g-r', 'r-i', 'i-z']"
   ]
  },
  {
   "cell_type": "markdown",
   "metadata": {},
   "source": [
    "We calculate colors and impute bad/missing values (-99, 99) with the mean values of each field."
   ]
  },
  {
   "cell_type": "code",
   "execution_count": 17,
   "metadata": {
    "collapsed": false
   },
   "outputs": [],
   "source": [
    "def impute_mags(df, mags=None, magerrs=None):\n",
    "    bad_values = [-99, 99]\n",
    "    df[mags + magerrs] = df[mags + magerrs].replace(bad_values, [np.nan] * len(bad_values))\n",
    "    return df.fillna(df[mags + magerrs].mean())\n",
    "\n",
    "def perturb_mags(df, mags=None, magerrs=None):\n",
    "    for m, merr in zip(mags, magerrs):\n",
    "        # set replace merr = 0 with a very small value. necessary to avoid numpy scale == 0 error.\n",
    "        df[merr].where(df[merr] > 0, 1.0e-100, inplace=True)\n",
    "        df[m] = np.random.normal(df[m].values, df[merr].values)\n",
    "    return df\n",
    "\n",
    "def calc_colors(df, colors=None):\n",
    "    for c in colors:\n",
    "        df[c] = df['MAG_' + c[0]] - df['MAG_' + c[2]]\n",
    "    for c in colors:\n",
    "        df[c].where(df[c] < 4, np.nan, inplace = True)\n",
    "        df[c].where(df[c] > -1, np.nan, inplace = True)\n",
    "    df[colors] = df[colors].fillna(df[colors].mean())\n",
    "    return df\n",
    "\n",
    "train = impute_mags(train, mags=mags, magerrs=magerrs)\n",
    "train = calc_colors(train, colors=colors)\n",
    "\n",
    "test = impute_mags(test, mags=mags, magerrs=magerrs)\n",
    "test = calc_colors(test, colors=colors)"
   ]
  },
  {
   "cell_type": "markdown",
   "metadata": {},
   "source": [
    "The class object is unimaginatively named `BMC`."
   ]
  },
  {
   "cell_type": "code",
   "execution_count": 18,
   "metadata": {
    "collapsed": false
   },
   "outputs": [],
   "source": [
    "# warning: this could take a while...\n",
    "clf = bmc.BMC()"
   ]
  },
  {
   "cell_type": "markdown",
   "metadata": {},
   "source": [
    "We use only the cross-validation data to calculate the weights. The `fit()` function needs the truth labels for each cross-validation data points (the `truth_train` array). When the \"training\" is done, it prints out\n",
    "\n",
    "    Done creating SOM map."
   ]
  },
  {
   "cell_type": "code",
   "execution_count": 19,
   "metadata": {
    "collapsed": false
   },
   "outputs": [
    {
     "name": "stdout",
     "output_type": "stream",
     "text": [
      "Done creating SOM map.\n"
     ]
    }
   ],
   "source": [
    "# warning: this could take a while...\n",
    "base_cv = np.vstack((tpc_cv, som_cv, hbc_cv, morph_cv)).T\n",
    "clf.fit(train[mags + colors].values, base_cv, truth_train)"
   ]
  },
  {
   "cell_type": "markdown",
   "metadata": {},
   "source": [
    "Now we apply the weights to the predictions of each classifier. Note that the truth labels (the `truth_test` array) is not used in the `predict_proba()` function."
   ]
  },
  {
   "cell_type": "code",
   "execution_count": 20,
   "metadata": {
    "collapsed": false
   },
   "outputs": [],
   "source": [
    "base_test = np.vstack((tpc_test, som_test, hbc_test, morph_test)).T\n",
    "clf_test = clf.predict_proba(test[mags + colors].values, base_test)"
   ]
  },
  {
   "cell_type": "markdown",
   "metadata": {},
   "source": [
    "## V. Results and Discussion\n",
    "\n",
    "In this section, we present the classification performance of\n",
    "the four different combination techniques,\n",
    "as well as the individual star-galaxy classification techniques\n",
    "on the CFHTLenS test data.\n",
    "\n",
    "### V.1. Classification Metrics\n",
    "\n",
    "Probabilistic classification models can be considered as\n",
    "functions that output a probability estimate of each source\n",
    "to be in one of the classes (e.g., a star or a galaxy).\n",
    "Although the probability estimate can be used as a weight \n",
    "in subsequent analyses to improve or enhance\n",
    "a particular measurement ([Ross 2011](http://adsabs.harvard.edu/abs/2011MNRAS.417.1350R)),\n",
    "it can also be converted into a class label\n",
    "by using a threshold (a probability cut).\n",
    "The simplest way to choose the threshold is to set it to a fixed value,\n",
    "e.g., $p_\\mathrm{cut} = 0.5$.\n",
    "This is, in fact, what is often done (e.g.,\n",
    "[Henrion et al. 2011](http://adsabs.harvard.edu/abs/2011MNRAS.412.2286H); [Fadely, Hogg, & Willman 2012](http://adsabs.harvard.edu/abs/2012ApJ...760...15F)).\n",
    "However, choosing $0.5$ as a threshold is not the best choice\n",
    "for an unbalanced data set, where galaxies outnumber stars.\n",
    "Furthermore, setting a fixed threshold ignores the operating condition \n",
    "(e.g., science requirements, stellar distribution, misclassification costs)\n",
    "where the model will be applied.\n",
    "\n",
    "\n",
    "### V.1.1. Receiver Operating Characteristic Curve\n",
    "\n",
    "When we have no information about the operating condition\n",
    "when evaluating the performance of classifiers,\n",
    "there are effective tools such as\n",
    "the Receiver Operating Characteristic (ROC) curve ([Swets 2000](http://www.scientificamerican.com/article/better-decisions-through-science/)).\n",
    "An ROC curve is a graphical plot that illustrates the true positive rate\n",
    "versus the false positive rate of a binary classifier\n",
    "as its classification threshold is varied.\n",
    "The Area Under the Curve (AUC) summarizes the curve information\n",
    "in a single number,\n",
    "and can be used as an assessment of the overall performance.\n",
    "\n",
    "### V.1.2. Completeness and Purity\n",
    "\n",
    "In astronomical applications,\n",
    "the operating condition usually translates to\n",
    "the completeness and purity requirements of the star or galaxy sample.\n",
    "We define the galaxy _completeness_\n",
    "$c_g$ (also known as recall or sensitivity) as\n",
    "the fraction of the number of true galaxies classified as galaxies\n",
    "out of the total number of true galaxies,\n",
    "\n",
    "$$\n",
    "c_g = \\frac{N_g}{N_g + M_g},\n",
    "$$\n",
    "\n",
    "where $N_g$ is the number of true galaxies classified as galaxies,\n",
    "and $M_g$ is the number of true galaxies classified as stars.\n",
    "We define the galaxy _purity_ $p_g$ (also known as precision\n",
    "or positive predictive value)\n",
    "as the fraction of the number of true galaxies classified as galaxies\n",
    "out of the total number of objects classified as galaxies, \n",
    "\n",
    "$$\n",
    "p_g = \\frac{N_g}{N_g + M_s},\n",
    "$$\n",
    "\n",
    "where $M_s$ is the number of true stars classified as galaxies.\n",
    "Star completeness and purity are defined in a similar manner.\n",
    "\n",
    "\n",
    "One of the advantages of a probabilistic classification is\n",
    "that the threshold can be adjusted to produce\n",
    "a more complete but less pure sample,\n",
    "or a less complete but more pure one.\n",
    "To compare the performance of probabilistic classification techniques\n",
    "with that of morphological separation,\n",
    "which has a fixed completeness ($c_g = 0.9964$, $c_s = 0.7145$)\n",
    "at a certain purity ($p_g = 0.9597$, $p_s = 0.9666$),\n",
    "we adjust the threshold of probabilistic classifiers\n",
    "until the galaxy completeness $c_g$ matches\n",
    "that of morphological separation\n",
    "to compute the galaxy purity $p_{g}$ at $c_g=0.9964$.\n",
    "Similarly, the star purity $p_{s}$ at $c_{s}=0.7145$\n",
    "is computed by adjusting the threshold\n",
    "until the star completeness of each classifier is equal to\n",
    "that of morphological separation.\n",
    "\n",
    "\n",
    "We can also compare the performance of different classification techniques\n",
    "by assuming an arbitrary operating condition.\n",
    "For example, weak lensing science measurements\n",
    "of the DES require $c_g > 0.960$ and $p_g > 0.778$\n",
    "to control both the statistical and systematic errors\n",
    "on the cosmological parameters,\n",
    "and $c_s > 0.250$ and $p_s > 0.970$\n",
    "for stellar Point Spread Function (PSF) calibration\n",
    "([Soumagnac et al. 2013](http://adsabs.harvard.edu/abs/2015MNRAS.450..666S)).\n",
    "Although these values will likely be different\n",
    "for the science cases of the CFHTLenS data,\n",
    "we adopt these values to compare the classification performance\n",
    "at a reasonable operating condition.\n",
    "Thus, we compute $p_{g}$ at $c_g=0.960$\n",
    "and $p_{s}$ at $c_s=0.250$.\n",
    "We also use the MSE as a classification error metric."
   ]
  },
  {
   "cell_type": "markdown",
   "metadata": {},
   "source": [
    "### V.2. Classifier Combination\n",
    "\n",
    "We present in Table 2\n",
    "the classification performance obtained by\n",
    "applying the four different combination techniques,\n",
    "as well as the individual star-galaxy classification techniques,\n",
    "on the CFHTLenS test data.\n",
    "The bold entries highlight the best technique for any particular metric.\n",
    "The first four rows show the performance of four individual star-galaxy\n",
    "classification techniques.\n",
    "Given a high-quality training data, it is not surprising that \n",
    "our supervised machine learning technique TPC\n",
    "outperforms other unsupervised techniques.\n",
    "TPC is thus shown in the first row as the benchmark."
   ]
  },
  {
   "cell_type": "code",
   "execution_count": 21,
   "metadata": {
    "collapsed": false
   },
   "outputs": [
    {
     "data": {
      "text/html": [
       "\n",
       "<table style=\"width:100%\">\n",
       "  <tr>\n",
       "    <td>Classifier</td>\n",
       "    <td>AUC</td>\n",
       "    <td>MSE</td>\n",
       "    <td>$p_g (c_g=0.9964)$</td>\n",
       "    <td>$p_s (c_s=0.7145)$</td>\n",
       "    <td>$p_g (c_g=0.9600)$</td>\n",
       "    <td>$p_s (c_s=0.2500)$</td>\n",
       "  </tr>\n",
       "  <tr>\n",
       "    <td>TPC</td>\n",
       "    <td><b>0.9870</b></td>\n",
       "    <td>0.0208</td>\n",
       "    <td>0.9714</td>\n",
       "    <td>0.9838</td>\n",
       "    <td>0.9918</td>\n",
       "    <td>0.9977</td>\n",
       "  </tr>\n",
       "  <tr>\n",
       "    <td>SOMc</td>\n",
       "    <td>0.9683</td>\n",
       "    <td>0.0452</td>\n",
       "    <td>0.9125</td>\n",
       "    <td>0.8454</td>\n",
       "    <td>0.9788</td>\n",
       "    <td>0.9551</td>\n",
       "  </tr>\n",
       "  <tr>\n",
       "    <td>HB</td>\n",
       "    <td>0.9403</td>\n",
       "    <td>0.0705</td>\n",
       "    <td>0.9219</td>\n",
       "    <td>0.7017</td>\n",
       "    <td>0.9471</td>\n",
       "    <td>0.6963</td>\n",
       "  </tr>\n",
       "  <tr>\n",
       "    <td>Morphology</td>\n",
       "    <td>-</td>\n",
       "    <td>0.0397</td>\n",
       "    <td>0.9597</td>\n",
       "    <td>0.9666</td>\n",
       "    <td>-</td>\n",
       "    <td>-</td>\n",
       "  </tr>\n",
       "  <tr>\n",
       "    <td>WA</td>\n",
       "    <td>0.9806</td>\n",
       "    <td>0.0266</td>\n",
       "    <td>0.9755</td>\n",
       "    <td>0.9926</td>\n",
       "    <td>0.9872</td>\n",
       "    <td>0.9977</td>\n",
       "  </tr>\n",
       "  <tr>\n",
       "    <td>BoM</td>\n",
       "    <td>0.9870</td>\n",
       "    <td>0.0208</td>\n",
       "    <td>0.9714</td>\n",
       "    <td>0.9838</td>\n",
       "    <td>0.9918</td>\n",
       "    <td>0.9977</td>\n",
       "  </tr>\n",
       "  <tr>\n",
       "    <td>Stacking</td>\n",
       "    <td>0.9842</td>\n",
       "    <td>0.0194</td>\n",
       "    <td>0.9752</td>\n",
       "    <td>0.9902</td>\n",
       "    <td>0.9918</td>\n",
       "    <td><b>1.0000</b></td>\n",
       "  </tr>\n",
       "  <tr>\n",
       "    <td>BMC</td>\n",
       "    <td>0.9852</td>\n",
       "    <td><b>0.0174</b></td>\n",
       "    <td><b>0.9800</b></td>\n",
       "    <td><b>0.9959</b></td>\n",
       "    <td><b>0.9924</b></td>\n",
       "    <td><b>1.0000</b></td>\n",
       "  </tr>\n",
       "</table>"
      ],
      "text/plain": [
       "<IPython.core.display.HTML object>"
      ]
     },
     "execution_count": 21,
     "metadata": {},
     "output_type": "execute_result"
    }
   ],
   "source": [
    "from IPython.display import HTML\n",
    "\n",
    "HTML('''\n",
    "<table style=\"width:100%\">\n",
    "  <tr>\n",
    "    <td>Classifier</td>\n",
    "    <td>AUC</td>\n",
    "    <td>MSE</td>\n",
    "    <td>$p_g (c_g=0.9964)$</td>\n",
    "    <td>$p_s (c_s=0.7145)$</td>\n",
    "    <td>$p_g (c_g=0.9600)$</td>\n",
    "    <td>$p_s (c_s=0.2500)$</td>\n",
    "  </tr>\n",
    "  <tr>\n",
    "    <td>TPC</td>\n",
    "    <td><b>0.9870</b></td>\n",
    "    <td>0.0208</td>\n",
    "    <td>0.9714</td>\n",
    "    <td>0.9838</td>\n",
    "    <td>0.9918</td>\n",
    "    <td>0.9977</td>\n",
    "  </tr>\n",
    "  <tr>\n",
    "    <td>SOMc</td>\n",
    "    <td>0.9683</td>\n",
    "    <td>0.0452</td>\n",
    "    <td>0.9125</td>\n",
    "    <td>0.8454</td>\n",
    "    <td>0.9788</td>\n",
    "    <td>0.9551</td>\n",
    "  </tr>\n",
    "  <tr>\n",
    "    <td>HB</td>\n",
    "    <td>0.9403</td>\n",
    "    <td>0.0705</td>\n",
    "    <td>0.9219</td>\n",
    "    <td>0.7017</td>\n",
    "    <td>0.9471</td>\n",
    "    <td>0.6963</td>\n",
    "  </tr>\n",
    "  <tr>\n",
    "    <td>Morphology</td>\n",
    "    <td>-</td>\n",
    "    <td>0.0397</td>\n",
    "    <td>0.9597</td>\n",
    "    <td>0.9666</td>\n",
    "    <td>-</td>\n",
    "    <td>-</td>\n",
    "  </tr>\n",
    "  <tr>\n",
    "    <td>WA</td>\n",
    "    <td>0.9806</td>\n",
    "    <td>0.0266</td>\n",
    "    <td>0.9755</td>\n",
    "    <td>0.9926</td>\n",
    "    <td>0.9872</td>\n",
    "    <td>0.9977</td>\n",
    "  </tr>\n",
    "  <tr>\n",
    "    <td>BoM</td>\n",
    "    <td>0.9870</td>\n",
    "    <td>0.0208</td>\n",
    "    <td>0.9714</td>\n",
    "    <td>0.9838</td>\n",
    "    <td>0.9918</td>\n",
    "    <td>0.9977</td>\n",
    "  </tr>\n",
    "  <tr>\n",
    "    <td>Stacking</td>\n",
    "    <td>0.9842</td>\n",
    "    <td>0.0194</td>\n",
    "    <td>0.9752</td>\n",
    "    <td>0.9902</td>\n",
    "    <td>0.9918</td>\n",
    "    <td><b>1.0000</b></td>\n",
    "  </tr>\n",
    "  <tr>\n",
    "    <td>BMC</td>\n",
    "    <td>0.9852</td>\n",
    "    <td><b>0.0174</b></td>\n",
    "    <td><b>0.9800</b></td>\n",
    "    <td><b>0.9959</b></td>\n",
    "    <td><b>0.9924</b></td>\n",
    "    <td><b>1.0000</b></td>\n",
    "  </tr>\n",
    "</table>''')"
   ]
  },
  {
   "cell_type": "markdown",
   "metadata": {},
   "source": [
    "[See code](paper/notebooks/table02/metrics_all.ipynb)\n",
    "\n",
    "Table 2. A summary of the classification performance metrics for the four individual methods and the four different classification combination methods as applied to the CFHTLenS data, with no cut applied to the training data set. The definition of the metrics is summarized in Table 1. The bold entries highlight the best performance values within each column. Note that some objects in the test set have bad or missing values (e.g., $-99$ or $99$) in one or more attributes, which are included here (but are omitted, for example, in Figure 5 when the corrsponding attribute is not available.)"
   ]
  },
  {
   "cell_type": "markdown",
   "metadata": {},
   "source": [
    "The simplest of the combination techniques, WA and BoM,\n",
    "generally do not perform better than TPC.\n",
    "It is also interesting that,\n",
    "even with binning the parameter space and selecting the best model\n",
    "within each bin,\n",
    "BoM almost always chooses TPC as the best model in all bins,\n",
    "and therefore gives the same performance as TPC in the end.\n",
    "However, our BMC and stacking techniques have a similar performance\n",
    "and often outperform TPC.\n",
    "Although TPC shows the best performance as measured by the AUC,\n",
    "BMC shows the best performance in all other metrics."
   ]
  },
  {
   "cell_type": "markdown",
   "metadata": {},
   "source": [
    "To visualize the SOM projections, let's choose some colors from Seaborn's color pallete."
   ]
  },
  {
   "cell_type": "code",
   "execution_count": 22,
   "metadata": {
    "collapsed": false
   },
   "outputs": [
    {
     "data": {
      "image/png": "[encoded data removed]",
      "text/plain": [
       "<matplotlib.figure.Figure at 0x7f257926a250>"
      ]
     },
     "metadata": {},
     "output_type": "display_data"
    }
   ],
   "source": [
    "cmap1 = sns.choose_colorbrewer_palette('sequential', as_cmap=True)"
   ]
  },
  {
   "cell_type": "code",
   "execution_count": 23,
   "metadata": {
    "collapsed": false
   },
   "outputs": [
    {
     "data": {
      "image/png": "[encoded data removed]",
      "text/plain": [
       "<matplotlib.figure.Figure at 0x7f25791f26d0>"
      ]
     },
     "metadata": {},
     "output_type": "display_data"
    }
   ],
   "source": [
    "cmap2 = sns.choose_colorbrewer_palette('sequential', as_cmap=True)"
   ]
  },
  {
   "cell_type": "code",
   "execution_count": 24,
   "metadata": {
    "collapsed": false
   },
   "outputs": [
    {
     "data": {
      "image/png": "[encoded data removed]",
      "text/plain": [
       "<matplotlib.figure.Figure at 0x7f2579196790>"
      ]
     },
     "metadata": {},
     "output_type": "display_data"
    }
   ],
   "source": [
    "cmap3 = sns.choose_colorbrewer_palette('sequential', as_cmap=True)"
   ]
  },
  {
   "cell_type": "code",
   "execution_count": 25,
   "metadata": {
    "collapsed": false
   },
   "outputs": [
    {
     "data": {
      "image/png": "[encoded data removed]",
      "text/plain": [
       "<matplotlib.figure.Figure at 0x7f25790b0750>"
      ]
     },
     "metadata": {},
     "output_type": "display_data"
    }
   ],
   "source": [
    "cmap4 = sns.choose_colorbrewer_palette('sequential', as_cmap=True)"
   ]
  },
  {
   "cell_type": "code",
   "execution_count": 26,
   "metadata": {
    "collapsed": false
   },
   "outputs": [
    {
     "data": {
      "image/png": "[encoded data removed]",
      "text/plain": [
       "<matplotlib.figure.Figure at 0x7f25790085d0>"
      ]
     },
     "metadata": {},
     "output_type": "display_data"
    }
   ],
   "source": [
    "cmap5 = sns.choose_colorbrewer_palette('sequential', as_cmap=True)"
   ]
  },
  {
   "cell_type": "markdown",
   "metadata": {},
   "source": [
    "The hybrid `BMC` algorithm creates a SOM cell. These cells are stored in the `cells` directory."
   ]
  },
  {
   "cell_type": "code",
   "execution_count": 27,
   "metadata": {
    "collapsed": false
   },
   "outputs": [],
   "source": [
    "from matplotlib import gridspec\n",
    "\n",
    "n_grid = 10\n",
    "clens_som_cell = np.load('bmc/cells/cv_cells.0.npy')\n",
    "\n",
    "# calculate mean values for each cell\n",
    "\n",
    "def calc_cell_mean(x, som_cells, n_grid):\n",
    "    x_cells = np.zeros(n_grid**2)\n",
    "    for i in xrange(n_grid**2):\n",
    "        i_cell = np.where(som_cells == i)\n",
    "        x_cells[i] = x[i_cell].mean()\n",
    "    \n",
    "    return x_cells.reshape((n_grid, n_grid))\n",
    "\n",
    "mag_i_cells = calc_cell_mean(train['MAG_i'].values, clens_som_cell, 10)\n",
    "clr_u_g_cells = calc_cell_mean(train['u-g'].values, clens_som_cell, 10)\n",
    "clr_g_r_cells = calc_cell_mean(train['g-r'].values, clens_som_cell, 10)\n",
    "star_frac_cells = calc_cell_mean(truth_train, clens_som_cell, 10)"
   ]
  },
  {
   "cell_type": "markdown",
   "metadata": {},
   "source": [
    "In Figure 2, we show in the top left panel\n",
    "the mean CFHTLenS $i$-band magnitude in each cell,\n",
    "and in the top right panel the fraction of stars in each cell.\n",
    "The bottom two panels show the mean $u-g$ and  $g-r$ colors in each cell.\n",
    "These two-dimensional maps clearly show\n",
    "the ability of the SOM to preserve relationships between sources\n",
    "when it projects the full nine-dimensional space to the two-dimensional map.\n",
    "We note that these SOM maps should only be used to provide guidance,\n",
    "as the SOM mapping is a non-linear representation of all magnitudes and colors."
   ]
  },
  {
   "cell_type": "code",
   "execution_count": 28,
   "metadata": {
    "collapsed": false
   },
   "outputs": [
    {
     "data": {
      "image/png": "[encoded data removed]",
      "text/plain": [
       "<matplotlib.figure.Figure at 0x7f2578e8c8d0>"
      ]
     },
     "metadata": {},
     "output_type": "display_data"
    }
   ],
   "source": [
    "gs = gridspec.GridSpec(2, 3, height_ratios = (1, 1), width_ratios = (9, 9, 1))\n",
    "\n",
    "ax1 = plt.subplot(gs[0, 0])\n",
    "im1 = ax1.matshow(mag_i_cells, cmap=cmap1)\n",
    "ax1.set_xticks([])\n",
    "ax1.set_yticks([])\n",
    "cb1 = plt.colorbar(im1)\n",
    "cb1.set_ticks([16, 18, 20, 22, 24])\n",
    "cb1.set_label(r'$i$')\n",
    "\n",
    "ax2 = plt.subplot(gs[0, 1])\n",
    "im2 = ax2.matshow(star_frac_cells, cmap=cmap2)\n",
    "ax2.set_xticks([])\n",
    "ax2.set_yticks([])\n",
    "cb2 = plt.colorbar(im2)\n",
    "cb2.set_ticks([0, 0.2, 0.4, 0.6, 0.8, 1])\n",
    "cb2.set_label('stellar frac.')\n",
    "\n",
    "ax3 = plt.subplot(gs[1, 0])\n",
    "im3 = ax3.matshow(clr_u_g_cells, cmap=cmap3)\n",
    "ax3.set_xticks([])\n",
    "ax3.set_yticks([])\n",
    "cb3 = plt.colorbar(im3)\n",
    "cb3.set_ticks([0, 0.6, 1.2, 1.8, 2.4])\n",
    "cb3.set_label(r'$u-g$')\n",
    "\n",
    "ax4 = plt.subplot(gs[1, 1])\n",
    "im4 = ax4.matshow(clr_g_r_cells, cmap=cmap4)\n",
    "ax4.set_xticks([])\n",
    "ax4.set_yticks([])\n",
    "cb4 = plt.colorbar(im4)\n",
    "cb4.set_label(r'$g-r$')\n",
    "cb4.set_ticks([0.3, 0.6, 0.9, 1.2, 1.5])\n",
    "\n",
    "plt.savefig('bmc/images/som_colors.png')"
   ]
  },
  {
   "cell_type": "markdown",
   "metadata": {},
   "source": [
    "[See code for Figure 2](paper/notebooks/figure02/som_colors.ipynb)\n",
    "\n",
    "Figure 2: A two-dimensional 10$\\times$10 SOM representation showing the mean $i$-band magnitude (top left), the fraction of true stars in each cell (top right), and the mean values of $u-g$ (bottom left) and $g-r$ (bottom right) for the cross-validation data.\n"
   ]
  },
  {
   "cell_type": "markdown",
   "metadata": {},
   "source": [
    "We can also use the same SOM from Figure 2\n",
    "to determine the relative weights for \n",
    "the four individual classification methods in each cell.\n",
    "We present the four weight maps for the BMC technique in Figure 3."
   ]
  },
  {
   "cell_type": "code",
   "execution_count": 29,
   "metadata": {
    "collapsed": false
   },
   "outputs": [
    {
     "data": {
      "image/png": "[encoded data removed]",
      "text/plain": [
       "<matplotlib.figure.Figure at 0x7f25790bb2d0>"
      ]
     },
     "metadata": {},
     "output_type": "display_data"
    }
   ],
   "source": [
    "tpc_cells = np.zeros(n_grid**2)\n",
    "som_cells = np.zeros(n_grid**2)\n",
    "hbc_cells = np.zeros(n_grid**2)\n",
    "morph_cells = np.zeros(n_grid**2)\n",
    "\n",
    "for i in xrange(n_grid**2):\n",
    "    \n",
    "    weights = np.load('bmc/weights/bmc_weights.0.' + str(i) + '.npy')\n",
    "\n",
    "    w = np.sum(weights, axis = 0)\n",
    "    w = w / w.sum()\n",
    "\n",
    "    tpc_cells[i] = w[0]\n",
    "    som_cells[i] = w[1]\n",
    "    hbc_cells[i] = w[2]\n",
    "    morph_cells[i] = w[3]\n",
    "\n",
    "tpc_cells = tpc_cells.reshape((n_grid, n_grid))\n",
    "som_cells = som_cells.reshape((n_grid, n_grid))\n",
    "hbc_cells = hbc_cells.reshape((n_grid, n_grid))\n",
    "morph_cells = morph_cells.reshape((n_grid, n_grid))\n",
    "\n",
    "gs = gridspec.GridSpec(2, 3, height_ratios = (1, 1), width_ratios = (9, 9, 1))\n",
    "\n",
    "vmax = np.max([tpc_cells, som_cells, hbc_cells, morph_cells])\n",
    "rotation = 'vertical'\n",
    "\n",
    "ax1 = plt.subplot(gs[0, 0])\n",
    "im1 = ax1.matshow(tpc_cells, vmin=0, vmax=vmax, cmap=cmap5)\n",
    "ax1.set_title('TPC', rotation = rotation, x = -0.1, y = 0.5)\n",
    "ax1.set_xticks([])\n",
    "ax1.set_yticks([])\n",
    "\n",
    "ax2 = plt.subplot(gs[0, 1])\n",
    "ax2.matshow(som_cells, vmin=0, vmax=vmax, cmap=cmap5)\n",
    "ax2.set_title('SOM', rotation = rotation, x = -0.1, y = 0.5)\n",
    "ax2.set_xticks([])\n",
    "ax2.set_yticks([])\n",
    "\n",
    "ax3 = plt.subplot(gs[1, 0])\n",
    "ax3.matshow(hbc_cells, vmin=0, vmax=vmax, cmap=cmap5)\n",
    "ax3.set_title('HB', rotation = rotation, x = -0.1, y = 0.5)\n",
    "ax3.set_xticks([])\n",
    "ax3.set_yticks([])\n",
    "\n",
    "ax4 = plt.subplot(gs[1, 1])\n",
    "ax4.matshow(morph_cells, vmin=0, vmax=vmax, cmap=cmap5)\n",
    "ax4.set_title('Morphology', rotation = rotation, x = -0.1, y = 0.7)\n",
    "ax4.set_xticks([])\n",
    "ax4.set_yticks([])\n",
    "\n",
    "ax5 = plt.subplot(gs[0:, 2])\n",
    "cb1 = plt.colorbar(im1, cax=ax5)\n",
    "cb1.set_label(r'$w$')\n",
    "cb1.set_clim([0, vmax])\n",
    "\n",
    "plt.savefig('bmc/images/weights.png')"
   ]
  },
  {
   "cell_type": "markdown",
   "metadata": {},
   "source": [
    "Figure 3: A two-dimensional 10$\\times$10 SOM representation showing the relative weights for the BMC combination technique applied to the four individual methods for the CFHTLenS data."
   ]
  },
  {
   "cell_type": "markdown",
   "metadata": {},
   "source": [
    "In these maps, a darker color indicates a higher weight,\n",
    "or equivalently that the corresponding classifier\n",
    "performs better in that region.\n",
    "These weight maps demonstrate the variation in\n",
    "the performance of the individual techniques across\n",
    "the two-dimensional parameter space defined by the SOM.\n",
    "Furthermore, since the maps in Figure 2 and 3\n",
    "are constructed using the same SOM,\n",
    "we can determine the region in the parameter space\n",
    "where each individual technique performs better or worse.\n",
    "Not surprisingly, the morphological separation\n",
    "performs best in the top left corner of the weight map\n",
    "in Figure 3,\n",
    "which corresponds to the brightest CFHTLenS magnitudes $i \\leq 20$\n",
    "in the $i$-band magnitude map of Figure 2.\n",
    "It is also clear that the SOM cells where the morphological\n",
    "separation performs best have higher stellar fraction than\n",
    "the other cells. \n",
    "On the other hand, TPC seems to perform best\n",
    "in the region that corresponds to intermediate magnitudes\n",
    "$20\\leq i \\leq 22.5$ and $1.5 \\leq u-g \\leq 3.0$.\n",
    "Our unsupervised learning method SOMc\n",
    "performs relatively better at fainter magnitudes $i \\geq 21.5$\n",
    "with $0 \\leq u-g \\leq 0.5$ and $0 \\leq g-r \\leq 0.5$.\n",
    "Although HB shows the worst performance\n",
    "when there exists a high-quality training data set,\n",
    "BMC still utilizes information from HB,\n",
    "especially at intermediate magnitudes $20\\leq i \\leq 22$.\n",
    "Another interesting pattern is that\n",
    "the four techniques seem complementary,\n",
    "and they are weighted most strongly in different regions\n",
    "of the SOM representation."
   ]
  },
  {
   "cell_type": "code",
   "execution_count": 30,
   "metadata": {
    "collapsed": false
   },
   "outputs": [
    {
     "data": {
      "text/html": [
       "<table>\n",
       "<tr>\n",
       "<th><img src=\"data:image/png;base64,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\" height=\"500\"></th>\n",
       "<th><img src=\"data:image/png;base64,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\" height=\"500\"></th>\n",
       "</tr></table>"
      ],
      "text/plain": [
       "<IPython.core.display.HTML object>"
      ]
     },
     "metadata": {},
     "output_type": "display_data"
    }
   ],
   "source": [
    "import base64\n",
    "from IPython.display import HTML, Image, display\n",
    "\n",
    "with open(\"bmc/images/som_colors.png\", \"rb\") as image_file:\n",
    "    im1 = 'data:image/png;base64,' + base64.b64encode(image_file.read())\n",
    "\n",
    "with open(\"bmc/images/weights.png\", \"rb\") as image_file:\n",
    "    im2 = 'data:image/png;base64,' + base64.b64encode(image_file.read())\n",
    "\n",
    "s = \"\"\"<table>\n",
    "<tr>\n",
    "<th><img src=\"%s\" height=\"500\"></th>\n",
    "<th><img src=\"%s\" height=\"500\"></th>\n",
    "</tr></table>\"\"\"%(im1, im2)\n",
    "display(HTML(s))"
   ]
  },
  {
   "cell_type": "code",
   "execution_count": 31,
   "metadata": {
    "collapsed": false
   },
   "outputs": [
    {
     "data": {
      "text/plain": [
       "<matplotlib.legend.Legend at 0x7f25786a9490>"
      ]
     },
     "execution_count": 31,
     "metadata": {},
     "output_type": "execute_result"
    },
    {
     "data": {
      "image/png": "[encoded data removed]",
      "text/plain": [
       "<matplotlib.figure.Figure at 0x7f2578e89a50>"
      ]
     },
     "metadata": {},
     "output_type": "display_data"
    }
   ],
   "source": [
    "from sklearn.metrics import roc_curve, auc\n",
    "\n",
    "for name, values in zip(['BMC', 'TPC', 'Morphology'], [clf_test, tpc_test, morph_test]):\n",
    "    fpr, tpr, _ = roc_curve(truth_test, values)\n",
    "    auc_score = '{:.3f}'.format(auc(fpr, tpr))\n",
    "    plt.plot(fpr, tpr, label=name + ' {}'.format(auc_score))\n",
    "\n",
    "plt.xlim(0, 0.1)\n",
    "plt.ylim(0.6, 1)\n",
    "plt.legend(loc='lower right')"
   ]
  },
  {
   "cell_type": "markdown",
   "metadata": {},
   "source": [
    "In Figure 4, \n",
    "we compare the star and galaxy purity values\n",
    "for BMC, TPC, and morphological separation\n",
    "as functions of $i$-band magnitude.\n",
    "We use the kernel density estimation ([Silverman 1986](https://ned.ipac.caltech.edu/level5/March02/Silverman/paper.pdf))\n",
    "with the Gaussian kernel to smooth the fluctuations in the distribution.\n",
    "Although morphological separation shows a slightly better performance\n",
    "in galaxy purity at bright magnitudes $i \\leq 20$,\n",
    "BMC outperforms both TPC and morphological separation\n",
    "at faint magnitudes $i \\geq 21$.\n",
    "As the top panel shows,\n",
    "the number count distribution peaks at $i \\sim 22$,\n",
    "and BMC therefore outperforms both TPC and morphological separation\n",
    "for the majority of objects.\n",
    "It is also clear that BMC outperforms TPC over all magnitudes.\n",
    "BMC can presumably accomplish this by combining information from\n",
    "all base classifiers,\n",
    "e.g., giving more weight to the morphological separation method\n",
    "at bright magnitudes.\n",
    "The bottom panel shows that\n",
    "the star purity of morphological separation drops to $p_s < 0.8$\n",
    "at fainter magnitudes $i > 21$.\n",
    "This is expected, as our crude morphological separation classifies\n",
    "every object as a galaxy beyond $i > 21$, and\n",
    "purity measures the number of true stars classified as stars.\n",
    "It is again clear that BMC outperforms both TPC and morphological separation\n",
    "in star purity values over all magnitudes."
   ]
  },
  {
   "cell_type": "code",
   "execution_count": 32,
   "metadata": {
    "collapsed": false
   },
   "outputs": [],
   "source": [
    "# define a class for showing PDF images\n",
    "class PDF(object):\n",
    "    def __init__(self, pdf, size=(200,200)):\n",
    "        self.pdf = pdf\n",
    "        self.size = size\n",
    "\n",
    "    def _repr_html_(self):\n",
    "        return '<iframe src={0} width={1[0]} height={1[1]}></iframe>'.format(self.pdf, self.size)"
   ]
  },
  {
   "cell_type": "code",
   "execution_count": 33,
   "metadata": {
    "collapsed": false
   },
   "outputs": [
    {
     "data": {
      "text/html": [
       "<iframe src=paper/figures/purity_mag.pdf width=600 height=900></iframe>"
      ],
      "text/plain": [
       "<__main__.PDF at 0x7f2578f7e750>"
      ]
     },
     "execution_count": 33,
     "metadata": {},
     "output_type": "execute_result"
    }
   ],
   "source": [
    "PDF('paper/figures/purity_mag.pdf', size=(600, 900))"
   ]
  },
  {
   "cell_type": "markdown",
   "metadata": {},
   "source": [
    "[See code for Figure 4](paper/notebooks/figure04/purity_mag_kde.ipynb)\n",
    "\n",
    "Figure 4. Purity as a function of the $i$-band magnitude\n",
    "  as estimated by the kernel density estimation (KDE) method\n",
    "  for the differential counts.\n",
    "  The top panel shows the histogram with a bin size of 0.1 mag\n",
    "  and the KDE for objects in the test set.\n",
    "  The second panel shows the fraction of stars estimated by KDE\n",
    "  as a function of magnitude.\n",
    "  The bottom two panels compare\n",
    "  the galaxy and star purity values for BMC, TPC, and\n",
    "  morphological separation as functions of magnitude.\n",
    "  Results for BMC, TPC, and morphological separation are in\n",
    "  blue, green, and red, respectively.\n",
    "  The $1 \\sigma$ confidence bands are estaimted by\n",
    "  bootstrap sampling."
   ]
  },
  {
   "cell_type": "markdown",
   "metadata": {},
   "source": [
    "In Figure 5, we show the\n",
    "cumulative galaxy and star purity values as functions of magnitude.\n",
    "Although morphological separation performs better than TPC\n",
    "at bright magnitudes, its purity values decrease as \n",
    "the magnitudes become fainter, and\n",
    "TPC eventually outperforms morphological separation by 1-2% at\n",
    "$i > 21$.\n",
    "BMC clearly outperforms both TPC and morphological separation,\n",
    "and it maintains the overall galaxy purity of 0.980\n",
    "up to $i \\sim 24.5$."
   ]
  },
  {
   "cell_type": "code",
   "execution_count": 34,
   "metadata": {
    "collapsed": false
   },
   "outputs": [
    {
     "data": {
      "text/html": [
       "<iframe src=paper/figures/purity_mag_integrated.pdf width=600 height=650></iframe>"
      ],
      "text/plain": [
       "<__main__.PDF at 0x7f25ad8f9c90>"
      ]
     },
     "execution_count": 34,
     "metadata": {},
     "output_type": "execute_result"
    }
   ],
   "source": [
    "PDF('paper/figures/purity_mag_integrated.pdf', size=(600, 650))"
   ]
  },
  {
   "cell_type": "markdown",
   "metadata": {},
   "source": [
    "[See code for Figure 5](paper/notebooks/figure05/purity_mag_integrated.ipynb)\n",
    "\n",
    "Figure 5. Purity as a function of the $i$-band magnitude\n",
    "  for the integrated counts.\n",
    "  The upper panel compares\n",
    "  the galaxy purity values for BMC (blue solid line),\n",
    "  TPC (green dashed line), and\n",
    "  morphological separation (red dashed line).\n",
    "  The lower panel compares the star purity.\n",
    "  The $1 \\sigma$ error bars are computed following the method\n",
    "  of [Paterno (2003)](http://home.fnal.gov/~paterno/images/effic.pdf)\n",
    "  to avoid the unphysical\n",
    "  errors of binomial or Poisson statistics."
   ]
  },
  {
   "cell_type": "markdown",
   "metadata": {},
   "source": [
    "We also show the star and galaxy purity values as functions of\n",
    "photometric redshift estimate in Figure 6.\n",
    "Photo-$z$ is estimated with\n",
    "the [BPZ algorithm](http://acs.pha.jhu.edu/~txitxo/bpz.html) ([Benitez 2000](http://adsabs.harvard.edu/abs/2000ApJ...536..571B))\n",
    "and provided with\n",
    "the [CFHTLenS](http://cfhtlens.org/) photometric redshift catalogue ([Hildebrandt et al. 2012](http://adsabs.harvard.edu/abs/2012MNRAS.427..146H)).\n",
    "The advantage of BMC over TPC and morphological separation is\n",
    "now more pronounced in Figure 5.\n",
    "Although the morphological separation method outperforms BMC\n",
    "at bright magnitudes in Figure 4,\n",
    "it is clear that BMC outperforms\n",
    "both TPC and morphological separation over all redshifts."
   ]
  },
  {
   "cell_type": "code",
   "execution_count": 35,
   "metadata": {
    "collapsed": false
   },
   "outputs": [
    {
     "data": {
      "text/html": [
       "<iframe src=paper/figures/purity_z.pdf width=600 height=900></iframe>"
      ],
      "text/plain": [
       "<__main__.PDF at 0x7f2578ed85d0>"
      ]
     },
     "execution_count": 35,
     "metadata": {},
     "output_type": "execute_result"
    }
   ],
   "source": [
    "PDF('paper/figures/purity_z.pdf', size=(600, 900))"
   ]
  },
  {
   "cell_type": "markdown",
   "metadata": {},
   "source": [
    "[See code for Figure 6](paper/notebooks/figure06/purity_z.ipynb)\n",
    "\n",
    "Figure 6. Similar to [Figure 4](paper/notebooks/figure04/purity_mag_kde.ipynb)\n",
    "but as a function of photo-$z$. The bin size of histogram in the top panel is 0.02."
   ]
  },
  {
   "cell_type": "markdown",
   "metadata": {},
   "source": [
    "We also present in Figure 7\n",
    "how the star and galaxy purity values vary\n",
    "as a function of $g-r$ color.\n",
    "It is again clear that BMC outperforms\n",
    "both TPC and morphological separation over all $g-r$ colors."
   ]
  },
  {
   "cell_type": "code",
   "execution_count": 36,
   "metadata": {
    "collapsed": false
   },
   "outputs": [
    {
     "data": {
      "text/html": [
       "<iframe src=paper/figures/purity_g_r.pdf width=600 height=900></iframe>"
      ],
      "text/plain": [
       "<__main__.PDF at 0x7f2578ed8310>"
      ]
     },
     "execution_count": 36,
     "metadata": {},
     "output_type": "execute_result"
    }
   ],
   "source": [
    "PDF('paper/figures/purity_g_r.pdf', size=(600, 900))"
   ]
  },
  {
   "cell_type": "markdown",
   "metadata": {},
   "source": [
    "[See code for Figure 7](paper/notebooks/figure07/purity_g-r.ipynb)\n",
    "\n",
    "Figure 7. Similar to [Figure 4](paper/notebooks/figure04/purity_mag_kde.ipynb)\n",
    "but as a function of $g-r$. The bin size of histogram in the top panel is 0.05."
   ]
  },
  {
   "cell_type": "markdown",
   "metadata": {},
   "source": [
    "In Figure 8,\n",
    "we show the distribution of $P(S)$,\n",
    "the posterior probability that an object is a star,\n",
    "for BMC, TPC, and morphological separation.\n",
    "It is interesting that the BMC technique assigns\n",
    "a posterior star probability $P(S) \\leq 0.3$\n",
    "to significantly more true galaxies than TPC,\n",
    "and a probability $P(S) \\geq 0.8$ to significantly fewer true galaxies.\n",
    "By utilizing information from different types of classification techniques\n",
    "in different parts of the parameter space,\n",
    "BMC becomes more certain that an object is a star or a galaxy,\n",
    "resulting in improvement of overall performance."
   ]
  },
  {
   "cell_type": "code",
   "execution_count": 37,
   "metadata": {
    "collapsed": false
   },
   "outputs": [
    {
     "data": {
      "text/html": [
       "<iframe src=paper/figures/p_dist.pdf width=600 height=600></iframe>"
      ],
      "text/plain": [
       "<__main__.PDF at 0x7f2578ed8590>"
      ]
     },
     "execution_count": 37,
     "metadata": {},
     "output_type": "execute_result"
    }
   ],
   "source": [
    "PDF('paper/figures/p_dist.pdf', size=(600, 600))"
   ]
  },
  {
   "cell_type": "markdown",
   "metadata": {},
   "source": [
    "[See code for Figure 8](paper/notebooks/figure08/p_dist.ipynb)\n",
    "\n",
    "Figure 8. Histogram of the posterior probability that a source is a star\n",
    "for mophological separation (top), TPC (middle), and BMC (bottom)\n",
    "for a high-quality training data set.\n",
    "The true galaxies are in green, and the true stars are in blue.\n",
    "The bin size is 0.05."
   ]
  },
  {
   "cell_type": "markdown",
   "metadata": {},
   "source": [
    "### V.3. Heterogeneous Training\n",
    "\n",
    " \n",
    "It is very costly in terms of telescope time to\n",
    "obtain a large sample of spectroscopic observations\n",
    "down to the limiting magnitude of a photometric sample.\n",
    "Thus, we investigate the impact of training set quality\n",
    "by considering a more realistic case\n",
    "where the training data set is available\n",
    "only for a small number of objects with bright magnitudes.\n",
    "To emulate this scenario,\n",
    "we only use objects that have spectroscopic labels\n",
    "from the VVDS 0226-04 field (which is located within the CFHTLS W1 field)\n",
    "and impose a magnitude cut of $i < 22.0$ in the training data,\n",
    "leaving us a training set with only 1,365 objects.\n",
    "We apply the same four star-galaxy classification techniques\n",
    "and four combination methods,\n",
    "and measure the performance of each technique on the same test data set\n",
    "from Section V.2.\n",
    "As the top two panels of Figures 11, 13, and 14 show,\n",
    "the demographics of objects in the training set\n",
    "are different from the distribution of sources in the test set.\n",
    "Thus, this also serves as a test of the efficacy of heterogeneous training."
   ]
  },
  {
   "cell_type": "markdown",
   "metadata": {},
   "source": [
    "We present in Table 3\n",
    "the same six metrics for each method,\n",
    "and highlight the best method for each metric."
   ]
  },
  {
   "cell_type": "code",
   "execution_count": 38,
   "metadata": {
    "collapsed": false
   },
   "outputs": [
    {
     "data": {
      "text/html": [
       "\n",
       "<table style=\"width:100%\">\n",
       "  <tr>\n",
       "    <td>Classifier</td>\n",
       "    <td>AUC</td>\n",
       "    <td>MSE</td>\n",
       "    <td>$p_g (c_g=0.9964)$</td>\n",
       "    <td>$p_s (c_s=0.7145)$</td>\n",
       "    <td>$p_g (c_g=0.9600)$</td>\n",
       "    <td>$p_s (c_s=0.2500)$</td>\n",
       "  </tr>\n",
       "  <tr>\n",
       "    <td>TPC</td>\n",
       "    <td>0.9399</td>\n",
       "    <td>0.0511</td>\n",
       "    <td>0.9350</td>\n",
       "    <td>0.7060</td>\n",
       "    <td>0.9570</td>\n",
       "    <td>0.9747</td>\n",
       "  </tr>\n",
       "  <tr>\n",
       "    <td>SOMc</td>\n",
       "    <td>0.8861</td>\n",
       "    <td>0.0989</td>\n",
       "    <td>0.8843</td>\n",
       "    <td>0.4316</td>\n",
       "    <td>0.9165</td>\n",
       "    <td>0.6263</td>\n",
       "  </tr>\n",
       "  <tr>\n",
       "    <td>HB</td>\n",
       "    <td>0.9386</td>\n",
       "    <td>0.0760</td>\n",
       "    <td>0.9325</td>\n",
       "    <td>0.6911</td>\n",
       "    <td>0.9424</td>\n",
       "    <td>0.6918</td>\n",
       "  </tr>\n",
       "  <tr>\n",
       "    <td>Morphology</td>\n",
       "    <td>-</td>\n",
       "    <td>0.0397</td>\n",
       "    <td>0.9597</td>\n",
       "    <td>0.9666</td>\n",
       "    <td>-</td>\n",
       "    <td>-</td>\n",
       "  </tr>\n",
       "  <tr>\n",
       "    <td>WA</td>\n",
       "    <td>0.9600</td>\n",
       "    <td>0.0536</td>\n",
       "    <td>0.9208</td>\n",
       "    <td>0.8818</td>\n",
       "    <td>0.9757</td>\n",
       "    <td>0.9815</td>\n",
       "  </tr>\n",
       "  <tr>\n",
       "    <td>BoM</td>\n",
       "    <td>0.9587</td>\n",
       "    <td>0.1511</td>\n",
       "    <td>0.9658</td>\n",
       "    <td>0.9862</td>\n",
       "    <td>0.9790</td>\n",
       "    <td>0.9977</td>\n",
       "  </tr>\n",
       "  <tr>\n",
       "    <td>Stacking</td>\n",
       "    <td>0.9442</td>\n",
       "    <td>0.1847</td>\n",
       "    <td>0.9561</td>\n",
       "    <td>0.9309</td>\n",
       "    <td>0.9664</td>\n",
       "    <td>0.9983</td>\n",
       "  </tr>\n",
       "  <tr>\n",
       "    <td>BMC</td>\n",
       "    <td><b>0.9738</b></td>\n",
       "    <td><b>0.0291</b></td>\n",
       "    <td><b>0.9696</b></td>\n",
       "    <td><b>0.9862</b></td>\n",
       "    <td><b>0.9856</b></td>\n",
       "    <td><b>1.0000</b></td>\n",
       "  </tr>\n",
       "</table>"
      ],
      "text/plain": [
       "<IPython.core.display.HTML object>"
      ]
     },
     "execution_count": 38,
     "metadata": {},
     "output_type": "execute_result"
    }
   ],
   "source": [
    "HTML('''\n",
    "<table style=\"width:100%\">\n",
    "  <tr>\n",
    "    <td>Classifier</td>\n",
    "    <td>AUC</td>\n",
    "    <td>MSE</td>\n",
    "    <td>$p_g (c_g=0.9964)$</td>\n",
    "    <td>$p_s (c_s=0.7145)$</td>\n",
    "    <td>$p_g (c_g=0.9600)$</td>\n",
    "    <td>$p_s (c_s=0.2500)$</td>\n",
    "  </tr>\n",
    "  <tr>\n",
    "    <td>TPC</td>\n",
    "    <td>0.9399</td>\n",
    "    <td>0.0511</td>\n",
    "    <td>0.9350</td>\n",
    "    <td>0.7060</td>\n",
    "    <td>0.9570</td>\n",
    "    <td>0.9747</td>\n",
    "  </tr>\n",
    "  <tr>\n",
    "    <td>SOMc</td>\n",
    "    <td>0.8861</td>\n",
    "    <td>0.0989</td>\n",
    "    <td>0.8843</td>\n",
    "    <td>0.4316</td>\n",
    "    <td>0.9165</td>\n",
    "    <td>0.6263</td>\n",
    "  </tr>\n",
    "  <tr>\n",
    "    <td>HB</td>\n",
    "    <td>0.9386</td>\n",
    "    <td>0.0760</td>\n",
    "    <td>0.9325</td>\n",
    "    <td>0.6911</td>\n",
    "    <td>0.9424</td>\n",
    "    <td>0.6918</td>\n",
    "  </tr>\n",
    "  <tr>\n",
    "    <td>Morphology</td>\n",
    "    <td>-</td>\n",
    "    <td>0.0397</td>\n",
    "    <td>0.9597</td>\n",
    "    <td>0.9666</td>\n",
    "    <td>-</td>\n",
    "    <td>-</td>\n",
    "  </tr>\n",
    "  <tr>\n",
    "    <td>WA</td>\n",
    "    <td>0.9600</td>\n",
    "    <td>0.0536</td>\n",
    "    <td>0.9208</td>\n",
    "    <td>0.8818</td>\n",
    "    <td>0.9757</td>\n",
    "    <td>0.9815</td>\n",
    "  </tr>\n",
    "  <tr>\n",
    "    <td>BoM</td>\n",
    "    <td>0.9587</td>\n",
    "    <td>0.1511</td>\n",
    "    <td>0.9658</td>\n",
    "    <td>0.9862</td>\n",
    "    <td>0.9790</td>\n",
    "    <td>0.9977</td>\n",
    "  </tr>\n",
    "  <tr>\n",
    "    <td>Stacking</td>\n",
    "    <td>0.9442</td>\n",
    "    <td>0.1847</td>\n",
    "    <td>0.9561</td>\n",
    "    <td>0.9309</td>\n",
    "    <td>0.9664</td>\n",
    "    <td>0.9983</td>\n",
    "  </tr>\n",
    "  <tr>\n",
    "    <td>BMC</td>\n",
    "    <td><b>0.9738</b></td>\n",
    "    <td><b>0.0291</b></td>\n",
    "    <td><b>0.9696</b></td>\n",
    "    <td><b>0.9862</b></td>\n",
    "    <td><b>0.9856</b></td>\n",
    "    <td><b>1.0000</b></td>\n",
    "  </tr>\n",
    "</table>''')"
   ]
  },
  {
   "cell_type": "markdown",
   "metadata": {},
   "source": [
    "[See code for Table 3](paper/notebooks/table03/metrics_cut.ipynb)\n",
    "\n",
    "Table 3. A summary of the classification performance metrics\n",
    "  for the four individual methods\n",
    "  and the four different classification combination methods\n",
    "  when the training data set consists of\n",
    "  only the sources that are in CFHTLS W1 field,\n",
    "  has spectroscopic labels available from VVDS,\n",
    "  and has $i < 22$.\n",
    "  The definition of the metrics is summarized in\n",
    "  Table 1.\n",
    "  The bold entries highlight the best performance values\n",
    "  within each column.}"
   ]
  },
  {
   "cell_type": "markdown",
   "metadata": {},
   "source": [
    "Overall, the results obtained for the reduced data set are remarkable.\n",
    "With a smaller training set, our training based methods, TPC and SOMc,\n",
    "suffer a significant decrease in performance.\n",
    "The performance of morphological separation and HB\n",
    "is essentially unchanged from Table~\\ref{table:metrics_all}\n",
    "as they do not depend on the training data.\n",
    "Without sufficient training data,\n",
    "the advantage of combining the predictions of different classifiers\n",
    "is more obvious.\n",
    "Even WA, the simplest of combination techniques, outperforms\n",
    "all individual classification techniques in four metrics,\n",
    "AUC, $p_s$ at $c_s=0.7145$, $p_g$ at $c_g=0.9600$, and $p_s$ at $c_s=0.2500$.\n",
    "Although BoM always chooses TPC as the best model\n",
    "when we have a high-quality training set,\n",
    "it now chooses various methods in different bins\n",
    "and outperforms all base classifiers.\n",
    "While the performance of the stacking technique is only slightly worse\n",
    "than that of BMC when we have a high-quality training set,\n",
    "stacking now fails to outperform morphological separation.\n",
    "BMC shows an impressive performance and \n",
    "outperforms all other classification techniques in all six metrics.\n",
    "Overall, the improvements are small but still significant\n",
    "since these metrics are averaged over the full test data.\n",
    "\n",
    "In Figure 9 and 10, we again show the $10\\times10$\n",
    "two-dimensional weight maps defined by the SOM."
   ]
  },
  {
   "cell_type": "code",
   "execution_count": 39,
   "metadata": {
    "collapsed": false
   },
   "outputs": [
    {
     "data": {
      "text/html": [
       "<table>\n",
       "<tr>\n",
       "  <th>\n",
       "    <p>\n",
       "      <iframe src=\"paper/figures/som_colors_cut.pdf\" width=\"450\" height=\"350\"></iframe>\n",
       "      <br><center>Figure 9. Similar to Figure 2 but for the reduced training data set.</center></br>\n",
       "    </p>\n",
       "  </th>\n",
       "  <th>\n",
       "    <p>\n",
       "      <iframe src=\"paper/figures/weights_cut.pdf\" width=\"450\" height=\"350\"></iframe>\n",
       "      <br><center>Figure 10. Similar to Figure 3 but for the reduced training data set.</center></br>\n",
       "    </p>\n",
       "  </th>\n",
       "</tr></table>"
      ],
      "text/plain": [
       "<IPython.core.display.HTML object>"
      ]
     },
     "execution_count": 39,
     "metadata": {},
     "output_type": "execute_result"
    }
   ],
   "source": [
    "im1 = 'paper/figures/som_colors_cut.pdf'\n",
    "im2 = 'paper/figures/weights_cut.pdf'\n",
    "\n",
    "width = 450\n",
    "height = 350\n",
    "\n",
    "caption1 = 'Figure 9. Similar to Figure 2 but for the reduced training data set.'\n",
    "caption2 = 'Figure 10. Similar to Figure 3 but for the reduced training data set.'\n",
    "\n",
    "HTML(\"\"\"<table>\n",
    "<tr>\n",
    "  <th>\n",
    "    <p>\n",
    "      <iframe src=\"{0}\" width=\"{2}\" height=\"{3}\"></iframe>\n",
    "      <br><center>{4}</center></br>\n",
    "    </p>\n",
    "  </th>\n",
    "  <th>\n",
    "    <p>\n",
    "      <iframe src=\"{1}\" width=\"{2}\" height=\"{3}\"></iframe>\n",
    "      <br><center>{5}</center></br>\n",
    "    </p>\n",
    "  </th>\n",
    "</tr></table>\"\"\".format(im1, im2, width, height, caption1, caption2))"
   ]
  },
  {
   "cell_type": "markdown",
   "metadata": {},
   "source": [
    "[See code for Figure 9](paper/notebooks/figure10/som_colors_cut.ipynb)\n",
    "\n",
    "[See code for Figure 10](paper/notebooks/figure10/weights_cut.ipynb)"
   ]
  },
  {
   "cell_type": "markdown",
   "metadata": {},
   "source": [
    "When the quality of training data is relatively poor,\n",
    "the performance of training based algorithms will decrease,\n",
    "while the performance of template fitting algorithms\n",
    "or morphological separation methods\n",
    "is independent of training data.\n",
    "Thus, when the weight maps of Figure 3\n",
    "and Figure 10 are visually compared,\n",
    "it is clear that\n",
    "the BMC algorithm now uses more information from\n",
    "morphological separation and HB,\n",
    "while it uses considerably less information from \n",
    "our training based algorithms, TPC and SOMc.\n",
    "Not surprisingly, the morphological separation method\n",
    "performs best at bright magnitudes,\n",
    "and BMC assigns more weight to HB at fainter magnitudes."
   ]
  },
  {
   "cell_type": "code",
   "execution_count": 40,
   "metadata": {
    "collapsed": false
   },
   "outputs": [
    {
     "data": {
      "text/html": [
       "<table>\n",
       "<tr>\n",
       "  <th>\n",
       "    <p>\n",
       "      <iframe src=\"paper/figures/weights.pdf\" width=\"450\" height=\"300\"></iframe>\n",
       "      <br><center>High-quality training</center></br>\n",
       "    </p>\n",
       "  </th>\n",
       "  <th>\n",
       "    <p>\n",
       "      <iframe src=\"paper/figures/weights_cut.pdf\" width=\"450\" height=\"300\"></iframe>\n",
       "      <br><center>Poor training</center></br>\n",
       "    </p>\n",
       "  </th>\n",
       "</tr></table>"
      ],
      "text/plain": [
       "<IPython.core.display.HTML object>"
      ]
     },
     "execution_count": 40,
     "metadata": {},
     "output_type": "execute_result"
    }
   ],
   "source": [
    "im1 = 'paper/figures/weights.pdf'\n",
    "im2 = 'paper/figures/weights_cut.pdf'\n",
    "\n",
    "width = 450\n",
    "height = 300\n",
    "\n",
    "HTML(\"\"\"<table>\n",
    "<tr>\n",
    "  <th>\n",
    "    <p>\n",
    "      <iframe src=\"{0}\" width=\"{2}\" height=\"{3}\"></iframe>\n",
    "      <br><center>High-quality training</center></br>\n",
    "    </p>\n",
    "  </th>\n",
    "  <th>\n",
    "    <p>\n",
    "      <iframe src=\"{1}\" width=\"{2}\" height=\"{3}\"></iframe>\n",
    "      <br><center>Poor training</center></br>\n",
    "    </p>\n",
    "  </th>\n",
    "</tr></table>\"\"\".format(im1, im2, width, height))"
   ]
  },
  {
   "cell_type": "markdown",
   "metadata": {},
   "source": [
    "We present the star and galaxy purity values as functions of\n",
    "$i$-band magnitude in Figure 11."
   ]
  },
  {
   "cell_type": "code",
   "execution_count": 41,
   "metadata": {
    "collapsed": false
   },
   "outputs": [
    {
     "data": {
      "text/html": [
       "<iframe src=paper/figures/purity_mag_cut.pdf width=600 height=1000></iframe>"
      ],
      "text/plain": [
       "<__main__.PDF at 0x7f2578ef61d0>"
      ]
     },
     "execution_count": 41,
     "metadata": {},
     "output_type": "execute_result"
    }
   ],
   "source": [
    "PDF('paper/figures/purity_mag_cut.pdf', size=(600, 1000))"
   ]
  },
  {
   "cell_type": "markdown",
   "metadata": {},
   "source": [
    "[See code for Figure 11](paper/notebooks/figure11/purity_mag_cut.ipynb)\n",
    "\n",
    "Figure 11. Purity as a function of the $i$-band magnitude\n",
    "  for the reduced training data set.\n",
    "  Top panel shows the histograms and KDEs\n",
    "  for the number count distribution for\n",
    "  the training (blue) and test (green) data set.\n",
    "  The second panel shows the fraction of stars\n",
    "  in the training and test data set in blue and green, respectively.\n",
    "  The bottom two panels compare\n",
    "  the galaxy and star purity values for BMC, TPC,\n",
    "  and morphological separation as functions of $i$-band magnitude."
   ]
  },
  {
   "cell_type": "markdown",
   "metadata": {},
   "source": [
    "The normalized density distribution as a function of magnitude\n",
    "in the top panel\n",
    "and the stellar distribution in the second panel\n",
    "clearly show that the demographics of the training set and \n",
    "that of the test set are different.\n",
    "Since the training set is cut at $i < 22$,\n",
    "the density distribution falls off sharply around $i \\sim 22$\n",
    "and has a higher fraction of stars than the test set.\n",
    "Compared to the purity values in Figure 4,\n",
    "TPC now suffers a significant decrease in star and galaxy purity.\n",
    "However, the purity of BMC does not show such a significant drop\n",
    "and decreases by only 2-5%.\n",
    "As suggested by the weight maps in Figure 10,\n",
    "BMC can accomplish this by shifting the relative weights assigned to\n",
    "each base classifier in different SOM cells.\n",
    "As the quality of training set worsens,\n",
    "BMC assigns less weight to training based methods\n",
    "and more weight to HB and morphological separation.\n",
    "\n",
    "In Figure 12, we show the\n",
    "cumulative galaxy and star purity values as functions of magnitude."
   ]
  },
  {
   "cell_type": "code",
   "execution_count": 42,
   "metadata": {
    "collapsed": false
   },
   "outputs": [
    {
     "data": {
      "text/html": [
       "<iframe src=paper/figures/purity_mag_cut_integrated.pdf width=600 height=650></iframe>"
      ],
      "text/plain": [
       "<__main__.PDF at 0x7f2578ecec10>"
      ]
     },
     "execution_count": 42,
     "metadata": {},
     "output_type": "execute_result"
    }
   ],
   "source": [
    "PDF('paper/figures/purity_mag_cut_integrated.pdf', size=(600, 650))"
   ]
  },
  {
   "cell_type": "markdown",
   "metadata": {},
   "source": [
    "[See code for Figure 12](paper/notebooks/figure12/purity_mag_cut_integrated.ipynb)\n",
    "\n",
    "Figure 12. Similar to [Figure 5](paper/notebooks/figure05/purity_mag_integrated.ipynb)\n",
    "but for the reduced training set."
   ]
  },
  {
   "cell_type": "markdown",
   "metadata": {},
   "source": [
    "Compared to Figure 5,\n",
    "the drop in the performance of TPC is clear.\n",
    "However, even when some classifiers have been trained on\n",
    "a significantly reduced training set,\n",
    "BMC maintains a galaxy purity of 0.970 and a star purity of 1.0\n",
    "up to $i \\sim 24.5$, and it sill outperforms morphological separation\n",
    "at fainter magnitudes $i \\geq 21$."
   ]
  },
  {
   "cell_type": "markdown",
   "metadata": {},
   "source": [
    "We also show the star and galaxy purity values as functions of\n",
    "photo-$z$ in Figure 13\n",
    "and as functions of $g-r$ in Figure 14."
   ]
  },
  {
   "cell_type": "code",
   "execution_count": 43,
   "metadata": {
    "collapsed": false
   },
   "outputs": [
    {
     "data": {
      "text/html": [
       "<iframe src=paper/figures/purity_z_cut.pdf width=600 height=1000></iframe>"
      ],
      "text/plain": [
       "<__main__.PDF at 0x7f2578f24c90>"
      ]
     },
     "execution_count": 43,
     "metadata": {},
     "output_type": "execute_result"
    }
   ],
   "source": [
    "PDF('paper/figures/purity_z_cut.pdf', size=(600, 1000))"
   ]
  },
  {
   "cell_type": "markdown",
   "metadata": {},
   "source": [
    "[See code for Figure 13](paper/notebooks/figure13/purity_z_cut.ipynb)\n",
    "\n",
    "Figure 13. Similar to [Figure 11](paper/notebooks/figure11/purity_mag_cut.ipynb)\n",
    "but as a function of photo-$z$."
   ]
  },
  {
   "cell_type": "code",
   "execution_count": 44,
   "metadata": {
    "collapsed": false
   },
   "outputs": [
    {
     "data": {
      "text/html": [
       "<iframe src=paper/figures/purity_g_r_cut.pdf width=600 height=1000></iframe>"
      ],
      "text/plain": [
       "<__main__.PDF at 0x7f2578f94e10>"
      ]
     },
     "execution_count": 44,
     "metadata": {},
     "output_type": "execute_result"
    }
   ],
   "source": [
    "PDF('paper/figures/purity_g_r_cut.pdf', size=(600, 1000))"
   ]
  },
  {
   "cell_type": "markdown",
   "metadata": {},
   "source": [
    "[See code for Figure 14](paper/notebooks/figure14/purity_g_r_cut.ipynb)\n",
    "\n",
    "Figure 14. Similar to [Figure 11](paper/notebooks/figure11/purity_mag_cut.ipynb)\n",
    "but as a function of $g-r$ color."
   ]
  },
  {
   "cell_type": "markdown",
   "metadata": {},
   "source": [
    "Compared to Figure 6 and 7,\n",
    "the performance of BMC becomes worse in some photo-$z$ and $g-r$ bins.\n",
    "However, this drop in performance seems to be confined to\n",
    "only a small number of objects in particular regions of\n",
    "the parameter space,\n",
    "and BMC still outperforms both TPC and morphological separation\n",
    "for the majority of objects.\n",
    "\n",
    "Compared to Figure 8,\n",
    "the difference between the posterior star probability distribution of\n",
    "TPC and that of BMC is now more pronounced in Figure 15."
   ]
  },
  {
   "cell_type": "code",
   "execution_count": 45,
   "metadata": {
    "collapsed": false
   },
   "outputs": [
    {
     "data": {
      "text/html": [
       "<iframe src=paper/figures/p_dist_cut.pdf width=600 height=600></iframe>"
      ],
      "text/plain": [
       "<__main__.PDF at 0x7f2578ecef50>"
      ]
     },
     "execution_count": 45,
     "metadata": {},
     "output_type": "execute_result"
    }
   ],
   "source": [
    "PDF('paper/figures/p_dist_cut.pdf', size=(600, 600))"
   ]
  },
  {
   "cell_type": "markdown",
   "metadata": {},
   "source": [
    "[See code for Figure 15](paper/notebooks/figure15/p_dist_cut.ipynb)\n",
    "\n",
    "Figure 15. Similar to [Figure 8](paper/notebooks/figure08/p_dist.ipynb)\n",
    "but for the reduced training data set."
   ]
  },
  {
   "cell_type": "markdown",
   "metadata": {},
   "source": [
    "The $P\\left(S\\right)$ distribution of BMC for true galaxies\n",
    "falls off sharply at $P\\left(S\\right)\\approx0.95$,\n",
    "and BMC does not assign a star probability\n",
    "$P(S) \\geq 0.95$ to any true galaxies,\n",
    "On the other hand, both TPC and morphological separation \n",
    "classify some true galaxies as stars with absolute certainty.\n",
    "\n",
    "### V.4. The Quality of Training Data\n",
    "\n",
    "The combination techniques that we have demonstrated so far use\n",
    "two training based algorithms as base classifiers.\n",
    "Ideally, the training data should mirror the entire parameter space\n",
    "occupied by the data to be classified.\n",
    "Yet we have seen in Section V.3\n",
    "that the BMC technique does reliably\n",
    "extrapolate past the limits of the training data,\n",
    "even when some base classifiers are trained on a low-quality training data set.\n",
    "In this section, we further investigate\n",
    "if and where BMC begins to break down\n",
    "by imposing various magnitude, photo-$z$, and color cuts\n",
    "to change the size and composition of the training set.\n",
    "\n",
    "In Figure 16, we present\n",
    "a visual comparison between different classification techniques,\n",
    "when various magnitude cuts are applied on the training data,\n",
    "and the performance is measured on the same test set\n",
    "from Section V.2 and V.3."
   ]
  },
  {
   "cell_type": "code",
   "execution_count": 46,
   "metadata": {
    "collapsed": false
   },
   "outputs": [
    {
     "data": {
      "text/html": [
       "<iframe src=paper/figures/perform_mag_cut.pdf width=600 height=1000></iframe>"
      ],
      "text/plain": [
       "<__main__.PDF at 0x7f2577b11b90>"
      ]
     },
     "execution_count": 46,
     "metadata": {},
     "output_type": "execute_result"
    }
   ],
   "source": [
    "PDF('paper/figures/perform_mag_cut.pdf', size=(600, 1000))"
   ]
  },
  {
   "cell_type": "markdown",
   "metadata": {},
   "source": [
    "[See code for Figure 16](paper/notebooks/figure16/perform_mag_cut.ipynb)\n",
    "\n",
    "Figure 16. The classification performance metrics for\n",
    "  BMC (blue), TPC (green), morphology (red), and HB (purple)\n",
    "  as applied to the CFHTLenS data in the VVDS field\n",
    "  with various magnitude cuts.\n",
    "  The top panel shows the number of sources in the training set\n",
    "  at corresponding magnitude cuts.\n",
    "  We show only one of the four combination methods, BMC,\n",
    "  which has the best overall performance."
   ]
  },
  {
   "cell_type": "markdown",
   "metadata": {},
   "source": [
    "It is not surprising that the performance of TPC decreases\n",
    "as we decrease the size of training set\n",
    "by imposing more restrictive magnitude cuts,\n",
    "while the performance of HB and morphological separation\n",
    "is essentially unchanged.\n",
    "However, the effect of change in size and composition of the training set\n",
    "is significantly mitigated by the use of the BMC technique.\n",
    "BMC outperforms both HB and TPC in all four metrics,\n",
    "even when the training set is restricted to $i < 20.0$.\n",
    "BMC also consistently outperforms morphological separation\n",
    "until we impose a magnitude cut of $i < 20.0$ on the training data,\n",
    "beyond which point BMC finally performs worse than morphological separation.\n",
    "It is remarkable that BMC is able to reliably extrapolate\n",
    "past the training data to $i \\sim 24.5$,\n",
    "the limiting magnitude of the test set, and outperform HB, TPC,\n",
    "and morphological separation in all performance metrics,\n",
    "even the demographics of training set do not accurately sample \n",
    "the data to be classified.\n",
    "\n",
    "Similarly, we impose various spectroscopic redshift cuts \n",
    "on the training data in Figure 17."
   ]
  },
  {
   "cell_type": "code",
   "execution_count": 47,
   "metadata": {
    "collapsed": false
   },
   "outputs": [
    {
     "data": {
      "text/html": [
       "<iframe src=paper/figures/perform_z_cut.pdf width=600 height=1000></iframe>"
      ],
      "text/plain": [
       "<__main__.PDF at 0x7f2578ef6050>"
      ]
     },
     "execution_count": 47,
     "metadata": {},
     "output_type": "execute_result"
    }
   ],
   "source": [
    "PDF('paper/figures/perform_z_cut.pdf', size=(600, 1000))"
   ]
  },
  {
   "cell_type": "markdown",
   "metadata": {},
   "source": [
    "[See code for Figure 17](paper/notebooks/figure17/perform_z_cut.ipynb)\n",
    "\n",
    "Figure 17. Similar to [Figure 16](paper/notebooks/figure16/perform_mag_cut.ipynb) but using $z_{\\text{spec}}$ cuts."
   ]
  },
  {
   "cell_type": "markdown",
   "metadata": {},
   "source": [
    "Since all stars have $z_{\\mathrm{spec}}$ values\n",
    "close to zero, we are effectively changing the demographics\n",
    "of training set by keeping all stars and gradually removing\n",
    "galaxies with high redshifts.\n",
    "BMC begins to perform worse than morphological separation\n",
    "when a conservative cut of $z_{\\mathrm{spec}} < 0.6$ is imposed.\n",
    "However, it is again clear that BMC is able to\n",
    "utilize information from HB and morphological separation to\n",
    "mitigate the drop in the performance of TPC.\n",
    "\n",
    "In Figure 18,\n",
    "we decrease the size of training set\n",
    "by keeping red objects and gradually removing blue objects."
   ]
  },
  {
   "cell_type": "code",
   "execution_count": 48,
   "metadata": {
    "collapsed": false
   },
   "outputs": [
    {
     "data": {
      "text/html": [
       "<iframe src=paper/figures/perform_g_r_cut.pdf width=600 height=1000></iframe>"
      ],
      "text/plain": [
       "<__main__.PDF at 0x7f2578f7e950>"
      ]
     },
     "execution_count": 48,
     "metadata": {},
     "output_type": "execute_result"
    }
   ],
   "source": [
    "PDF('paper/figures/perform_g_r_cut.pdf', size=(600, 1000))"
   ]
  },
  {
   "cell_type": "markdown",
   "metadata": {},
   "source": [
    "[See code for Figure 18](paper/notebooks/figure18/perform_g_r.ipynb)\n",
    "\n",
    "Figure 18. Similar to [Figure 16](paper/notebooks/figure16/perform_mag_cut.ipynb) but using $g-r$ color cuts."
   ]
  },
  {
   "cell_type": "markdown",
   "metadata": {},
   "source": [
    "A color cut seems to have a more pronounced effect\n",
    "on the performance of TPC and BMC,\n",
    "which perform worse than morphological separation\n",
    "when the training set is restricted to $g - r > 0.4$.\n",
    "The performance depends more strongly on the color distribution, because \n",
    "a significant fraction of blue objects consists of stars,\n",
    "while objects with fainter magnitudes and higher redshifts\n",
    "are mostly galaxies.\n",
    "We can verify this in Figure 2,\n",
    "where the darker (higher stellar fraction) cells in the upper middle region\n",
    "of the stellar fraction map (top right panel)\n",
    "have bright magnitudes $i \\leq 20$\n",
    "in the $i$-band magnitude map (top left panel)\n",
    "and blue colors $g-r \\leq 0.5$ in the $g-r$ color map (bottom right panel).\n",
    "On the other hand, the darker (fainter magnitude) cells\n",
    "in the right-hand side of the $i$-band magnitude map\n",
    "have almost no stars in them and\n",
    "are represented by bright (low stellar fraction)\n",
    "cells in the stellar fraction map.\n",
    "Thus, these results indicate that the performance of training based\n",
    "methods depends more strongly on the composition of training data\n",
    "than on the size, and it is necessary to have\n",
    "a sufficient number of the minority class\n",
    "in the training data set to ensure optimal performance.\n",
    "\n",
    "## VI. Conclusions\n",
    "\n",
    "We have presented and analyzed a novel star-galaxy classification framework for combining star-galaxy classifiers using the CFHTLenS data. In particular, we use four independent classification techniques: a morphological separation method; TPC, a supervised machine learning technique based on prediction trees and a random forest; SOMc, an unsupervised machine learning approach based on self-organizing maps and a random atlas; and HB, a Hierarchical Bayesian template-fitting method that we have modified and parallelized. Both TPC and SOMc algorithms are currently available within a software package named [MLZ](http://lcdm.astro.illinois.edu/code/mlz.html). Our implementation of HB and BMC, as well as IPython notebooks that have been used to produce the results in this paper, are available at https://github.com/EdwardJKim/astroclass.  \n",
    "\n",
    "Given the variety of star-galaxy classification methods we are using, we fully expect the relative performance of the individual techniques to vary across the parameter space spanned by the data. We therefore adopt the binning strategy, where we allow different classifier combinations in different parts of parameter space by creating two-dimensional self-organizing maps of the full multi-dimensional magnitude-color space. We apply different star-galaxy classification techniques within each cell of this map, and find that the four techniques are weighted most strongly in different regions of the map.   \n",
    "\n",
    "Using data from the CFHTLenS survey, we have considered different scenarios: when an excellent training set is available with spectroscopic labels from DEEP2, SDSS, VIPERS, and VVDS, and when the demographics of sources in a low-quality training set do not match the demographics of objects in the test data set. We demonstrate that the Bayesian Model Combination (BMC) technique improves the overall performance over any individual classification method in both cases. We note that [Carrasco Kind (2014)](http://adsabs.harvard.edu/abs/2014MNRAS.442.3380C) analyzed different techniques for combining photometric redshift probability density functions (photo-$z$ PDFs) and also found that BMC is in general the best photo-$z$ PDF combination technique.   \n",
    "\n",
    "The problem of star-galaxy classification is a rich area for future research. It is unclear if sufficient training data will be available in future ground-based surveys. Furthermore, in large sky surveys such as DES and LSST, photometric quality is not uniform across the sky, and a purely morphological classifier alone will not be sufficient, especially at faint magnitudes. Given the efficacy of our approach, classifier combination strategies are likely the optimal approach for currently ongoing and forthcoming photometric surveys. We therefore plan to apply the combination technique described in this paper to other surveys such as the DES. Our approach can also be extended more broadly to classify objects that are neither stars nor galaxies (e.g., quasars). Finally, future studies could explore the use of multi-epoch data, which would be particularly useful for the next generation of synoptic surveys.\n",
    "\n",
    "## Acknowledgements\n",
    "\n",
    "The authors thank the referee for a careful reading of the manuscript and comments that improved this work. We thank Ignacio Sevilla for helpful and insightful conversations. We acknowledge support from the  National Science Foundation Grant No. AST-1313415. RJB acknowledges support as an Associate within the Center for Advanced Study at the University of Illinois.\n",
    "\n",
    "This work used the Extreme Science and Engineering Discovery Environment (XSEDE), which is supported by National Science Foundation grant number ACI-1053575.\n",
    "\n",
    "This work is based on observations obtained with MegaPrime/MegaCam, a joint project of CFHT and CEA/DAPNIA, at the Canada-France-Hawaii Telescope (CFHT) which is operated by the National Research Council (NRC) of Canada, the Institut National des Sciences de l'Univers of the Centre National de la Recherche Scientifique (CNRS) of France, and the University of Hawaii. This research used the facilities of the Canadian Astronomy Data Centre operated by the National Research Council of Canada with the support of the Canadian Space Agency. CFHTLenS data processing was made possible thanks to significant computing support from the NSERC Research Tools and Instruments grant program.\n",
    "\n",
    "Funding for the DEEP2 survey has been provided by NSF grants AST-0071048, AST-0071198, AST-0507428, and AST-0507483. \n",
    "\n",
    "Funding for SDSS-III has been provided by the Alfred P. Sloan Foundation, the Participating Institutions, the National Science Foundation, and the U.S. Department of Energy Office of Science. The SDSS-III web site is http://www.sdss3.org/.\n",
    "\n",
    "SDSS-III is managed by the Astrophysical Research Consortium for the Participating Institutions of the SDSS-III Collaboration including the University of Arizona, the Brazilian Participation Group, Brookhaven National Laboratory, Carnegie Mellon University, University of Florida, the French Participation Group, the German Participation Group, Harvard University, the Instituto de Astrofisica de Canarias, the Michigan State/Notre Dame/JINA Participation Group, Johns Hopkins University, Lawrence Berkeley National Laboratory, Max Planck Institute for Astrophysics, Max Planck Institute for Extraterrestrial Physics, New Mexico State University, New York University, Ohio State University, Pennsylvania State University, University of Portsmouth, Princeton University, the Spanish Participation Group, University of Tokyo, University of Utah, Vanderbilt University, University of Virginia, University of Washington, and Yale University.\n",
    "\n",
    "This paper uses data from the VIMOS Public Extragalactic Redshift Survey (VIPERS). VIPERS has been performed using the ESO Very Large Telescope, under the \"Large Programme\" 182.A-0886. The participating institutions and funding agencies are listed at http://vipers.inaf.it/.\n",
    "\n",
    "This research uses data from the VIMOS VLT Deep Survey, obtained from the VVDS database operated by Cesam, Laboratoire d'Astrophysique de Marseille, France."
   ]
  }
 ],
 "metadata": {
  "kernelspec": {
   "display_name": "Python 2",
   "language": "python",
   "name": "python2"
  },
  "language_info": {
   "codemirror_mode": {
    "name": "ipython",
    "version": 2
   },
   "file_extension": ".py",
   "mimetype": "text/x-python",
   "name": "python",
   "nbconvert_exporter": "python",
   "pygments_lexer": "ipython2",
   "version": "2.7.6"
  }
 },
 "nbformat": 4,
 "nbformat_minor": 0
}
