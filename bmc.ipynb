{
 "cells": [
  {
   "cell_type": "markdown",
   "metadata": {},
   "source": [
    "#<center>A Hybrid Ensemble Learning Approach to Star-galaxy Classification </center>\n",
    "\n",
    "##<center>Edward Kim, Robert Brunner, and Matias Carrasco Kind</center>\n",
    "\n",
    "<center>[MNRAS (2015) 453 (1): 507-521](http://mnras.oxfordjournals.org/content/453/1/507)</center>\n",
    "\n",
    "<center>[arXiv:1505.02200](http://arxiv.org/abs/1505.02200) [astro-ph.IM]</center>\n",
    "\n",
    "##<center>Abstract</center>\n",
    "\n",
    "There exist a variety of star-galaxy classification techniques, each with their own strengths and weaknesses. In this paper, we present a novel meta-classification framework that combines and fully exploits different techniques to produce a more robust star-galaxy classification. To demonstrate this hybrid, ensemble approach, we combine a purely morphological classifier, a supervised machine learning method based on random forest, an unsupervised machine learning method based on self-organizing maps, and a hierarchical Bayesian template fitting method. Using data from the CFHTLenS survey, we consider different scenarios: when a high-quality training set is available with spectroscopic labels from DEEP2, SDSS, VIPERS, and VVDS, and when the demographics of sources in a low-quality training set do not match the demographics of objects in the test data set. We demonstrate that our Bayesian combination technique improves the overall performance over any individual classification method in these scenarios. Thus, strategies that combine the predictions of different classifiers may prove to be optimal in currently ongoing and forthcoming photometric surveys, such as the Dark Energy Survey and the Large Synoptic Survey Telescope.\n",
    "\n",
    "This notebook demonstrates an example of using Bayesian Model Combination (BMC) for the CFHTLenS data.\n",
    "\n",
    "##<center>I. Introduction</center>\n",
    "\n",
    "<img src=\"bmc/images/SGmag.png\" width=\"500\">\n",
    "\n",
    "<center> Image: sample images of stars and galaxies from the SDSS survey at different magnitudes (source: [LCDM website](http://lcdm.astro.illinois.edu/)) </center>\n",
    "\n",
    "The problem of source classification is fundamental to astronomy and goes as far back as [Messier (1781)](https://en.wikipedia.org/wiki/Charles_Messier). A variety of different strategies have been developed  to tackle this long-standing problem, and yet there is no consensus on the optimal star-galaxy classification strategy. The most commonly used method to classify stars and galaxies in large sky surveys is the morphological separation ([Sebok 1979](http://adsabs.harvard.edu/abs/1979AJ.....84.1526S); [Kron 1980](http://adsabs.harvard.edu/abs/1980ApJS...43..305K); [Valdes 1982](http://adsabs.harvard.edu/abs/1982SPIE..331..465V); [Yee 1991](http://adsabs.harvard.edu/abs/1991PASP..103..396Y); [Vasconcellos et al. 2011](http://adsabs.harvard.edu/abs/2011AJ....141..189V); [Henrion et al. 2011](http://adsabs.harvard.edu/abs/2011MNRAS.412.2286H)). It relies on the assumption that stars appear as point sources while galaxies appear as resolved sources. However, currently ongoing and upcoming large photometric surveys, such as the [Dark Energy Survey (DES)](http://www.darkenergysurvey.org/) and the [Large Synoptic Survey Telescope (LSST)](http://www.lsst.org/lsst/), will detect a vast number of unresolved galaxies at faint magnitudes. Near a survey's limit, the photometric observations cannot reliably separate stars from unresolved galaxies by morphology alone without leading to incompleteness and contamination in the star and galaxy samples.\n",
    "\n",
    "The contamination of unresolved galaxies can be mitigated by using training based algorithms. Machine learning methods have the advantage that it is easier to include extra information, such as concentration indices, shape information, or different model magnitudes. However, they are only reliable within the limits of the training data, and it can be difficult to extrapolate these algorithms outside the parameter range of the training data. These techniques can be further categorized into supervised and unsupervised learning approaches.\n",
    "\n",
    "In [supervised learning](https://en.wikipedia.org/wiki/Supervised_learning), the input attributes (e.g. magnitudes or colors) are provided along with the truth labels (e.g. star or galaxy). [Odewahn et al. (1992)](http://adsabs.harvard.edu/abs/1992AJ....103..318O) pioneered the application of neural networks to the star-galaxy classification problem, and it has become a core part of the astronomical image processing software [_SExtractor_](http://www.astromatic.net/software/sextractor). Other successfully implemented examples include decision trees ([Weir, Fayyad, & Djorgovski (1995)](http://adsabs.harvard.edu/abs/1995AJ....109.2401W); [Suchkov, Hanisch, & Margon (2005)](http://adsabs.harvard.edu/abs/2005AJ....130.2439S); [Ball & Brunner (2006)](http://adsabs.harvard.edu/abs/2010IJMPD..19.1049B); [Sevilla-Noarbe & Etayo-Sotos (2015)](http://adsabs.harvard.edu/abs/2015A%26C....11...64S)) and Support Vector Machines ([Fadely, Hogg, & Willman 2012](http://adsabs.harvard.edu/abs/2012ApJ...760...15F)). [Unsupervised machine learning](https://en.wikipedia.org/wiki/Unsupervised_learning) techniques are less common, as they do not utilize the truth labels during the training process, and only the input attributes are used.\n",
    "\n",
    "<img src=\"bmc/images/spDR2-000.gif\" width=\"500\">\n",
    "<center>Image: A spectrum of an O star (source: [SDSS](http://classic.sdss.org/dr7/algorithms/spectemplates/))</center>\n",
    "\n",
    "<img src=\"bmc/images/spDR2-023.gif\" width=\"500\">\n",
    "<center>Image: A spectrum of a galaxy (source: [SDSS](http://classic.sdss.org/dr7/algorithms/spectemplates/))</center>\n",
    "\n",
    "Physically based template fitting methods have also been used for the star-galaxy classification problem ([Robin et al. 2007](http://adsabs.harvard.edu/abs/2007ApJS..172..545R); [Fadely, Hogg, & Willman 2012](http://adsabs.harvard.edu/abs/2012ApJ...760...15F)). Template fitting approaches infer a source's properties by finding the best match between the measured set of magnitudes (or colors) and the synthetic set of magnitudes (or colors) computed from a set of spectral templates. Although it is not necessary to obtain a high-quality spectroscopic training sample,\n",
    "these techniques do require a representative sample of theoretical or empirical templates that span the possible spectral energy distributions (SEDs) of stars and galaxies. Furthermore, they are not exempt from uncertainties due to measurement errors on the filter response curves, or from mismatches between the observed magnitudes and the template SEDs."
   ]
  },
  {
   "cell_type": "code",
   "execution_count": 1,
   "metadata": {
    "collapsed": true
   },
   "outputs": [],
   "source": [
    "%matplotlib inline"
   ]
  },
  {
   "cell_type": "code",
   "execution_count": 2,
   "metadata": {
    "collapsed": false
   },
   "outputs": [],
   "source": [
    "from __future__ import print_function, division, unicode_literals\n",
    "import numpy as np\n",
    "import pandas as pd\n",
    "import matplotlib.pyplot as plt\n",
    "import seaborn as sns"
   ]
  },
  {
   "cell_type": "markdown",
   "metadata": {},
   "source": [
    "## II. Data: [CFHTLens](http://cfhtlens.org/astronomers/data-store)\n",
    "\n",
    "We use photometric data from the [Canada-France-Hawaii Telescope Lensing Survey (CFHTLens)](http://www.cfhtlens.org/). This catalog consists of more than twenty five million objects with a limiting magnitude of $i_{\\text{AB}} \\approx 25.5$. It covers a total of 154 square degrees in the four fields (named W1, W2, W3, and W4) of [CFHT Legacy Survey (CFHTLS)](http://www.cfht.hawaii.edu/Science/CFHTLS/) observed in the five photometric bands: $u$, $g$, $r$, $i$, and $z$.\n",
    "\n",
    "We have cross-matched reliable spectroscopic galaxies from the [Deep Extragalactic Evolutionary Probe Phase 2 (DEEP2)](http://deep.ps.uci.edu/), the [Sloan Digital Sky Survey Data Release 10 (SDSS-DR10)](https://www.sdss3.org/dr10/), the [VIsible imaging Multi-Object Spectrograph (VIMOS) Very Large Telescope (VLT) Deep Survey (VVDS)](http://cesam.oamp.fr/vvdsproject/vvds.htm), and the [VIMOS Public Extragalactic Redshift Survey (VIPERS)](http://vipers.inaf.it/). We have selected only sources with very secure redshifts and no bad flags (quality flags -1, 3, and 4 for DEEP2; quality flag 0 for SDSS; quality flags 3, 4, 23, and 24 for VIPERS and VVDS). In the end, we have 8,545 stars and 57,843 galaxies available for the training and testing processes. We randomly select 13,278 objects for the blind testing set, and use the remainder for training and cross-validation. While HB uses only the magnitudes in the five bands, $u$, $g$, $r$, $i$, and $z$, TPC and SOMc are trained with a total of 9 attributes: the five magnitudes and their corresponding colors, $u-g$, $g-r$, $r-i$, and $i-z$. The morphological separation method uses [_SExtractor_](http://www.astromatic.net/software/sextractor)'s  FLUX RADIUS parameter provided by the CFHTLenS catalog.\n",
    "\n",
    "We use `pandas` to load the CFHTLenS data, using the object IDs as the index column."
   ]
  },
  {
   "cell_type": "code",
   "execution_count": 3,
   "metadata": {
    "collapsed": false
   },
   "outputs": [],
   "source": [
    "df = pd.read_csv('data/cfhtlens_matched.csv', index_col='id')"
   ]
  },
  {
   "cell_type": "markdown",
   "metadata": {},
   "source": [
    "The CSV files have 100+ columns."
   ]
  },
  {
   "cell_type": "code",
   "execution_count": 4,
   "metadata": {
    "collapsed": false
   },
   "outputs": [
    {
     "data": {
      "text/html": [
       "<div style=\"max-height:1000px;max-width:1500px;overflow:auto;\">\n",
       "<table border=\"1\" class=\"dataframe\">\n",
       "  <thead>\n",
       "    <tr style=\"text-align: right;\">\n",
       "      <th></th>\n",
       "      <th>ALPHA_J2000</th>\n",
       "      <th>A_WORLD</th>\n",
       "      <th>BPZ_FILT</th>\n",
       "      <th>BPZ_FLAGFILT</th>\n",
       "      <th>BPZ_NONDETFILT</th>\n",
       "      <th>B_WORLD</th>\n",
       "      <th>BackGr</th>\n",
       "      <th>CHI_SQUARED_BPZ</th>\n",
       "      <th>CLASS_STAR</th>\n",
       "      <th>DELTA_J2000</th>\n",
       "      <th>...</th>\n",
       "      <th>n_exposures_detec</th>\n",
       "      <th>n_exposures_used</th>\n",
       "      <th>pos</th>\n",
       "      <th>scalelength</th>\n",
       "      <th>sp_cat</th>\n",
       "      <th>sp_cat_id</th>\n",
       "      <th>star_flag</th>\n",
       "      <th>true_class</th>\n",
       "      <th>weight</th>\n",
       "      <th>z_spec</th>\n",
       "    </tr>\n",
       "    <tr>\n",
       "      <th>id</th>\n",
       "      <th></th>\n",
       "      <th></th>\n",
       "      <th></th>\n",
       "      <th></th>\n",
       "      <th></th>\n",
       "      <th></th>\n",
       "      <th></th>\n",
       "      <th></th>\n",
       "      <th></th>\n",
       "      <th></th>\n",
       "      <th></th>\n",
       "      <th></th>\n",
       "      <th></th>\n",
       "      <th></th>\n",
       "      <th></th>\n",
       "      <th></th>\n",
       "      <th></th>\n",
       "      <th></th>\n",
       "      <th></th>\n",
       "      <th></th>\n",
       "      <th></th>\n",
       "    </tr>\n",
       "  </thead>\n",
       "  <tbody>\n",
       "    <tr>\n",
       "      <th>W3m0m1_11696</th>\n",
       "      <td>214.650267</td>\n",
       "      <td>0.000981</td>\n",
       "      <td>31</td>\n",
       "      <td>0</td>\n",
       "      <td>0</td>\n",
       "      <td>0.000760</td>\n",
       "      <td>0.002792</td>\n",
       "      <td>0.054</td>\n",
       "      <td>0.028628</td>\n",
       "      <td>53.106480</td>\n",
       "      <td>...</td>\n",
       "      <td>7</td>\n",
       "      <td>0</td>\n",
       "      <td>Position ICRS 214.6502668999999 53.10647969000003</td>\n",
       "      <td>0.0000</td>\n",
       "      <td>sdss-dr10</td>\n",
       "      <td>1.493031e+18</td>\n",
       "      <td>0</td>\n",
       "      <td>0</td>\n",
       "      <td>0.0000</td>\n",
       "      <td>0.202653</td>\n",
       "    </tr>\n",
       "    <tr>\n",
       "      <th>W3m0m1_13805</th>\n",
       "      <td>215.003288</td>\n",
       "      <td>0.000834</td>\n",
       "      <td>31</td>\n",
       "      <td>0</td>\n",
       "      <td>0</td>\n",
       "      <td>0.000602</td>\n",
       "      <td>0.011452</td>\n",
       "      <td>0.341</td>\n",
       "      <td>0.028643</td>\n",
       "      <td>53.112236</td>\n",
       "      <td>...</td>\n",
       "      <td>7</td>\n",
       "      <td>0</td>\n",
       "      <td>Position ICRS 215.00328799999977 53.1122355599...</td>\n",
       "      <td>0.0000</td>\n",
       "      <td>sdss-dr10</td>\n",
       "      <td>1.491820e+18</td>\n",
       "      <td>0</td>\n",
       "      <td>0</td>\n",
       "      <td>0.0000</td>\n",
       "      <td>0.200794</td>\n",
       "    </tr>\n",
       "    <tr>\n",
       "      <th>W3m0m1_14097</th>\n",
       "      <td>214.731917</td>\n",
       "      <td>0.001051</td>\n",
       "      <td>31</td>\n",
       "      <td>0</td>\n",
       "      <td>0</td>\n",
       "      <td>0.000762</td>\n",
       "      <td>0.017118</td>\n",
       "      <td>0.308</td>\n",
       "      <td>0.028655</td>\n",
       "      <td>53.108660</td>\n",
       "      <td>...</td>\n",
       "      <td>7</td>\n",
       "      <td>0</td>\n",
       "      <td>Position ICRS 214.7319170999998 53.10865952999999</td>\n",
       "      <td>0.0000</td>\n",
       "      <td>sdss-dr10</td>\n",
       "      <td>1.493029e+18</td>\n",
       "      <td>0</td>\n",
       "      <td>0</td>\n",
       "      <td>0.0000</td>\n",
       "      <td>0.114782</td>\n",
       "    </tr>\n",
       "    <tr>\n",
       "      <th>W3m0m1_14953</th>\n",
       "      <td>214.261103</td>\n",
       "      <td>0.000209</td>\n",
       "      <td>31</td>\n",
       "      <td>0</td>\n",
       "      <td>0</td>\n",
       "      <td>0.000175</td>\n",
       "      <td>-0.003837</td>\n",
       "      <td>0.100</td>\n",
       "      <td>0.028710</td>\n",
       "      <td>53.130319</td>\n",
       "      <td>...</td>\n",
       "      <td>7</td>\n",
       "      <td>0</td>\n",
       "      <td>Position ICRS 214.26110300000002 53.1303185000...</td>\n",
       "      <td>0.0000</td>\n",
       "      <td>sdss-dr10</td>\n",
       "      <td>5.648736e+18</td>\n",
       "      <td>0</td>\n",
       "      <td>0</td>\n",
       "      <td>0.0000</td>\n",
       "      <td>0.773710</td>\n",
       "    </tr>\n",
       "    <tr>\n",
       "      <th>W3m0m1_15171</th>\n",
       "      <td>214.211339</td>\n",
       "      <td>0.000205</td>\n",
       "      <td>31</td>\n",
       "      <td>0</td>\n",
       "      <td>0</td>\n",
       "      <td>0.000118</td>\n",
       "      <td>-0.004166</td>\n",
       "      <td>0.136</td>\n",
       "      <td>0.021400</td>\n",
       "      <td>53.132613</td>\n",
       "      <td>...</td>\n",
       "      <td>5</td>\n",
       "      <td>5</td>\n",
       "      <td>Position ICRS 214.21133930000028 53.1326129599...</td>\n",
       "      <td>3.1838</td>\n",
       "      <td>sdss-dr10</td>\n",
       "      <td>5.649857e+18</td>\n",
       "      <td>0</td>\n",
       "      <td>0</td>\n",
       "      <td>15.4507</td>\n",
       "      <td>0.948875</td>\n",
       "    </tr>\n",
       "  </tbody>\n",
       "</table>\n",
       "<p>5 rows × 102 columns</p>\n",
       "</div>"
      ],
      "text/plain": [
       "              ALPHA_J2000   A_WORLD  BPZ_FILT  BPZ_FLAGFILT  BPZ_NONDETFILT  \\\n",
       "id                                                                            \n",
       "W3m0m1_11696   214.650267  0.000981        31             0               0   \n",
       "W3m0m1_13805   215.003288  0.000834        31             0               0   \n",
       "W3m0m1_14097   214.731917  0.001051        31             0               0   \n",
       "W3m0m1_14953   214.261103  0.000209        31             0               0   \n",
       "W3m0m1_15171   214.211339  0.000205        31             0               0   \n",
       "\n",
       "               B_WORLD    BackGr  CHI_SQUARED_BPZ  CLASS_STAR  DELTA_J2000  \\\n",
       "id                                                                           \n",
       "W3m0m1_11696  0.000760  0.002792            0.054    0.028628    53.106480   \n",
       "W3m0m1_13805  0.000602  0.011452            0.341    0.028643    53.112236   \n",
       "W3m0m1_14097  0.000762  0.017118            0.308    0.028655    53.108660   \n",
       "W3m0m1_14953  0.000175 -0.003837            0.100    0.028710    53.130319   \n",
       "W3m0m1_15171  0.000118 -0.004166            0.136    0.021400    53.132613   \n",
       "\n",
       "                ...     n_exposures_detec  n_exposures_used  \\\n",
       "id              ...                                           \n",
       "W3m0m1_11696    ...                     7                 0   \n",
       "W3m0m1_13805    ...                     7                 0   \n",
       "W3m0m1_14097    ...                     7                 0   \n",
       "W3m0m1_14953    ...                     7                 0   \n",
       "W3m0m1_15171    ...                     5                 5   \n",
       "\n",
       "                                                            pos  scalelength  \\\n",
       "id                                                                             \n",
       "W3m0m1_11696  Position ICRS 214.6502668999999 53.10647969000003       0.0000   \n",
       "W3m0m1_13805  Position ICRS 215.00328799999977 53.1122355599...       0.0000   \n",
       "W3m0m1_14097  Position ICRS 214.7319170999998 53.10865952999999       0.0000   \n",
       "W3m0m1_14953  Position ICRS 214.26110300000002 53.1303185000...       0.0000   \n",
       "W3m0m1_15171  Position ICRS 214.21133930000028 53.1326129599...       3.1838   \n",
       "\n",
       "                 sp_cat     sp_cat_id  star_flag  true_class   weight  \\\n",
       "id                                                                      \n",
       "W3m0m1_11696  sdss-dr10  1.493031e+18          0           0   0.0000   \n",
       "W3m0m1_13805  sdss-dr10  1.491820e+18          0           0   0.0000   \n",
       "W3m0m1_14097  sdss-dr10  1.493029e+18          0           0   0.0000   \n",
       "W3m0m1_14953  sdss-dr10  5.648736e+18          0           0   0.0000   \n",
       "W3m0m1_15171  sdss-dr10  5.649857e+18          0           0  15.4507   \n",
       "\n",
       "                z_spec  \n",
       "id                      \n",
       "W3m0m1_11696  0.202653  \n",
       "W3m0m1_13805  0.200794  \n",
       "W3m0m1_14097  0.114782  \n",
       "W3m0m1_14953  0.773710  \n",
       "W3m0m1_15171  0.948875  \n",
       "\n",
       "[5 rows x 102 columns]"
      ]
     },
     "execution_count": 4,
     "metadata": {},
     "output_type": "execute_result"
    }
   ],
   "source": [
    "df.head()"
   ]
  },
  {
   "cell_type": "markdown",
   "metadata": {},
   "source": [
    "The object IDs of the training set used in the paper are stored in `clens_train_id.txt`. We used these indices to construct the same training set, since we will simply read the save results of TPC, SOMc, and HB from txt files, not run the base classifiers in this notebook."
   ]
  },
  {
   "cell_type": "code",
   "execution_count": 5,
   "metadata": {
    "collapsed": true
   },
   "outputs": [],
   "source": [
    "train_id = pd.read_csv('data/clens_train_id.txt')\n",
    "train = df.loc[train_id.id]\n",
    "\n",
    "test_id =pd.read_csv('data/clens_test_id.txt')\n",
    "test = df.loc[test_id.id]"
   ]
  },
  {
   "cell_type": "markdown",
   "metadata": {},
   "source": [
    "It's useful to set aside the truth labels."
   ]
  },
  {
   "cell_type": "code",
   "execution_count": 6,
   "metadata": {
    "collapsed": false
   },
   "outputs": [],
   "source": [
    "truth_train = train['true_class'].values\n",
    "truth_test = test['true_class'].values"
   ]
  },
  {
   "cell_type": "markdown",
   "metadata": {},
   "source": [
    "## III. Classification Methods\n",
    "\n",
    "In this section, we present four distinct star-galaxy classification techniques. The first method is a morphological separation method, which uses a hard cut in the half-light radius vs.\\ magnitude plane. The second method is a supervised machine learning technique named TPC (Trees for Probabilistic Classification), which uses prediction trees and a random forest ([Carrasco Kind & Brunner 2013](http://adsabs.harvard.edu/abs/2013MNRAS.432.1483C)). The third method is an unsupervised machine learning technique named SOMc, which uses self-organizing maps (SOMs) and a random atlas to provide a classification ([Carrasco Kind & Brunner 2014](http://adsabs.harvard.edu/abs/2014MNRAS.438.3409C)). The fourth method is a Hierarchical Bayesian (HB) template fitting technique based on the work by [Fadely, Hogg, & Willman (2012)](http://adsabs.harvard.edu/abs/2012ApJ...760...15F)), which fits SED templates from star and galaxy libraries to an observed set of measured flux values.\n",
    "\n",
    "Collectively, these four methods represent the majority of all standard star-galaxy classification approaches published in the literature. It is very likely that any new classification technique would be functionally similar to one of these four methods. Therefore, any of these four methods could in principle be replaced by a similar method. \n",
    "\n",
    "### III.1. Morphological classification\n",
    "\n",
    "The simplest and perhaps the most widely used approach to star-galaxy classification is to make a hard cut in the space of photometric attributes. As a first-order morphological selection of point sources, we adopt a technique that is popular among the weak lensing community. "
   ]
  },
  {
   "cell_type": "code",
   "execution_count": 7,
   "metadata": {
    "collapsed": false
   },
   "outputs": [],
   "source": [
    "r_h_cv = train.FLUX_RADIUS.values\n",
    "mag_i_cv = train.MAG_i.values"
   ]
  },
  {
   "cell_type": "code",
   "execution_count": 8,
   "metadata": {
    "collapsed": false
   },
   "outputs": [
    {
     "data": {
      "image/png": "[encoded data removed]",
      "text/plain": [
       "<matplotlib.figure.Figure at 0x7f25820d2510>"
      ]
     },
     "metadata": {},
     "output_type": "display_data"
    }
   ],
   "source": [
    "color_true = False\n",
    "draw_box = False\n",
    "\n",
    "mag_i_lower = 17\n",
    "mag_i_upper = 21.0\n",
    "r_h_lower = 1.4\n",
    "r_h_upper = 2.8\n",
    "\n",
    "# select a subset to make the plot not too crowded\n",
    "rows = np.random.choice(xrange(len(r_h_cv)), size=5000)\n",
    "\n",
    "if color_true:\n",
    "    color_star = 'g'\n",
    "    color_gal = 'b'\n",
    "else:\n",
    "        color_star = color_gal = 'k'\n",
    "\n",
    "mask = truth_train.astype(bool)\n",
    "\n",
    "plt.scatter(r_h_cv[mask][::3], mag_i_cv[mask][::3], marker='.', s=5, color=color_star)\n",
    "plt.scatter(r_h_cv[~mask][::10], mag_i_cv[~mask][::10], marker='.', s=5, color=color_gal)\n",
    "\n",
    "plt.xlabel('half-light radius (pixels)')\n",
    "plt.ylabel(r'$i$ (mag)')\n",
    "plt.xlim(0, 6)\n",
    "plt.ylim(16, 25)\n",
    "plt.ylim(plt.ylim()[::-1])\n",
    "\n",
    "if draw_box:\n",
    "    plt.plot([r_h_upper, r_h_upper], [mag_i_lower, mag_i_upper], c = 'r')\n",
    "    plt.plot([r_h_lower, r_h_lower], [mag_i_lower, mag_i_upper], c = 'r')\n",
    "    plt.plot([r_h_lower, r_h_upper], [mag_i_upper, mag_i_upper], c = 'r')\n",
    "    plt.plot([r_h_upper, r_h_lower], [mag_i_lower, mag_i_lower], c = 'r')\n",
    "\n",
    "plt.show()"
   ]
  },
  {
   "cell_type": "markdown",
   "metadata": {},
   "source": [
    "[See code for Figure 1](paper/notebooks/figure01/morph.ipynb)\n",
    "\n",
    "Figure 1. Half-light radius vs. magnitude."
   ]
  },
  {
   "cell_type": "markdown",
   "metadata": {},
   "source": [
    "As figure 1 shows, there is a distinct locus produced by point sources in the half-light radius (estimated by [SExtractor](http://www.astromatic.net/software/sextractor)'s FLUX RADIUS parameter) vs. the $i$-band magnitude plane. A rectangular cut in this size-magnitude plane separates point sources, which are presumed to be stars, from resolved sources, which are presumed to be galaxies. The boundaries of the selection box are determined by manually inspecting the size-magnitude diagram.\n",
    "\n",
    "One of the disadvantages of such cut-based methods is that it classifies every source with absolute certainty. It is difficult to justify such a decisive classification near a survey's magnitude limits, where measurement uncertainties generally increase. A more informative approach is to provide probabilistic classifications. Although a recent work by [Henrion 2011](http://adsabs.harvard.edu/abs/2011MNRAS.412.2286H) implemented a probabilistic classification using a Bayesian approach on the morphological measurements alone, here we use a cut-based morphological separation to demonstrate the advantages of our combination techniques. In particular, we later show that the binary outputs (i.e., 0 or 1) of cut-based methods can be transformed into probability estimates by combining them with the probability outputs from other probabilistic classification techniques, such as TPC, SOMc, and HB.\n",
    "\n",
    "\n",
    "A morphological classifier is simple to implement:"
   ]
  },
  {
   "cell_type": "code",
   "execution_count": 9,
   "metadata": {
    "collapsed": false
   },
   "outputs": [],
   "source": [
    "def morph_class(magnitude, half_radius, cut=[0, 25, 1.0, 3.0]):\n",
    "    point_source = ((magnitude > cut[0]) & (magnitude < cut[1]) &\n",
    "                    (half_radius > cut[2]) & (half_radius < cut[3]))\n",
    "    return point_source.astype(np.int)"
   ]
  },
  {
   "cell_type": "code",
   "execution_count": 10,
   "metadata": {
    "collapsed": true
   },
   "outputs": [],
   "source": [
    "morph_cv = morph_class(mag_i_cv, r_h_cv, cut=[mag_i_lower, mag_i_upper, r_h_lower, r_h_upper])"
   ]
  },
  {
   "cell_type": "markdown",
   "metadata": {},
   "source": [
    "We use the same morphological classifier to separate stars from galaxies in the test set."
   ]
  },
  {
   "cell_type": "code",
   "execution_count": 11,
   "metadata": {
    "collapsed": false
   },
   "outputs": [],
   "source": [
    "r_h_test = test.FLUX_RADIUS.values\n",
    "mag_i_test = test.MAG_i.values\n",
    "\n",
    "morph_test = morph_class(mag_i_test, r_h_test, cut=[mag_i_lower, mag_i_upper, r_h_lower, r_h_upper])"
   ]
  },
  {
   "cell_type": "markdown",
   "metadata": {},
   "source": [
    "### III.2. Trees for Probabilistic Classification (TPC)\n",
    "\n",
    "[Carrasco Kind & Brunner (2013)](http://adsabs.harvard.edu/abs/2013MNRAS.432.1483C)\n",
    "\n",
    "<img src=\"bmc/images/example_tree.png\" width=\"500\">\n",
    "\n",
    "<center> Image: A visual representation of a random forest (source: [TPZ: Trees for Photo-Z](http://pythonhosted.org/MLZ/tpz.html)) </center>\n",
    "\n",
    "TPC is a parallel, supervised machine learning algorithm that uses prediction trees and random forest techniques ([Breiman 1984](https://scholar.google.com/citations?view_op=view_citation&hl=en&user=mXSv_1UAAAAJ&citation_for_view=mXSv_1UAAAAJ:u5HHmVD_uO8C)) to produce a star-galaxy classification. TPC is a part of a publicly available software package called [MLZ (Machine Learning for Photo-$z$)](http://lcdm.astro.illinois.edu/static/code/mlz/MLZ-1.2/doc/html/).\n",
    "The full software package includes: TPZ, a supervised photometric redshift (photo-$z$) estimation technique ([Carrasco Kind & Brunner 2013](http://adsabs.harvard.edu/abs/2013MNRAS.432.1483C)); TPC, a supervised star-galaxy classification technique (classification mode); SOM$z$, an unsupervised photo-$z$ technique ([Carrasco Kind & Brunner 2014](http://adsabs.harvard.edu/abs/2014MNRAS.438.3409C)) ; and SOMc, an unsupervised star-galaxy classification technique (classification mode).\n",
    "\n",
    "TPC uses classification trees, a type of prediction trees that are designed to provide a classification or predict a discrete category. Prediction trees are built by asking a sequence of questions that recursively split the data into branches until a terminal leaf is created that meets a stopping criterion (e.g., a minimum leaf size). The optimal split dimension is decided by choosing the attribute that maximizes the _Information Gain_ ($I_G$), which is defined as\n",
    "\n",
    "$$\n",
    "  I_G \\left(D_{\\mathrm{node}}, X\\right)\n",
    "  = I_d \\left( D_{\\mathrm{node}} \\right)\n",
    "  - \\sum_{x \\in \\mathrm{values}(X)}\n",
    "  \\frac{|D_{\\mathrm{node}, x}|}{|D_{\\mathrm{node}}|}\n",
    "  I_d \\left( D_{\\mathrm{node}, x} \\right),\n",
    "$$\n",
    "\n",
    "where $D_{\\mathrm{node}}$ is the training data in a given node, $X$ is one of the possible dimensions (e.g., magnitudes or colors) along which the node is split, and $x$ are the possible values of a specific dimension $X$. $|D_{\\mathrm{node}}|$ and $|D_{\\mathrm{node}, x}|$ are the size of the total training data and the number of objects in a given subset $x$ within the current node, respectively. $I_d$ is the impurity degree index, and TPC can calculate $I_d$ from any of the three standard different impurity indices: _information entropy_, _Gini impurity_, and _classification error_. In this work, we use the information entropy, which is defined similarly to the thermodynamic entropy:\n",
    "\n",
    "$$  I_d \\left( D \\right)\n",
    "  = - f_g \\log_{2} f_g - \\left(1 - f_g\\right) \\log_{2} \\left(1 - f_g\\right),\n",
    "$$\n",
    "\n",
    "where $f_g$ is the fraction of galaxies in the training data. At each node in our tree, we scan all dimensions to identify the split point that maximizes the information gain, and select the attribute that maximizes the impurity index overall.\n",
    "\n",
    "In a technique called random forest, we create bootstrap samples (i.e., $N$ randomly selected objects with replacement) from the input training data by sampling repeatedly from the magnitudes and colors using their measurement errors. We use these bootstrap samples to construct multiple, uncorrelated prediction trees whose individual predictions are aggregated to produce a star-galaxy classification for each source.\n",
    "\n",
    "We also use a cross-validation technique called Out-of-Bag (OOB; [Breiman 1984](https://scholar.google.com/citations?view_op=view_citation&hl=en&user=mXSv_1UAAAAJ&citation_for_view=mXSv_1UAAAAJ:u5HHmVD_uO8C), [Carrasco Kind & Brunner (2013)](http://adsabs.harvard.edu/abs/2013MNRAS.432.1483C)). When a tree (or a map) is built in TPC (or SOMc), a fraction of the training data, usually one-third, is left out and not used in training the trees (or maps). After a tree is constructed using two-thirds of the training data, the final tree is applied to the remaining one-third to make a classification. This process is repeated for every tree, and the predictions from each tree are aggregated for each object to make the final star-galaxy classification. We emphasize that if an object is used for training a given tree, it is never used for subsequent prediction by that tree. Thus, the OOB data is an unbiased estimation of the errors and can be used as cross-validation data as long as the OOB data remain similar to the final test data set. The OOB technique can also provide extra information such as a ranking of the relative importance of the input attributes used in the prediction. The OOB technique can prove extremely valuable when calibrating the algorithm, when deciding which attributes to incorporate in the construction of the trees, and when combining this approach with other techniques.\n",
    "\n",
    "We used XSEDE computing resources to run TPC on [TACC Stampede](https://www.tacc.utexas.edu/) with the following parameters (unimportant parameters are omiitted):\n",
    "\n",
    "- Att              : u, g, r, i, z, u-g, g-r, r-i, i-z\n",
    "- PredictionMode   : TPZ_C\n",
    "- PredictionClass  : Class\n",
    "- MinZ             : 0\n",
    "- MaxZ             : 1\n",
    "- NzBins           : 2\n",
    "- NRandom          : 5\n",
    "- NTrees           : 100\n",
    "- Natt             : 3\n",
    "- OobError         : yes\n",
    "- MinLeaf          : 5\n",
    "- ImpurityIndex    : entropy\n",
    "\n",
    "Here, we simply load the results, Out-of-Bag (OOB) and test prediction files."
   ]
  },
  {
   "cell_type": "code",
   "execution_count": 12,
   "metadata": {
    "collapsed": false
   },
   "outputs": [],
   "source": [
    "tpc_cv = np.loadtxt('paper/data/clens_tpc_oob.mlz', unpack=True, usecols=(2,))\n",
    "tpc_test = np.loadtxt('paper/data/clens_tpc_test.mlz', unpack=True, usecols=(2,))"
   ]
  },
  {
   "cell_type": "markdown",
   "metadata": {},
   "source": [
    "### III.3. Self-Organizing Maps Classification (SOMc)\n",
    "\n",
    "[Carrasco-Kind & Brunner (2014)](http://adsabs.harvard.edu/abs/2014MNRAS.438.3409C)\n",
    "\n",
    "<img src=\"bmc/images/scheme2.png\" width=\"500\">\n",
    "\n",
    "<center> Image: A schematic representation of a SOM (source: [SOMz: Self Organizing Maps and random atlas](http://pythonhosted.org/MLZ/somz.html)) </center>\n",
    "\n",
    "A [self-organizing map](https://en.wikipedia.org/wiki/Self-organizing_map) ([Kohonen 1998](http://www.sciencedirect.com/science/article/pii/S0925231298000307)) is an unsupervised, artificial neural network algorithm that is capable of projecting high-dimensional input data onto a low-dimensional map through a process of competitive learning. In astronomical applications, the high-dimensional input data can be magnitudes, colors, or some other photometric attributes. The output map is usually chosen to be two-dimensional so that the resulting map can be used for visualizing various properties of the input data. The differences between a SOM and typical neural network algorithms are that a SOM is unsupervised, there are no hidden layers and therefore no extra parameters, and it produces a direct mapping between the training set and the output network. In fact, a SOM can be viewed as a non-linear generalization of a principal component analysis (PCA) algorithm ([Yin 2008](http://link.springer.com/chapter/10.1007%2F978-3-540-78293-3_17)).\n",
    "\n",
    "The key characteristic of SOM is that\n",
    "it retains the topology of the input training set,\n",
    "revealing correlations between input data that are not obvious.\n",
    "The method is unsupervised:\n",
    "the user is not required to specify the desired output\n",
    "during the creation of the lower-dimensional map,\n",
    "and the mapping of the components from the input vectors\n",
    "is a natural outcome of the competitive learning process.\n",
    "\n",
    "During the construction of a SOM,\n",
    "each node on the two-dimensional map is represented by\n",
    "weight vectors of the same dimension\n",
    "as the number of attributes used to create the map itself.\n",
    "In an iterative process,\n",
    "each object in the input sample is individually used\n",
    "to correct these weight vectors.\n",
    "This correction is determined so that the specific neuron (or node),\n",
    "which at a given moment best represents the input source,\n",
    "is modified along with the weight vectors\n",
    "of that node's neighboring neurons.\n",
    "As a result, this sector within the map\n",
    "becomes a better representation of the current input object.\n",
    "This process is repeated for every object in the training data,\n",
    "and the entire process is repeated for several iterations.\n",
    "Eventually, the SOM converges to its final form where\n",
    "the training data is separated into groups of similar features.\n",
    "Although the spectroscopic labels are not used at all\n",
    "in the learning process, they are used\n",
    "(only after the map has been constructed)\n",
    "to generate predictions for each cell in the resulting two-dimensional map.\n",
    "\n",
    "In a similar approach to random forest in TPZ and TPC,\n",
    "SOM$z$ uses a technique called \\textit{random atlas}\n",
    "to provide photo-$z$ estimation \\citep{carrascokind2014somz}.\n",
    "In random atlas, the prediction trees of random forest are replaced by maps,\n",
    "and each map is constructed from different bootstrap samples\n",
    "of the training data.\n",
    "Furthermore, we create random realizations of the training data\n",
    "by perturbing the magnitudes and colors by their measurement errors.\n",
    "For each map, we can either use all available attributes,\n",
    "or randomly select a subsample of the attribute space.\n",
    "This SOM implementation can also be\n",
    "applied to the classification problem,\n",
    "and we refer to it as SOMc\n",
    "in order to differentiate it from \n",
    "the photo-$z$ estimation problem (regression mode).\n",
    "We also use the random atlas approach\n",
    "in some of the classification combination approaches as discussed in\n",
    "Section IV.\n",
    "\n",
    "One of the most important parameter in SOMc\n",
    "is the topology of the two-dimensional SOM,\n",
    "which can be rectangular, hexagonal, or spherical.\n",
    "In our SOM implementation, it is also possible\n",
    "to use periodic boundary conditions for the non-spherical cases.\n",
    "The spherical topology is by definition periodic and\n",
    "is constructed by using [HEALPIX](http://healpix.jpl.nasa.gov/).\n",
    "Similar to TPC,\n",
    "we use the OOB technique to make an unbiased estimation of errors.\n",
    "We determine the optimal parameters by performing\n",
    "a grid search in the parameter space of different toplogies,\n",
    "as well as other SOM parameters, for the OOB data.\n",
    "We find that the spherical topology gives the best performance\n",
    "for the CFHTLenS data, likely due to its natural periodicity.\n",
    "Thus, we use a spherical topology to classify stars and galaxies\n",
    "in the CFHTLenS data.\n",
    "For a complete description of the SOM implementation\n",
    "and its application to the estimation of\n",
    "photo-$z$ probability density functions (photo-$z$ PDFs),\n",
    "we refer the reader to [Carrasco Kind & Brunner (2014)](http://adsabs.harvard.edu/abs/2014MNRAS.438.3409C).\n",
    "\n",
    "We used XSEDE computing resources to run SOMc on TACC Stampede with the following parameters (unimportant parameters are omiitted):\n",
    "\n",
    "- Att              : u, g, r, i, z, u-g, g-r, r-i, i-z\n",
    "- PredictionMode   : SOM\n",
    "- PredictionClass  : Class\n",
    "- MinZ             : 0\n",
    "- MaxZ             : 1\n",
    "- NzBins           : 2\n",
    "- NRandom          : 10\n",
    "- NTrees           : 100\n",
    "- Natt             : 6\n",
    "- OobError         : yes\n",
    "- Topology         : sphere\n",
    "- Periodic         : yes\n",
    "- Ntop             : 8\n",
    "- Iterations       : 200\n",
    "- SomType          : online\n",
    "- AlphaStart       : 0.9\n",
    "- AlphaEnd         : 0.5\n",
    "\n",
    "Here, we load the resulting Out-of-Bag (OOB) and test prediction files."
   ]
  },
  {
   "cell_type": "code",
   "execution_count": 13,
   "metadata": {
    "collapsed": false
   },
   "outputs": [],
   "source": [
    "som_cv = np.loadtxt('paper/data/clens_som_oob.mlz', unpack=True, usecols=(2,))\n",
    "som_test = np.loadtxt('paper/data/clens_som_test.mlz', unpack=True, usecols=(2,))"
   ]
  },
  {
   "cell_type": "markdown",
   "metadata": {
    "collapsed": true
   },
   "source": [
    "### III.4. Template Fitting: Heirarchical Bayesian\n",
    "\n",
    "[Fadely, Hoog, & Willman (2015)](http://adsabs.harvard.edu/abs/2012ApJ...760...15F)\n",
    "\n",
    "![](bmc/images/sdss_cfhtls_ugriz.gif)\n",
    "\n",
    "<center> Image: The CFHTLS and SDSS filter sets (source: [CFHTLS](http://www1.cadc-ccda.hia-iha.nrc-cnrc.gc.ca/community/CFHTLS-SG/docs/extra/filters.html)) </center>\n",
    "\n",
    "One of the most common methods to classify a source based on its observed magnitudes is template fitting. Template fitting algorithms do not require a spectroscopic training sample; there is no need for additional knowledge outside the observed data and the template SEDs. However, any incompleteness in our knowledge of the template SEDs that fully span the possible SEDs of observed sources may lead to misclassification of sources.\n",
    "\n",
    "Bayesian algorithms use Bayesian inference to quantify the relative probability that each template matches the input photometry and determine a probability estimate by computing the posterior that a source is a star or a galaxy. In this work, we have modified and parallelized a publicly available Hierarchical Bayesian (HB) template fitting algorithm by [Fadely, Hogg, & Willman (2012)](http://adsabs.harvard.edu/abs/2012ApJ...760...15F). In this section, we provide a brief description of the HB template fitting technique; for the details of the underlying HB approach, we refer the reader to [Fadely et al. (2012)](http://adsabs.harvard.edu/abs/2012ApJ...760...15F).\n",
    "\n",
    "We write the posterior probability that a source is a star as\n",
    "\n",
    "$$ P \\left( S | \\mathbf{x}, \\mathbf{\\theta} \\right) = P \\left( \\mathbf{x} | S, \\mathbf{\\theta} \\right) P \\left( S | \\mathbf{\\theta} \\right), $$\n",
    "\n",
    "where $\\mathbf{x}$ represents a given set of observed magnitudes. We have also introduced the _hyperparameter_ $\\mathbf{\\theta}$, a nuisance parameter that characterizes our uncertainty in the prior distribution. To compute the likelihood that a source is a star, we marginalize over all star and galaxy templates $\\mathbf{T}$. In a template-fitting approach, we marginalize by summing up the likelihood that a source has the set of magnitudes $\\mathbf{x}$ for a given star template as well as the likelihood for a given galaxy template:\n",
    "\n",
    "$$ P \\left(\\mathbf{x} | S, \\mathbf{\\theta} \\right) = \\sum_{t \\in \\mathbf{T}} P \\left(\\mathbf{x} | S, t, \\mathbf{\\theta} \\right) P \\left(t | S, \\mathbf{\\theta} \\right).$$\n",
    "\n",
    "The likelihood of each template $ P \\left( \\mathbf{x} | S, \\mathbf{\\theta} \\right) $ is itself marginalized over the uncertainty in the template-fitting coefficient. Furthermore, for galaxy templates, we introduce another step that \n",
    "marginalizes the likelihood by redshifting a given galaxy template by a factor of $1 + z$.\n",
    "\n",
    "Marginalization requires that we specify the prior probability $ P \\left(t | S, \\mathbf{\\theta} \\right) $ that a source has a spectral template $t$ (at a given redshift). Thus, the probability that a source is a star (or a galaxy) is either the posterior probability itself if a prior is used, or the likelihood itself if an uninformative prior is used. In a Bayesian analysis, it is preferable to use a prior, which can be directly computed either from physical assumptions, or from an empirical function calibrated by using a spectroscopic training sample. In an HB approach, the entire sample of sources is used to infer the prior probabilities for each individual source.\n",
    "\n",
    "Since the templates are discrete in both SED shape and physical properties, we parametrize the prior probability of each template as a discrete set of weights such that\n",
    "\n",
    "$$ \\sum_{t \\in \\mathbf{T}} P \\left(t | S, \\mathbf{\\theta} \\right) = 1. $$\n",
    "\n",
    "Similarly, we also parametrize the overall prior probability, $\\left(S | \\mathbf{\\theta}\\right)$, as a weight. These weights correspond to the hyperparameters, which can be inferred by sampling the posterior probability distribution in the hyperparameter space. For the sampling, we use [emcee](http://dan.iel.fm/emcee/), a Python implementation of the\n",
    "affine-invariant Markov Chain Monte Carlo (MCMC) ensemble sampler ([Foreman-Mackey et al. 2013](http://arxiv.org/abs/1202.3665)).  \n",
    "\n",
    "As the goal of template fitting methods is to minimize the difference between observed and theoretical magnitudes, this approach heavily relies on both the use of SED templates and the accuracy of the transmission functions for the filters used for particular survey. For our stellar templates, we use the empirical SED library from [Pickles (1998)](http://adsabs.harvard.edu/abs/1998PASP..110..863P). The Pickles library consists of 131 stellar templates, which span all normal spectral types and luminosity classes at solar abundance, as well as metal-poor and metal-rich F-K dwarf and G-K giant and supergiant stars. We supplement the stellar library with 100 SEDs from [Chabrier et al. 2000](http://adsabs.harvard.edu/abs/2000ApJ...542..464C), which include low mass stars and brown dwarfs with different $T_{\\mathrm{eff}}$ and surface gravities. We also include four white dwarf templates of\n",
    "[Bohlin, Colina, & Finley (1995)](http://adsabs.harvard.edu/abs/1995AJ....110.1316B), for a total of 235 templates in our final stellar library. For our galaxy templates, we use four CWW spectra from [Coleman, Wu, & Weeman (1980)](http://adsabs.harvard.edu/abs/1980ApJS...43..393C), which include an Elliptical, an Sba, an Sbb, and an Irregular galaxy template. When extending an analysis to higher redshifts, the CWW library is often augmented with two star bursting galaxy templates from [Kinney et al. (1996)](http://adsabs.harvard.edu/abs/1996ApJ...467...38K). From the six original CWW and Kinney spectra, intermediate templates are created by interpolation, for a total of 51 SEDs in our final galaxy library.\n",
    "\n",
    "All of the above templates are convolved with the filter response curves to generate model magnitudes. These response curves consist of $u$, $g$, $r$, $i$, $z$ filter transmission functions for the observations taken by the Canada-France Hawaii Telescope (CFHT)."
   ]
  },
  {
   "cell_type": "code",
   "execution_count": 14,
   "metadata": {
    "collapsed": false
   },
   "outputs": [],
   "source": [
    "hbc_all = np.loadtxt('paper/data/clens_all.hbc', unpack=True, usecols=(0,))\n",
    "hbc_cv = hbc_all[:len(train)]\n",
    "hbc_test = hbc_all[len(train):]"
   ]
  },
  {
   "cell_type": "markdown",
   "metadata": {},
   "source": [
    "## IV. Classification combination methods\n",
    "\n",
    "Building on the work in the field of ensemble learning, we combine the predictions from individual star-galaxy classification techniques using four combination techniques. The main idea behind ensemble learning is to weight the predictions from individual models and combine them to obtain a prediction that outperforms every one of  them individually ([Rokach 2010](http://link.springer.com/article/10.1007%2Fs10462-009-9124-7)).\n",
    "\n",
    "### IV.1. Unsupervised Binning\n",
    "\n",
    "Given the variety of star-galaxy classification methods\n",
    "we are using,\n",
    "we fully expect the relative performance\n",
    "of the individual techniques to vary across\n",
    "the parameter space spanned by the data.\n",
    "For example, it is reasonable to expect \n",
    "supervised techniques to outperform other techniques\n",
    "in areas of parameter space that are well-populated\n",
    "with training data.\n",
    "Similarly, we can expect unsupervised approaches\n",
    "such as SOM or template fitting approaches \n",
    "to generally perform better when a training sample\n",
    "is either sparse or unavailable.\n",
    "\n",
    "We therefore adopt a binning strategy similar to [Carrasco Kind & Brunner (2014)](http://adsabs.harvard.edu/abs/2014MNRAS.442.3380C).\n",
    "In this binning strategy,\n",
    "we allow different classifier combinations \n",
    "in different parts of parameter space\n",
    "by creating two-dimensional SOM representations of\n",
    "the full nine-dimensional magnitude-color space:\n",
    "$u$, $g$, $r$, $i$, $z$, $u-g$, $g-r$, $r-i$, and $i-z$.\n",
    "A SOM representation can be rectangular, hexagonal, or spherical;\n",
    "here we choose a 10$\\times$10 rectangular topology to facilitate \n",
    "visualization as shown in Figure 2.\n",
    "We note that this choice is mainly for convenience\n",
    "and that the optimal topology and map size would likely depend on\n",
    "a number of factors, such as the number of objects and attributes.\n",
    "For all combination methods,\n",
    "we use only the OOB (cross-validation) data contained in each cell\n",
    "to compute the relative weights for the base classifiers.\n",
    "The weights within individual cells are then applied to\n",
    "the blind test data set to make the prediction.\n",
    "\n",
    "Furthermore, we construct a collection of SOM representations\n",
    "and subsequently combine the predictions from each map\n",
    "into a meta-prediction.\n",
    "Given a training sample of $N$ sources,\n",
    "we generate $N_R$ random realizations of training data\n",
    "by perturbing the attributes\n",
    "with the measured uncertainty for each attribute.\n",
    "The uncertainties are assumed to be normally distributed.\n",
    "In this manner,\n",
    "we reduce the bias towards the data\n",
    "and introduce randomness in a systematic manner.\n",
    "For each random realization of a training sample,\n",
    "we create $N_M$ bootstrap samples of size $N$\n",
    "to generate $N_M$ different maps.\n",
    "\n",
    "After all maps are built,\n",
    "we have a total of $N_R \\times N_M$ probabilistic outputs\n",
    "for each of the $N$ sources.\n",
    "To produce a single probability estimate for each source,\n",
    "we could take the mean, the median, or some other simple statistic.\n",
    "With a sufficient number of maps,\n",
    "we find that there is usually negligible difference\n",
    "between taking the mean and taking the median, and\n",
    "use the median in the following sections.\n",
    "We note that it is also possible to establish confidence intervals\n",
    "using the distribution of the probability estimates.\n",
    "\n",
    "### IV.2. Weighted Average\n",
    "\n",
    "The simplest approach to combine different combination techniques is\n",
    "to simply add the individual classifications from the base classifiers\n",
    "and renormalize the sum.\n",
    "In this case, the final probability is given by\n",
    "\n",
    "$$\n",
    "P\\left(S | \\mathbf{x}, \\mathbf{M} \\right)\n",
    "= \\sum_{i} P \\left( S | \\mathbf{x}, M_{i} \\right),\n",
    "$$\n",
    "\n",
    "where $\\mathbf{M}$ is the set of models\n",
    "(TPC, SOMc, HB, and morphological separation\n",
    "in our work).\n",
    "We improve on this simple approach\n",
    "by using the binning strategy to\n",
    "calculate the weighted average of objects in each SOM cell\n",
    "separately for each map,\n",
    "and then combine the predictions from each map into a final prediction.\n",
    "\n",
    "\n",
    "### IV.3. Bucket of Models (BoM)\n",
    "\n",
    "After the multi-dimensional input data have been binned,\n",
    "we can use the cross-validation data\n",
    "to choose the best model within each bin,\n",
    "and use only that model within that specific bin\n",
    "to make predictions for the test data.\n",
    "We use the mean squared error\n",
    "(MSE; also known as [Brier score](https://en.wikipedia.org/wiki/Brier_score)\n",
    "as a classification error metric. We define MSE as\n",
    "\n",
    "$$\n",
    "\\mathrm{MSE} = \\frac{1}{N} \\sum^{N - 1}_{i = 0}\n",
    "  \\left( y_i - \\hat{y}_i \\right)^2,\n",
    "$$\n",
    "\n",
    "where $\\hat{y}_i$ is the actual truth value\n",
    "(\\eg 0 or 1) of the $i^{\\text{th}}$ data, \n",
    "and $y_{i}$ is the probability prediction made by the models.\n",
    "Thus, a model with the minimum MSE is chosen in each bin,\n",
    "and is assigned a weight of one,\n",
    "and zero for all other models.\n",
    "However, the chosen model is allowed to vary between different bins.\n",
    "\n",
    "### IV.4. Stacking\n",
    "\n",
    "Instead of selecting a single model that performs best within each bin,\n",
    "we can train a learning algorithm to combine the output values of\n",
    "several other base classifiers in each bin.\n",
    "An ensemble learning method of using a meta-classifier\n",
    "to combine lower-level classifiers is known as _stacking_\n",
    "or _stacked generalization_ ([Wolpert 1992](http://citeseerx.ist.psu.edu/viewdoc/summary?doi=10.1.1.56.1533)).\n",
    "Although any arbitrary algorithm\n",
    "can theoretically be used as a meta-classifier,\n",
    "a logistic regression or a linear regression is often used\n",
    "in practice.\n",
    "In our work,\n",
    "we use a single-layer multi-response linear regression algorithm,\n",
    "which often shows the best performance ([Breiman 1996](http://link.springer.com/article/10.1007%2FBF00117832), [Ting 1999](http://arxiv.org/abs/1105.5466)). \n",
    "This algorithm\n",
    "is a variant of the least-square regression algorithm,\n",
    "where a linear regression model is constructed for each class.\n",
    "\n",
    "### IV.5. Bayesian Model Combination\n",
    "\n",
    "Hybrid BMC: [Kim, Brunner & Carrasco-Kind (2015)](http://adsabs.harvard.edu/abs/2015MNRAS.453..507K)\n",
    "\n",
    "BMC: [Monteith et al. (2011)](http://ieeexplore.ieee.org/xpls/abs_all.jsp?arnumber=6033566&tag=1)\n",
    "\n",
    "We also use a model combination technique known as Bayesian Model Combination (BMC; [Monteith et al. 2011](http://ieeexplore.ieee.org/xpls/abs_all.jsp?arnumber=6033566&tag=1)), which uses Bayesian principles to generate an ensemble combination of different classifiers. The posterior probability that a source is a star is given by\n",
    "\n",
    "$$ P \\left(S | \\mathbf{x}, \\mathbf{D}, \\mathbf{M}, \\mathbf{E} \\right) = \\sum_{e \\in \\mathbf{E}} P \\left(S | \\mathbf{x}, \\mathbf{M}, e \\right) P \\left(e | \\mathbf{D} \\right), $$\n",
    "\n",
    "where $\\mathbf{D}$ is the data set, and $e$ is an element in the ensemble space $\\mathbf{E}$ of possible model combinations. By Bayes' Theorem, the posterior probability of $e$ given $\\mathbf{D}$ is given by\n",
    "\n",
    "$$  P \\left(e | \\mathbf{D} \\right) = \\frac{P \\left(e \\right)}{P \\left(\\mathbf{D} \\right)} \\prod_{d \\in \\mathbf{D}} P \\left( d | e \\right) \\propto P \\left(e\\right) \\prod_{d \\in \\mathbf{D}} P \\left(d | e \\right). $$\n",
    "\n",
    "Here, $P\\left(e \\right)$ is the prior probability of $e$, which we assume to be uniform. The product of $P\\left(d | e\\right)$ is over all individual data $d$ in the training data $\\mathbf{D}$, and $P\\left(\\mathbf{D}\\right)$ is merely a normalization factor and not important.\n",
    "\n",
    "For binary classifiers whose output is either zero or one (e.g., a cut-based morphological separation), we assume that each example is corrupted with an average error rate $\\epsilon$. This means that $P\\left(d|e\\right) = 1-\\epsilon$ if the combination $e$ correctly predicts class $\\hat{y}_i$ for the $i^{\\text{th}}$ object, and $P\\left(d|e\\right) = \\epsilon$ if it predicts an incorrect class. The average rate $\\epsilon$ can be estimated by the fraction $\\left(M_g + M_s\\right) / N$,\n",
    "where $M_g$ is the number of true galaxies classified as stars, $M_s$ is the number of true stars classified as galaxies, and $N$ is the total number of sources. We then have\n",
    "\n",
    "$$  P \\left( e | \\mathbf{D} \\right) \\propto  P \\left( e \\right) \\left(1 - \\epsilon \\right)^{N - M_s - M_g} \\left( \\epsilon \\right)^{M_s + M_g}. $$\n",
    "\n",
    "For probabilistic classifiers, we can directly use the probabilistic predictions and write\n",
    "\n",
    "$$  P \\left( e | \\mathbf{D} \\right) \\propto P \\left( e \\right) \\prod_{i=0}^{N-1} \\hat{y}_i y_i + \\left(1 - \\hat{y}_i\\right) \\left(1 - y_i\\right). $$\n",
    "\n",
    "Although the space $\\mathbf{E}$ of potential model combinations is in principle infinite, we can produce a reasonable finite set of potential model combinations by using sampling techniques. In our implementation, the weights of each combination of the base classifiers is obtained by sampling from a Dirichlet distribution. We first set all alpha values of a Dirichlet distribution to unity. We then sample this distribution $q$ times to obtain $q$ sets of weights. For each combination, we assume a uniform prior and calculate $P\\left(e|\\mathbf{D}\\right)$ using the above equations. We select the combination with the highest $P\\left(e|\\mathbf{D}\\right)$, and update the alpha values by adding the weights of the most probable combination to the current alpha values. The next $q$ sets of weights are drawn using the updated alpha values.\n",
    "\n",
    "We continue the sampling process until we reach a predefined number of combinations, and finally compute the posterior probability that a source is a star (or a galaxy). In this paper, we use a $q$ value of three, and 1,000 model combinations are considered. We also use a binned version of the BMC technique, where we use a SOM representation to apply different model combinations for different regions of the parameter space."
   ]
  },
  {
   "cell_type": "code",
   "execution_count": 15,
   "metadata": {
    "collapsed": false
   },
   "outputs": [],
   "source": [
    "from bmc import bmc"
   ]
  },
  {
   "cell_type": "markdown",
   "metadata": {},
   "source": [
    "We need the magnitude, magnitude errors, and colors for BMC."
   ]
  },
  {
   "cell_type": "code",
   "execution_count": 16,
   "metadata": {
    "collapsed": false
   },
   "outputs": [],
   "source": [
    "mags = ['MAG_u', 'MAG_g', 'MAG_r', 'MAG_i', 'MAG_z']\n",
    "magerrs = ['MAGERR_u', 'MAGERR_g', 'MAGERR_r', 'MAGERR_i', 'MAGERR_z']\n",
    "colors = ['u-g', 'g-r', 'r-i', 'i-z']"
   ]
  },
  {
   "cell_type": "markdown",
   "metadata": {},
   "source": [
    "We calculate colors and impute bad/missing values (-99, 99) with the mean values of each field."
   ]
  },
  {
   "cell_type": "code",
   "execution_count": 17,
   "metadata": {
    "collapsed": false
   },
   "outputs": [],
   "source": [
    "def impute_mags(df, mags=None, magerrs=None):\n",
    "    bad_values = [-99, 99]\n",
    "    df[mags + magerrs] = df[mags + magerrs].replace(bad_values, [np.nan] * len(bad_values))\n",
    "    return df.fillna(df[mags + magerrs].mean())\n",
    "\n",
    "def perturb_mags(df, mags=None, magerrs=None):\n",
    "    for m, merr in zip(mags, magerrs):\n",
    "        # set replace merr = 0 with a very small value. necessary to avoid numpy scale == 0 error.\n",
    "        df[merr].where(df[merr] > 0, 1.0e-100, inplace=True)\n",
    "        df[m] = np.random.normal(df[m].values, df[merr].values)\n",
    "    return df\n",
    "\n",
    "def calc_colors(df, colors=None):\n",
    "    for c in colors:\n",
    "        df[c] = df['MAG_' + c[0]] - df['MAG_' + c[2]]\n",
    "    for c in colors:\n",
    "        df[c].where(df[c] < 4, np.nan, inplace = True)\n",
    "        df[c].where(df[c] > -1, np.nan, inplace = True)\n",
    "    df[colors] = df[colors].fillna(df[colors].mean())\n",
    "    return df\n",
    "\n",
    "train = impute_mags(train, mags=mags, magerrs=magerrs)\n",
    "train = calc_colors(train, colors=colors)\n",
    "\n",
    "test = impute_mags(test, mags=mags, magerrs=magerrs)\n",
    "test = calc_colors(test, colors=colors)"
   ]
  },
  {
   "cell_type": "markdown",
   "metadata": {},
   "source": [
    "The class object is unimaginatively named `BMC`."
   ]
  },
  {
   "cell_type": "code",
   "execution_count": 18,
   "metadata": {
    "collapsed": false
   },
   "outputs": [],
   "source": [
    "# warning: this could take a while...\n",
    "clf = bmc.BMC()"
   ]
  },
  {
   "cell_type": "markdown",
   "metadata": {},
   "source": [
    "We use only the cross-validation data to calculate the weights. The `fit()` function needs the truth labels for each cross-validation data points (the `truth_train` array). When the \"training\" is done, it prints out\n",
    "\n",
    "    Done creating SOM map."
   ]
  },
  {
   "cell_type": "code",
   "execution_count": 19,
   "metadata": {
    "collapsed": false
   },
   "outputs": [
    {
     "name": "stdout",
     "output_type": "stream",
     "text": [
      "Done creating SOM map.\n"
     ]
    }
   ],
   "source": [
    "# warning: this could take a while...\n",
    "base_cv = np.vstack((tpc_cv, som_cv, hbc_cv, morph_cv)).T\n",
    "clf.fit(train[mags + colors].values, base_cv, truth_train)"
   ]
  },
  {
   "cell_type": "markdown",
   "metadata": {},
   "source": [
    "Now we apply the weights to the predictions of each classifier. Note that the truth labels (the `truth_test` array) is not used in the `predict_proba()` function."
   ]
  },
  {
   "cell_type": "code",
   "execution_count": 20,
   "metadata": {
    "collapsed": false
   },
   "outputs": [],
   "source": [
    "base_test = np.vstack((tpc_test, som_test, hbc_test, morph_test)).T\n",
    "clf_test = clf.predict_proba(test[mags + colors].values, base_test)"
   ]
  },
  {
   "cell_type": "markdown",
   "metadata": {},
   "source": [
    "## V. Results and Discussion\n",
    "\n",
    "In this section, we present the classification performance of\n",
    "the four different combination techniques,\n",
    "as well as the individual star-galaxy classification techniques\n",
    "on the CFHTLenS test data.\n",
    "\n",
    "### V.1. Classification Metrics\n",
    "\n",
    "Probabilistic classification models can be considered as\n",
    "functions that output a probability estimate of each source\n",
    "to be in one of the classes (e.g., a star or a galaxy).\n",
    "Although the probability estimate can be used as a weight \n",
    "in subsequent analyses to improve or enhance\n",
    "a particular measurement ([Ross 2011](http://adsabs.harvard.edu/abs/2011MNRAS.417.1350R)),\n",
    "it can also be converted into a class label\n",
    "by using a threshold (a probability cut).\n",
    "The simplest way to choose the threshold is to set it to a fixed value,\n",
    "e.g., $p_\\mathrm{cut} = 0.5$.\n",
    "This is, in fact, what is often done (e.g.,\n",
    "[Henrion et al. 2011](http://adsabs.harvard.edu/abs/2011MNRAS.412.2286H); [Fadely, Hogg, & Willman 2012](http://adsabs.harvard.edu/abs/2012ApJ...760...15F)).\n",
    "However, choosing $0.5$ as a threshold is not the best choice\n",
    "for an unbalanced data set, where galaxies outnumber stars.\n",
    "Furthermore, setting a fixed threshold ignores the operating condition \n",
    "(e.g., science requirements, stellar distribution, misclassification costs)\n",
    "where the model will be applied.\n",
    "\n",
    "\n",
    "### V.1.1. Receiver Operating Characteristic Curve\n",
    "\n",
    "When we have no information about the operating condition\n",
    "when evaluating the performance of classifiers,\n",
    "there are effective tools such as\n",
    "the Receiver Operating Characteristic (ROC) curve ([Swets 2000](http://www.scientificamerican.com/article/better-decisions-through-science/)).\n",
    "An ROC curve is a graphical plot that illustrates the true positive rate\n",
    "versus the false positive rate of a binary classifier\n",
    "as its classification threshold is varied.\n",
    "The Area Under the Curve (AUC) summarizes the curve information\n",
    "in a single number,\n",
    "and can be used as an assessment of the overall performance.\n",
    "\n",
    "### V.1.2. Completeness and Purity\n",
    "\n",
    "In astronomical applications,\n",
    "the operating condition usually translates to\n",
    "the completeness and purity requirements of the star or galaxy sample.\n",
    "We define the galaxy _completeness_\n",
    "$c_g$ (also known as recall or sensitivity) as\n",
    "the fraction of the number of true galaxies classified as galaxies\n",
    "out of the total number of true galaxies,\n",
    "\n",
    "$$\n",
    "c_g = \\frac{N_g}{N_g + M_g},\n",
    "$$\n",
    "\n",
    "where $N_g$ is the number of true galaxies classified as galaxies,\n",
    "and $M_g$ is the number of true galaxies classified as stars.\n",
    "We define the galaxy _purity_ $p_g$ (also known as precision\n",
    "or positive predictive value)\n",
    "as the fraction of the number of true galaxies classified as galaxies\n",
    "out of the total number of objects classified as galaxies, \n",
    "\n",
    "$$\n",
    "p_g = \\frac{N_g}{N_g + M_s},\n",
    "$$\n",
    "\n",
    "where $M_s$ is the number of true stars classified as galaxies.\n",
    "Star completeness and purity are defined in a similar manner.\n",
    "\n",
    "\n",
    "One of the advantages of a probabilistic classification is\n",
    "that the threshold can be adjusted to produce\n",
    "a more complete but less pure sample,\n",
    "or a less complete but more pure one.\n",
    "To compare the performance of probabilistic classification techniques\n",
    "with that of morphological separation,\n",
    "which has a fixed completeness ($c_g = 0.9964$, $c_s = 0.7145$)\n",
    "at a certain purity ($p_g = 0.9597$, $p_s = 0.9666$),\n",
    "we adjust the threshold of probabilistic classifiers\n",
    "until the galaxy completeness $c_g$ matches\n",
    "that of morphological separation\n",
    "to compute the galaxy purity $p_{g}$ at $c_g=0.9964$.\n",
    "Similarly, the star purity $p_{s}$ at $c_{s}=0.7145$\n",
    "is computed by adjusting the threshold\n",
    "until the star completeness of each classifier is equal to\n",
    "that of morphological separation.\n",
    "\n",
    "\n",
    "We can also compare the performance of different classification techniques\n",
    "by assuming an arbitrary operating condition.\n",
    "For example, weak lensing science measurements\n",
    "of the DES require $c_g > 0.960$ and $p_g > 0.778$\n",
    "to control both the statistical and systematic errors\n",
    "on the cosmological parameters,\n",
    "and $c_s > 0.250$ and $p_s > 0.970$\n",
    "for stellar Point Spread Function (PSF) calibration\n",
    "([Soumagnac et al. 2013](http://adsabs.harvard.edu/abs/2015MNRAS.450..666S)).\n",
    "Although these values will likely be different\n",
    "for the science cases of the CFHTLenS data,\n",
    "we adopt these values to compare the classification performance\n",
    "at a reasonable operating condition.\n",
    "Thus, we compute $p_{g}$ at $c_g=0.960$\n",
    "and $p_{s}$ at $c_s=0.250$.\n",
    "We also use the MSE as a classification error metric."
   ]
  },
  {
   "cell_type": "markdown",
   "metadata": {},
   "source": [
    "### V.2. Classifier Combination\n",
    "\n",
    "We present in Table 2\n",
    "the classification performance obtained by\n",
    "applying the four different combination techniques,\n",
    "as well as the individual star-galaxy classification techniques,\n",
    "on the CFHTLenS test data.\n",
    "The bold entries highlight the best technique for any particular metric.\n",
    "The first four rows show the performance of four individual star-galaxy\n",
    "classification techniques.\n",
    "Given a high-quality training data, it is not surprising that \n",
    "our supervised machine learning technique TPC\n",
    "outperforms other unsupervised techniques.\n",
    "TPC is thus shown in the first row as the benchmark."
   ]
  },
  {
   "cell_type": "code",
   "execution_count": 21,
   "metadata": {
    "collapsed": false
   },
   "outputs": [
    {
     "data": {
      "text/html": [
       "\n",
       "<table style=\"width:100%\">\n",
       "  <tr>\n",
       "    <td>Classifier</td>\n",
       "    <td>AUC</td>\n",
       "    <td>MSE</td>\n",
       "    <td>$p_g (c_g=0.9964)$</td>\n",
       "    <td>$p_s (c_s=0.7145)$</td>\n",
       "    <td>$p_g (c_g=0.9600)$</td>\n",
       "    <td>$p_s (c_s=0.2500)$</td>\n",
       "  </tr>\n",
       "  <tr>\n",
       "    <td>TPC</td>\n",
       "    <td><b>0.9870</b></td>\n",
       "    <td>0.0208</td>\n",
       "    <td>0.9714</td>\n",
       "    <td>0.9838</td>\n",
       "    <td>0.9918</td>\n",
       "    <td>0.9977</td>\n",
       "  </tr>\n",
       "  <tr>\n",
       "    <td>SOMc</td>\n",
       "    <td>0.9683</td>\n",
       "    <td>0.0452</td>\n",
       "    <td>0.9125</td>\n",
       "    <td>0.8454</td>\n",
       "    <td>0.9788</td>\n",
       "    <td>0.9551</td>\n",
       "  </tr>\n",
       "  <tr>\n",
       "    <td>HB</td>\n",
       "    <td>0.9403</td>\n",
       "    <td>0.0705</td>\n",
       "    <td>0.9219</td>\n",
       "    <td>0.7017</td>\n",
       "    <td>0.9471</td>\n",
       "    <td>0.6963</td>\n",
       "  </tr>\n",
       "  <tr>\n",
       "    <td>Morphology</td>\n",
       "    <td>-</td>\n",
       "    <td>0.0397</td>\n",
       "    <td>0.9597</td>\n",
       "    <td>0.9666</td>\n",
       "    <td>-</td>\n",
       "    <td>-</td>\n",
       "  </tr>\n",
       "  <tr>\n",
       "    <td>WA</td>\n",
       "    <td>0.9806</td>\n",
       "    <td>0.0266</td>\n",
       "    <td>0.9755</td>\n",
       "    <td>0.9926</td>\n",
       "    <td>0.9872</td>\n",
       "    <td>0.9977</td>\n",
       "  </tr>\n",
       "  <tr>\n",
       "    <td>BoM</td>\n",
       "    <td>0.9870</td>\n",
       "    <td>0.0208</td>\n",
       "    <td>0.9714</td>\n",
       "    <td>0.9838</td>\n",
       "    <td>0.9918</td>\n",
       "    <td>0.9977</td>\n",
       "  </tr>\n",
       "  <tr>\n",
       "    <td>Stacking</td>\n",
       "    <td>0.9842</td>\n",
       "    <td>0.0194</td>\n",
       "    <td>0.9752</td>\n",
       "    <td>0.9902</td>\n",
       "    <td>0.9918</td>\n",
       "    <td><b>1.0000</b></td>\n",
       "  </tr>\n",
       "  <tr>\n",
       "    <td>BMC</td>\n",
       "    <td>0.9852</td>\n",
       "    <td><b>0.0174</b></td>\n",
       "    <td><b>0.9800</b></td>\n",
       "    <td><b>0.9959</b></td>\n",
       "    <td><b>0.9924</b></td>\n",
       "    <td><b>1.0000</b></td>\n",
       "  </tr>\n",
       "</table>"
      ],
      "text/plain": [
       "<IPython.core.display.HTML object>"
      ]
     },
     "execution_count": 21,
     "metadata": {},
     "output_type": "execute_result"
    }
   ],
   "source": [
    "from IPython.display import HTML\n",
    "\n",
    "HTML('''\n",
    "<table style=\"width:100%\">\n",
    "  <tr>\n",
    "    <td>Classifier</td>\n",
    "    <td>AUC</td>\n",
    "    <td>MSE</td>\n",
    "    <td>$p_g (c_g=0.9964)$</td>\n",
    "    <td>$p_s (c_s=0.7145)$</td>\n",
    "    <td>$p_g (c_g=0.9600)$</td>\n",
    "    <td>$p_s (c_s=0.2500)$</td>\n",
    "  </tr>\n",
    "  <tr>\n",
    "    <td>TPC</td>\n",
    "    <td><b>0.9870</b></td>\n",
    "    <td>0.0208</td>\n",
    "    <td>0.9714</td>\n",
    "    <td>0.9838</td>\n",
    "    <td>0.9918</td>\n",
    "    <td>0.9977</td>\n",
    "  </tr>\n",
    "  <tr>\n",
    "    <td>SOMc</td>\n",
    "    <td>0.9683</td>\n",
    "    <td>0.0452</td>\n",
    "    <td>0.9125</td>\n",
    "    <td>0.8454</td>\n",
    "    <td>0.9788</td>\n",
    "    <td>0.9551</td>\n",
    "  </tr>\n",
    "  <tr>\n",
    "    <td>HB</td>\n",
    "    <td>0.9403</td>\n",
    "    <td>0.0705</td>\n",
    "    <td>0.9219</td>\n",
    "    <td>0.7017</td>\n",
    "    <td>0.9471</td>\n",
    "    <td>0.6963</td>\n",
    "  </tr>\n",
    "  <tr>\n",
    "    <td>Morphology</td>\n",
    "    <td>-</td>\n",
    "    <td>0.0397</td>\n",
    "    <td>0.9597</td>\n",
    "    <td>0.9666</td>\n",
    "    <td>-</td>\n",
    "    <td>-</td>\n",
    "  </tr>\n",
    "  <tr>\n",
    "    <td>WA</td>\n",
    "    <td>0.9806</td>\n",
    "    <td>0.0266</td>\n",
    "    <td>0.9755</td>\n",
    "    <td>0.9926</td>\n",
    "    <td>0.9872</td>\n",
    "    <td>0.9977</td>\n",
    "  </tr>\n",
    "  <tr>\n",
    "    <td>BoM</td>\n",
    "    <td>0.9870</td>\n",
    "    <td>0.0208</td>\n",
    "    <td>0.9714</td>\n",
    "    <td>0.9838</td>\n",
    "    <td>0.9918</td>\n",
    "    <td>0.9977</td>\n",
    "  </tr>\n",
    "  <tr>\n",
    "    <td>Stacking</td>\n",
    "    <td>0.9842</td>\n",
    "    <td>0.0194</td>\n",
    "    <td>0.9752</td>\n",
    "    <td>0.9902</td>\n",
    "    <td>0.9918</td>\n",
    "    <td><b>1.0000</b></td>\n",
    "  </tr>\n",
    "  <tr>\n",
    "    <td>BMC</td>\n",
    "    <td>0.9852</td>\n",
    "    <td><b>0.0174</b></td>\n",
    "    <td><b>0.9800</b></td>\n",
    "    <td><b>0.9959</b></td>\n",
    "    <td><b>0.9924</b></td>\n",
    "    <td><b>1.0000</b></td>\n",
    "  </tr>\n",
    "</table>''')"
   ]
  },
  {
   "cell_type": "markdown",
   "metadata": {},
   "source": [
    "[See code](paper/notebooks/table02/metrics_all.ipynb)\n",
    "\n",
    "Table 2. A summary of the classification performance metrics for the four individual methods and the four different classification combination methods as applied to the CFHTLenS data, with no cut applied to the training data set. The definition of the metrics is summarized in Table 1. The bold entries highlight the best performance values within each column. Note that some objects in the test set have bad or missing values (e.g., $-99$ or $99$) in one or more attributes, which are included here (but are omitted, for example, in Figure 5 when the corrsponding attribute is not available.)"
   ]
  },
  {
   "cell_type": "markdown",
   "metadata": {},
   "source": [
    "The simplest of the combination techniques, WA and BoM,\n",
    "generally do not perform better than TPC.\n",
    "It is also interesting that,\n",
    "even with binning the parameter space and selecting the best model\n",
    "within each bin,\n",
    "BoM almost always chooses TPC as the best model in all bins,\n",
    "and therefore gives the same performance as TPC in the end.\n",
    "However, our BMC and stacking techniques have a similar performance\n",
    "and often outperform TPC.\n",
    "Although TPC shows the best performance as measured by the AUC,\n",
    "BMC shows the best performance in all other metrics."
   ]
  },
  {
   "cell_type": "markdown",
   "metadata": {},
   "source": [
    "To visualize the SOM projections, let's choose some colors from Seaborn's color pallete."
   ]
  },
  {
   "cell_type": "code",
   "execution_count": 22,
   "metadata": {
    "collapsed": false
   },
   "outputs": [
    {
     "data": {
      "image/png": "[encoded data removed]",
      "text/plain": [
       "<matplotlib.figure.Figure at 0x7f2578f6b910>"
      ]
     },
     "metadata": {},
     "output_type": "display_data"
    }
   ],
   "source": [
    "cmap1 = sns.choose_colorbrewer_palette('sequential', as_cmap=True)"
   ]
  },
  {
   "cell_type": "code",
   "execution_count": 23,
   "metadata": {
    "collapsed": false
   },
   "outputs": [
    {
     "data": {
      "image/png": "[encoded data removed]",
      "text/plain": [
       "<matplotlib.figure.Figure at 0x7f2577a4f090>"
      ]
     },
     "metadata": {},
     "output_type": "display_data"
    }
   ],
   "source": [
    "cmap2 = sns.choose_colorbrewer_palette('sequential', as_cmap=True)"
   ]
  },
  {
   "cell_type": "code",
   "execution_count": 24,
   "metadata": {
    "collapsed": false
   },
   "outputs": [
    {
     "data": {
      "image/png": "[encoded data removed]",
      "text/plain": [
       "<matplotlib.figure.Figure at 0x7f257799f2d0>"
      ]
     },
     "metadata": {},
     "output_type": "display_data"
    }
   ],
   "source": [
    "cmap3 = sns.choose_colorbrewer_palette('sequential', as_cmap=True)"
   ]
  },
  {
   "cell_type": "code",
   "execution_count": 25,
   "metadata": {
    "collapsed": false
   },
   "outputs": [
    {
     "data": {
      "image/png": "[encoded data removed]",
      "text/plain": [
       "<matplotlib.figure.Figure at 0x7f25778d6510>"
      ]
     },
     "metadata": {},
     "output_type": "display_data"
    }
   ],
   "source": [
    "cmap4 = sns.choose_colorbrewer_palette('sequential', as_cmap=True)"
   ]
  },
  {
   "cell_type": "code",
   "execution_count": 26,
   "metadata": {
    "collapsed": false
   },
   "outputs": [
    {
     "data": {
      "image/png": "[encoded data removed]",
      "text/plain": [
       "<matplotlib.figure.Figure at 0x7f2577a4ad10>"
      ]
     },
     "metadata": {},
     "output_type": "display_data"
    }
   ],
   "source": [
    "cmap5 = sns.choose_colorbrewer_palette('sequential', as_cmap=True)"
   ]
  },
  {
   "cell_type": "markdown",
   "metadata": {},
   "source": [
    "The hybrid `BMC` algorithm creates a SOM cell. These cells are stored in the `cells` directory."
   ]
  },
  {
   "cell_type": "code",
   "execution_count": 49,
   "metadata": {
    "collapsed": false
   },
   "outputs": [],
   "source": [
    "from matplotlib import gridspec\n",
    "\n",
    "n_grid = 10\n",
    "clens_som_cell = np.load('bmc/cells/cv_cells.0.npy')\n",
    "\n",
    "# calculate mean values for each cell\n",
    "\n",
    "def calc_cell_mean(x, som_cells, n_grid):\n",
    "    x_cells = np.zeros(n_grid**2)\n",
    "    for i in xrange(n_grid**2):\n",
    "        i_cell = np.where(som_cells == i)\n",
    "        x_cells[i] = x[i_cell].mean()\n",
    "    \n",
    "    return x_cells.reshape((n_grid, n_grid))\n",
    "\n",
    "mag_i_cells = calc_cell_mean(train['MAG_i'].values, clens_som_cell, 10)\n",
    "clr_u_g_cells = calc_cell_mean(train['u-g'].values, clens_som_cell, 10)\n",
    "clr_g_r_cells = calc_cell_mean(train['g-r'].values, clens_som_cell, 10)\n",
    "star_frac_cells = calc_cell_mean(truth_train, clens_som_cell, 10)"
   ]
  },
  {
   "cell_type": "markdown",
   "metadata": {},
   "source": [
    "In Figure 2, we show in the top left panel\n",
    "the mean CFHTLenS $i$-band magnitude in each cell,\n",
    "and in the top right panel the fraction of stars in each cell.\n",
    "The bottom two panels show the mean $u-g$ and  $g-r$ colors in each cell.\n",
    "These two-dimensional maps clearly show\n",
    "the ability of the SOM to preserve relationships between sources\n",
    "when it projects the full nine-dimensional space to the two-dimensional map.\n",
    "We note that these SOM maps should only be used to provide guidance,\n",
    "as the SOM mapping is a non-linear representation of all magnitudes and colors."
   ]
  },
  {
   "cell_type": "code",
   "execution_count": 50,
   "metadata": {
    "collapsed": false
   },
   "outputs": [
    {
     "data": {
      "image/png": "[encoded data removed]",
      "text/plain": [
       "<matplotlib.figure.Figure at 0x7f257792a590>"
      ]
     },
     "metadata": {},
     "output_type": "display_data"
    }
   ],
   "source": [
    "gs = gridspec.GridSpec(2, 3, height_ratios = (1, 1), width_ratios = (9, 9, 1))\n",
    "\n",
    "ax1 = plt.subplot(gs[0, 0])\n",
    "im1 = ax1.matshow(mag_i_cells, cmap=cmap1)\n",
    "ax1.set_xticks([])\n",
    "ax1.set_yticks([])\n",
    "cb1 = plt.colorbar(im1)\n",
    "cb1.set_ticks([16, 18, 20, 22, 24])\n",
    "cb1.set_label(r'$i$')\n",
    "\n",
    "ax2 = plt.subplot(gs[0, 1])\n",
    "im2 = ax2.matshow(star_frac_cells, cmap=cmap2)\n",
    "ax2.set_xticks([])\n",
    "ax2.set_yticks([])\n",
    "cb2 = plt.colorbar(im2)\n",
    "cb2.set_ticks([0, 0.2, 0.4, 0.6, 0.8, 1])\n",
    "cb2.set_label('stellar frac.')\n",
    "\n",
    "ax3 = plt.subplot(gs[1, 0])\n",
    "im3 = ax3.matshow(clr_u_g_cells, cmap=cmap3)\n",
    "ax3.set_xticks([])\n",
    "ax3.set_yticks([])\n",
    "cb3 = plt.colorbar(im3)\n",
    "cb3.set_ticks([0, 0.6, 1.2, 1.8, 2.4])\n",
    "cb3.set_label(r'$u-g$')\n",
    "\n",
    "ax4 = plt.subplot(gs[1, 1])\n",
    "im4 = ax4.matshow(clr_g_r_cells, cmap=cmap4)\n",
    "ax4.set_xticks([])\n",
    "ax4.set_yticks([])\n",
    "cb4 = plt.colorbar(im4)\n",
    "cb4.set_label(r'$g-r$')\n",
    "cb4.set_ticks([0.3, 0.6, 0.9, 1.2, 1.5])\n",
    "\n",
    "plt.savefig('bmc/images/som_colors.png')"
   ]
  },
  {
   "cell_type": "markdown",
   "metadata": {},
   "source": [
    "[See code for Figure 2](paper/notebooks/figure02/som_colors.ipynb)\n",
    "\n",
    "Figure 2: A two-dimensional 10$\\times$10 SOM representation showing the mean $i$-band magnitude (top left), the fraction of true stars in each cell (top right), and the mean values of $u-g$ (bottom left) and $g-r$ (bottom right) for the cross-validation data.\n"
   ]
  },
  {
   "cell_type": "markdown",
   "metadata": {},
   "source": [
    "We can also use the same SOM from Figure 2\n",
    "to determine the relative weights for \n",
    "the four individual classification methods in each cell.\n",
    "We present the four weight maps for the BMC technique in Figure 3."
   ]
  },
  {
   "cell_type": "code",
   "execution_count": 51,
   "metadata": {
    "collapsed": false
   },
   "outputs": [
    {
     "data": {
      "image/png": "[encoded data removed]",
      "text/plain": [
       "<matplotlib.figure.Figure at 0x7f2577450b10>"
      ]
     },
     "metadata": {},
     "output_type": "display_data"
    }
   ],
   "source": [
    "tpc_cells = np.zeros(n_grid**2)\n",
    "som_cells = np.zeros(n_grid**2)\n",
    "hbc_cells = np.zeros(n_grid**2)\n",
    "morph_cells = np.zeros(n_grid**2)\n",
    "\n",
    "for i in xrange(n_grid**2):\n",
    "    \n",
    "    weights = np.load('bmc/weights/bmc_weights.0.' + str(i) + '.npy')\n",
    "\n",
    "    w = np.sum(weights, axis = 0)\n",
    "    w = w / w.sum()\n",
    "\n",
    "    tpc_cells[i] = w[0]\n",
    "    som_cells[i] = w[1]\n",
    "    hbc_cells[i] = w[2]\n",
    "    morph_cells[i] = w[3]\n",
    "\n",
    "tpc_cells = tpc_cells.reshape((n_grid, n_grid))\n",
    "som_cells = som_cells.reshape((n_grid, n_grid))\n",
    "hbc_cells = hbc_cells.reshape((n_grid, n_grid))\n",
    "morph_cells = morph_cells.reshape((n_grid, n_grid))\n",
    "\n",
    "gs = gridspec.GridSpec(2, 3, height_ratios = (1, 1), width_ratios = (9, 9, 1))\n",
    "\n",
    "vmax = np.max([tpc_cells, som_cells, hbc_cells, morph_cells])\n",
    "rotation = 'vertical'\n",
    "\n",
    "ax1 = plt.subplot(gs[0, 0])\n",
    "im1 = ax1.matshow(tpc_cells, vmin=0, vmax=vmax, cmap=cmap5)\n",
    "ax1.set_title('TPC', rotation = rotation, x = -0.1, y = 0.5)\n",
    "ax1.set_xticks([])\n",
    "ax1.set_yticks([])\n",
    "\n",
    "ax2 = plt.subplot(gs[0, 1])\n",
    "ax2.matshow(som_cells, vmin=0, vmax=vmax, cmap=cmap5)\n",
    "ax2.set_title('SOM', rotation = rotation, x = -0.1, y = 0.5)\n",
    "ax2.set_xticks([])\n",
    "ax2.set_yticks([])\n",
    "\n",
    "ax3 = plt.subplot(gs[1, 0])\n",
    "ax3.matshow(hbc_cells, vmin=0, vmax=vmax, cmap=cmap5)\n",
    "ax3.set_title('HB', rotation = rotation, x = -0.1, y = 0.5)\n",
    "ax3.set_xticks([])\n",
    "ax3.set_yticks([])\n",
    "\n",
    "ax4 = plt.subplot(gs[1, 1])\n",
    "ax4.matshow(morph_cells, vmin=0, vmax=vmax, cmap=cmap5)\n",
    "ax4.set_title('Morphology', rotation = rotation, x = -0.1, y = 0.7)\n",
    "ax4.set_xticks([])\n",
    "ax4.set_yticks([])\n",
    "\n",
    "ax5 = plt.subplot(gs[0:, 2])\n",
    "cb1 = plt.colorbar(im1, cax=ax5)\n",
    "cb1.set_label(r'$w$')\n",
    "cb1.set_clim([0, vmax])\n",
    "\n",
    "plt.savefig('bmc/images/weights.png')"
   ]
  },
  {
   "cell_type": "markdown",
   "metadata": {},
   "source": [
    "Figure 3: A two-dimensional 10$\\times$10 SOM representation showing the relative weights for the BMC combination technique applied to the four individual methods for the CFHTLenS data."
   ]
  },
  {
   "cell_type": "markdown",
   "metadata": {},
   "source": [
    "In these maps, a darker color indicates a higher weight,\n",
    "or equivalently that the corresponding classifier\n",
    "performs better in that region.\n",
    "These weight maps demonstrate the variation in\n",
    "the performance of the individual techniques across\n",
    "the two-dimensional parameter space defined by the SOM.\n",
    "Furthermore, since the maps in Figure 2 and 3\n",
    "are constructed using the same SOM,\n",
    "we can determine the region in the parameter space\n",
    "where each individual technique performs better or worse.\n",
    "Not surprisingly, the morphological separation\n",
    "performs best in the top left corner of the weight map\n",
    "in Figure 3,\n",
    "which corresponds to the brightest CFHTLenS magnitudes $i \\leq 20$\n",
    "in the $i$-band magnitude map of Figure 2.\n",
    "It is also clear that the SOM cells where the morphological\n",
    "separation performs best have higher stellar fraction than\n",
    "the other cells. \n",
    "On the other hand, TPC seems to perform best\n",
    "in the region that corresponds to intermediate magnitudes\n",
    "$20\\leq i \\leq 22.5$ and $1.5 \\leq u-g \\leq 3.0$.\n",
    "Our unsupervised learning method SOMc\n",
    "performs relatively better at fainter magnitudes $i \\geq 21.5$\n",
    "with $0 \\leq u-g \\leq 0.5$ and $0 \\leq g-r \\leq 0.5$.\n",
    "Although HB shows the worst performance\n",
    "when there exists a high-quality training data set,\n",
    "BMC still utilizes information from HB,\n",
    "especially at intermediate magnitudes $20\\leq i \\leq 22$.\n",
    "Another interesting pattern is that\n",
    "the four techniques seem complementary,\n",
    "and they are weighted most strongly in different regions\n",
    "of the SOM representation."
   ]
  },
  {
   "cell_type": "code",
   "execution_count": 52,
   "metadata": {
    "collapsed": false
   },
   "outputs": [
    {
     "data": {
      "text/html": [
       "<table>\n",
       "<tr>\n",
       "<th><img src=\"data:image/png;base64,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\" height=\"500\"></th>\n",
       "<th><img src=\"data:image/png;base64,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\" height=\"500\"></th>\n",
       "</tr></table>"
      ],
      "text/plain": [
       "<IPython.core.display.HTML object>"
      ]
     },
     "metadata": {},
     "output_type": "display_data"
    }
   ],
   "source": [
    "import base64\n",
    "from IPython.display import HTML, Image, display\n",
    "\n",
    "with open(\"bmc/images/som_colors.png\", \"rb\") as image_file:\n",
    "    im1 = 'data:image/png;base64,' + base64.b64encode(image_file.read())\n",
    "\n",
    "with open(\"bmc/images/weights.png\", \"rb\") as image_file:\n",
    "    im2 = 'data:image/png;base64,' + base64.b64encode(image_file.read())\n",
    "\n",
    "s = \"\"\"<table>\n",
    "<tr>\n",
    "<th><img src=\"%s\" height=\"500\"></th>\n",
    "<th><img src=\"%s\" height=\"500\"></th>\n",
    "</tr></table>\"\"\"%(im1, im2)\n",
    "display(HTML(s))"
   ]
  },
  {
   "cell_type": "code",
   "execution_count": 53,
   "metadata": {
    "collapsed": false
   },
   "outputs": [
    {
     "data": {
      "text/plain": [
       "<matplotlib.legend.Legend at 0x7f258c94c190>"
      ]
     },
     "execution_count": 53,
     "metadata": {},
     "output_type": "execute_result"
    },
    {
     "data": {
      "image/png": "[encoded data removed]",
      "text/plain": [
       "<matplotlib.figure.Figure at 0x7f25778d6c50>"
      ]
     },
     "metadata": {},
     "output_type": "display_data"
    }
   ],
   "source": [
    "from sklearn.metrics import roc_curve, auc\n",
    "\n",
    "for name, values in zip(['BMC', 'TPC', 'Morphology'], [clf_test, tpc_test, morph_test]):\n",
    "    fpr, tpr, _ = roc_curve(truth_test, values)\n",
    "    auc_score = '{:.3f}'.format(auc(fpr, tpr))\n",
    "    plt.plot(fpr, tpr, label=name + ' {}'.format(auc_score))\n",
    "\n",
    "plt.xlim(0, 0.1)\n",
    "plt.ylim(0.6, 1)\n",
    "plt.legend(loc='lower right')"
   ]
  },
  {
   "cell_type": "markdown",
   "metadata": {},
   "source": [
    "In Figure 4, \n",
    "we compare the star and galaxy purity values\n",
    "for BMC, TPC, and morphological separation\n",
    "as functions of $i$-band magnitude.\n",
    "We use the kernel density estimation ([Silverman 1986](https://ned.ipac.caltech.edu/level5/March02/Silverman/paper.pdf))\n",
    "with the Gaussian kernel to smooth the fluctuations in the distribution.\n",
    "Although morphological separation shows a slightly better performance\n",
    "in galaxy purity at bright magnitudes $i \\leq 20$,\n",
    "BMC outperforms both TPC and morphological separation\n",
    "at faint magnitudes $i \\geq 21$.\n",
    "As the top panel shows,\n",
    "the number count distribution peaks at $i \\sim 22$,\n",
    "and BMC therefore outperforms both TPC and morphological separation\n",
    "for the majority of objects.\n",
    "It is also clear that BMC outperforms TPC over all magnitudes.\n",
    "BMC can presumably accomplish this by combining information from\n",
    "all base classifiers,\n",
    "e.g., giving more weight to the morphological separation method\n",
    "at bright magnitudes.\n",
    "The bottom panel shows that\n",
    "the star purity of morphological separation drops to $p_s < 0.8$\n",
    "at fainter magnitudes $i > 21$.\n",
    "This is expected, as our crude morphological separation classifies\n",
    "every object as a galaxy beyond $i > 21$, and\n",
    "purity measures the number of true stars classified as stars.\n",
    "It is again clear that BMC outperforms both TPC and morphological separation\n",
    "in star purity values over all magnitudes."
   ]
  },
  {
   "cell_type": "code",
   "execution_count": 54,
   "metadata": {
    "collapsed": false
   },
   "outputs": [],
   "source": [
    "# define a class for showing PDF images\n",
    "class PDF(object):\n",
    "    def __init__(self, pdf, size=(200,200)):\n",
    "        self.pdf = pdf\n",
    "        self.size = size\n",
    "\n",
    "    def _repr_html_(self):\n",
    "        return '<iframe src={0} width={1[0]} height={1[1]}></iframe>'.format(self.pdf, self.size)"
   ]
  },
  {
   "cell_type": "code",
   "execution_count": 55,
   "metadata": {
    "collapsed": false
   },
   "outputs": [
    {
     "data": {
      "text/html": [
       "<iframe src=paper/figures/purity_mag.pdf width=600 height=900></iframe>"
      ],
      "text/plain": [
       "<__main__.PDF at 0x7f2577b6d890>"
      ]
     },
     "execution_count": 55,
     "metadata": {},
     "output_type": "execute_result"
    }
   ],
   "source": [
    "PDF('paper/figures/purity_mag.pdf', size=(600, 900))"
   ]
  },
  {
   "cell_type": "markdown",
   "metadata": {},
   "source": [
    "[See code for Figure 4](paper/notebooks/figure04/purity_mag_kde.ipynb)\n",
    "\n",
    "Figure 4. Purity as a function of the $i$-band magnitude\n",
    "  as estimated by the kernel density estimation (KDE) method\n",
    "  for the differential counts.\n",
    "  The top panel shows the histogram with a bin size of 0.1 mag\n",
    "  and the KDE for objects in the test set.\n",
    "  The second panel shows the fraction of stars estimated by KDE\n",
    "  as a function of magnitude.\n",
    "  The bottom two panels compare\n",
    "  the galaxy and star purity values for BMC, TPC, and\n",
    "  morphological separation as functions of magnitude.\n",
    "  Results for BMC, TPC, and morphological separation are in\n",
    "  blue, green, and red, respectively.\n",
    "  The $1 \\sigma$ confidence bands are estaimted by\n",
    "  bootstrap sampling."
   ]
  },
  {
   "cell_type": "markdown",
   "metadata": {},
   "source": [
    "In Figure 5, we show the\n",
    "cumulative galaxy and star purity values as functions of magnitude.\n",
    "Although morphological separation performs better than TPC\n",
    "at bright magnitudes, its purity values decrease as \n",
    "the magnitudes become fainter, and\n",
    "TPC eventually outperforms morphological separation by 1-2% at\n",
    "$i > 21$.\n",
    "BMC clearly outperforms both TPC and morphological separation,\n",
    "and it maintains the overall galaxy purity of 0.980\n",
    "up to $i \\sim 24.5$."
   ]
  },
  {
   "cell_type": "code",
   "execution_count": 56,
   "metadata": {
    "collapsed": false
   },
   "outputs": [
    {
     "data": {
      "text/html": [
       "<iframe src=paper/figures/purity_mag_integrated.pdf width=600 height=650></iframe>"
      ],
      "text/plain": [
       "<__main__.PDF at 0x7f25778aef10>"
      ]
     },
     "execution_count": 56,
     "metadata": {},
     "output_type": "execute_result"
    }
   ],
   "source": [
    "PDF('paper/figures/purity_mag_integrated.pdf', size=(600, 650))"
   ]
  },
  {
   "cell_type": "markdown",
   "metadata": {},
   "source": [
    "[See code for Figure 5](paper/notebooks/figure05/purity_mag_integrated.ipynb)\n",
    "\n",
    "Figure 5. Purity as a function of the $i$-band magnitude\n",
    "  for the integrated counts.\n",
    "  The upper panel compares\n",
    "  the galaxy purity values for BMC (blue solid line),\n",
    "  TPC (green dashed line), and\n",
    "  morphological separation (red dashed line).\n",
    "  The lower panel compares the star purity.\n",
    "  The $1 \\sigma$ error bars are computed following the method\n",
    "  of [Paterno (2003)](http://home.fnal.gov/~paterno/images/effic.pdf)\n",
    "  to avoid the unphysical\n",
    "  errors of binomial or Poisson statistics."
   ]
  },
  {
   "cell_type": "markdown",
   "metadata": {},
   "source": [
    "We also show the star and galaxy purity values as functions of\n",
    "photometric redshift estimate in Figure 6.\n",
    "Photo-$z$ is estimated with\n",
    "the [BPZ algorithm](http://acs.pha.jhu.edu/~txitxo/bpz.html) ([Benitez 2000](http://adsabs.harvard.edu/abs/2000ApJ...536..571B))\n",
    "and provided with\n",
    "the [CFHTLenS](http://cfhtlens.org/) photometric redshift catalogue ([Hildebrandt et al. 2012](http://adsabs.harvard.edu/abs/2012MNRAS.427..146H)).\n",
    "The advantage of BMC over TPC and morphological separation is\n",
    "now more pronounced in Figure 5.\n",
    "Although the morphological separation method outperforms BMC\n",
    "at bright magnitudes in Figure 4,\n",
    "it is clear that BMC outperforms\n",
    "both TPC and morphological separation over all redshifts."
   ]
  },
  {
   "cell_type": "code",
   "execution_count": 57,
   "metadata": {
    "collapsed": false
   },
   "outputs": [
    {
     "data": {
      "text/html": [
       "<iframe src=paper/figures/purity_z.pdf width=600 height=900></iframe>"
      ],
      "text/plain": [
       "<__main__.PDF at 0x7f2577b6d250>"
      ]
     },
     "execution_count": 57,
     "metadata": {},
     "output_type": "execute_result"
    }
   ],
   "source": [
    "PDF('paper/figures/purity_z.pdf', size=(600, 900))"
   ]
  },
  {
   "cell_type": "markdown",
   "metadata": {},
   "source": [
    "[See code for Figure 6](paper/notebooks/figure06/purity_z.ipynb)\n",
    "\n",
    "Figure 6. Similar to [Figure 4](paper/notebooks/figure04/purity_mag_kde.ipynb)\n",
    "but as a function of photo-$z$. The bin size of histogram in the top panel is 0.02."
   ]
  },
  {
   "cell_type": "markdown",
   "metadata": {},
   "source": [
    "We also present in Figure 7\n",
    "how the star and galaxy purity values vary\n",
    "as a function of $g-r$ color.\n",
    "It is again clear that BMC outperforms\n",
    "both TPC and morphological separation over all $g-r$ colors."
   ]
  },
  {
   "cell_type": "code",
   "execution_count": 58,
   "metadata": {
    "collapsed": false
   },
   "outputs": [
    {
     "data": {
      "text/html": [
       "<iframe src=paper/figures/purity_g_r.pdf width=600 height=900></iframe>"
      ],
      "text/plain": [
       "<__main__.PDF at 0x7f25778ae890>"
      ]
     },
     "execution_count": 58,
     "metadata": {},
     "output_type": "execute_result"
    }
   ],
   "source": [
    "PDF('paper/figures/purity_g_r.pdf', size=(600, 900))"
   ]
  },
  {
   "cell_type": "markdown",
   "metadata": {},
   "source": [
    "[See code for Figure 7](paper/notebooks/figure07/purity_g-r.ipynb)\n",
    "\n",
    "Figure 7. Similar to [Figure 4](paper/notebooks/figure04/purity_mag_kde.ipynb)\n",
    "but as a function of $g-r$. The bin size of histogram in the top panel is 0.05."
   ]
  },
  {
   "cell_type": "markdown",
   "metadata": {},
   "source": [
    "In Figure 8,\n",
    "we show the distribution of $P(S)$,\n",
    "the posterior probability that an object is a star,\n",
    "for BMC, TPC, and morphological separation.\n",
    "It is interesting that the BMC technique assigns\n",
    "a posterior star probability $P(S) \\leq 0.3$\n",
    "to significantly more true galaxies than TPC,\n",
    "and a probability $P(S) \\geq 0.8$ to significantly fewer true galaxies.\n",
    "By utilizing information from different types of classification techniques\n",
    "in different parts of the parameter space,\n",
    "BMC becomes more certain that an object is a star or a galaxy,\n",
    "resulting in improvement of overall performance."
   ]
  },
  {
   "cell_type": "code",
   "execution_count": 59,
   "metadata": {
    "collapsed": false
   },
   "outputs": [
    {
     "data": {
      "text/html": [
       "<iframe src=paper/figures/p_dist.pdf width=600 height=600></iframe>"
      ],
      "text/plain": [
       "<__main__.PDF at 0x7f25778aed90>"
      ]
     },
     "execution_count": 59,
     "metadata": {},
     "output_type": "execute_result"
    }
   ],
   "source": [
    "PDF('paper/figures/p_dist.pdf', size=(600, 600))"
   ]
  },
  {
   "cell_type": "markdown",
   "metadata": {},
   "source": [
    "[See code for Figure 8](paper/notebooks/figure08/p_dist.ipynb)\n",
    "\n",
    "Figure 8. Histogram of the posterior probability that a source is a star\n",
    "for mophological separation (top), TPC (middle), and BMC (bottom)\n",
    "for a high-quality training data set.\n",
    "The true galaxies are in green, and the true stars are in blue.\n",
    "The bin size is 0.05."
   ]
  },
  {
   "cell_type": "markdown",
   "metadata": {},
   "source": [
    "### V.3. Heterogeneous Training\n",
    "\n",
    " \n",
    "It is very costly in terms of telescope time to\n",
    "obtain a large sample of spectroscopic observations\n",
    "down to the limiting magnitude of a photometric sample.\n",
    "Thus, we investigate the impact of training set quality\n",
    "by considering a more realistic case\n",
    "where the training data set is available\n",
    "only for a small number of objects with bright magnitudes.\n",
    "To emulate this scenario,\n",
    "we only use objects that have spectroscopic labels\n",
    "from the VVDS 0226-04 field (which is located within the CFHTLS W1 field)\n",
    "and impose a magnitude cut of $i < 22.0$ in the training data,\n",
    "leaving us a training set with only 1,365 objects.\n",
    "We apply the same four star-galaxy classification techniques\n",
    "and four combination methods,\n",
    "and measure the performance of each technique on the same test data set\n",
    "from Section V.2.\n",
    "As the top two panels of Figures 11, 13, and 14 show,\n",
    "the demographics of objects in the training set\n",
    "are different from the distribution of sources in the test set.\n",
    "Thus, this also serves as a test of the efficacy of heterogeneous training."
   ]
  },
  {
   "cell_type": "markdown",
   "metadata": {},
   "source": [
    "We present in Table 3\n",
    "the same six metrics for each method,\n",
    "and highlight the best method for each metric."
   ]
  },
  {
   "cell_type": "code",
   "execution_count": 60,
   "metadata": {
    "collapsed": false
   },
   "outputs": [
    {
     "data": {
      "text/html": [
       "\n",
       "<table style=\"width:100%\">\n",
       "  <tr>\n",
       "    <td>Classifier</td>\n",
       "    <td>AUC</td>\n",
       "    <td>MSE</td>\n",
       "    <td>$p_g (c_g=0.9964)$</td>\n",
       "    <td>$p_s (c_s=0.7145)$</td>\n",
       "    <td>$p_g (c_g=0.9600)$</td>\n",
       "    <td>$p_s (c_s=0.2500)$</td>\n",
       "  </tr>\n",
       "  <tr>\n",
       "    <td>TPC</td>\n",
       "    <td>0.9399</td>\n",
       "    <td>0.0511</td>\n",
       "    <td>0.9350</td>\n",
       "    <td>0.7060</td>\n",
       "    <td>0.9570</td>\n",
       "    <td>0.9747</td>\n",
       "  </tr>\n",
       "  <tr>\n",
       "    <td>SOMc</td>\n",
       "    <td>0.8861</td>\n",
       "    <td>0.0989</td>\n",
       "    <td>0.8843</td>\n",
       "    <td>0.4316</td>\n",
       "    <td>0.9165</td>\n",
       "    <td>0.6263</td>\n",
       "  </tr>\n",
       "  <tr>\n",
       "    <td>HB</td>\n",
       "    <td>0.9386</td>\n",
       "    <td>0.0760</td>\n",
       "    <td>0.9325</td>\n",
       "    <td>0.6911</td>\n",
       "    <td>0.9424</td>\n",
       "    <td>0.6918</td>\n",
       "  </tr>\n",
       "  <tr>\n",
       "    <td>Morphology</td>\n",
       "    <td>-</td>\n",
       "    <td>0.0397</td>\n",
       "    <td>0.9597</td>\n",
       "    <td>0.9666</td>\n",
       "    <td>-</td>\n",
       "    <td>-</td>\n",
       "  </tr>\n",
       "  <tr>\n",
       "    <td>WA</td>\n",
       "    <td>0.9600</td>\n",
       "    <td>0.0536</td>\n",
       "    <td>0.9208</td>\n",
       "    <td>0.8818</td>\n",
       "    <td>0.9757</td>\n",
       "    <td>0.9815</td>\n",
       "  </tr>\n",
       "  <tr>\n",
       "    <td>BoM</td>\n",
       "    <td>0.9587</td>\n",
       "    <td>0.1511</td>\n",
       "    <td>0.9658</td>\n",
       "    <td>0.9862</td>\n",
       "    <td>0.9790</td>\n",
       "    <td>0.9977</td>\n",
       "  </tr>\n",
       "  <tr>\n",
       "    <td>Stacking</td>\n",
       "    <td>0.9442</td>\n",
       "    <td>0.1847</td>\n",
       "    <td>0.9561</td>\n",
       "    <td>0.9309</td>\n",
       "    <td>0.9664</td>\n",
       "    <td>0.9983</td>\n",
       "  </tr>\n",
       "  <tr>\n",
       "    <td>BMC</td>\n",
       "    <td><b>0.9738</b></td>\n",
       "    <td><b>0.0291</b></td>\n",
       "    <td><b>0.9696</b></td>\n",
       "    <td><b>0.9862</b></td>\n",
       "    <td><b>0.9856</b></td>\n",
       "    <td><b>1.0000</b></td>\n",
       "  </tr>\n",
       "</table>"
      ],
      "text/plain": [
       "<IPython.core.display.HTML object>"
      ]
     },
     "execution_count": 60,
     "metadata": {},
     "output_type": "execute_result"
    }
   ],
   "source": [
    "HTML('''\n",
    "<table style=\"width:100%\">\n",
    "  <tr>\n",
    "    <td>Classifier</td>\n",
    "    <td>AUC</td>\n",
    "    <td>MSE</td>\n",
    "    <td>$p_g (c_g=0.9964)$</td>\n",
    "    <td>$p_s (c_s=0.7145)$</td>\n",
    "    <td>$p_g (c_g=0.9600)$</td>\n",
    "    <td>$p_s (c_s=0.2500)$</td>\n",
    "  </tr>\n",
    "  <tr>\n",
    "    <td>TPC</td>\n",
    "    <td>0.9399</td>\n",
    "    <td>0.0511</td>\n",
    "    <td>0.9350</td>\n",
    "    <td>0.7060</td>\n",
    "    <td>0.9570</td>\n",
    "    <td>0.9747</td>\n",
    "  </tr>\n",
    "  <tr>\n",
    "    <td>SOMc</td>\n",
    "    <td>0.8861</td>\n",
    "    <td>0.0989</td>\n",
    "    <td>0.8843</td>\n",
    "    <td>0.4316</td>\n",
    "    <td>0.9165</td>\n",
    "    <td>0.6263</td>\n",
    "  </tr>\n",
    "  <tr>\n",
    "    <td>HB</td>\n",
    "    <td>0.9386</td>\n",
    "    <td>0.0760</td>\n",
    "    <td>0.9325</td>\n",
    "    <td>0.6911</td>\n",
    "    <td>0.9424</td>\n",
    "    <td>0.6918</td>\n",
    "  </tr>\n",
    "  <tr>\n",
    "    <td>Morphology</td>\n",
    "    <td>-</td>\n",
    "    <td>0.0397</td>\n",
    "    <td>0.9597</td>\n",
    "    <td>0.9666</td>\n",
    "    <td>-</td>\n",
    "    <td>-</td>\n",
    "  </tr>\n",
    "  <tr>\n",
    "    <td>WA</td>\n",
    "    <td>0.9600</td>\n",
    "    <td>0.0536</td>\n",
    "    <td>0.9208</td>\n",
    "    <td>0.8818</td>\n",
    "    <td>0.9757</td>\n",
    "    <td>0.9815</td>\n",
    "  </tr>\n",
    "  <tr>\n",
    "    <td>BoM</td>\n",
    "    <td>0.9587</td>\n",
    "    <td>0.1511</td>\n",
    "    <td>0.9658</td>\n",
    "    <td>0.9862</td>\n",
    "    <td>0.9790</td>\n",
    "    <td>0.9977</td>\n",
    "  </tr>\n",
    "  <tr>\n",
    "    <td>Stacking</td>\n",
    "    <td>0.9442</td>\n",
    "    <td>0.1847</td>\n",
    "    <td>0.9561</td>\n",
    "    <td>0.9309</td>\n",
    "    <td>0.9664</td>\n",
    "    <td>0.9983</td>\n",
    "  </tr>\n",
    "  <tr>\n",
    "    <td>BMC</td>\n",
    "    <td><b>0.9738</b></td>\n",
    "    <td><b>0.0291</b></td>\n",
    "    <td><b>0.9696</b></td>\n",
    "    <td><b>0.9862</b></td>\n",
    "    <td><b>0.9856</b></td>\n",
    "    <td><b>1.0000</b></td>\n",
    "  </tr>\n",
    "</table>''')"
   ]
  },
  {
   "cell_type": "markdown",
   "metadata": {},
   "source": [
    "[See code for Table 3](paper/notebooks/table03/metrics_cut.ipynb)\n",
    "\n",
    "Table 3. A summary of the classification performance metrics\n",
    "  for the four individual methods\n",
    "  and the four different classification combination methods\n",
    "  when the training data set consists of\n",
    "  only the sources that are in CFHTLS W1 field,\n",
    "  has spectroscopic labels available from VVDS,\n",
    "  and has $i < 22$.\n",
    "  The definition of the metrics is summarized in\n",
    "  Table 1.\n",
    "  The bold entries highlight the best performance values\n",
    "  within each column.}"
   ]
  },
  {
   "cell_type": "markdown",
   "metadata": {},
   "source": [
    "Overall, the results obtained for the reduced data set are remarkable.\n",
    "With a smaller training set, our training based methods, TPC and SOMc,\n",
    "suffer a significant decrease in performance.\n",
    "The performance of morphological separation and HB\n",
    "is essentially unchanged from Table~\\ref{table:metrics_all}\n",
    "as they do not depend on the training data.\n",
    "Without sufficient training data,\n",
    "the advantage of combining the predictions of different classifiers\n",
    "is more obvious.\n",
    "Even WA, the simplest of combination techniques, outperforms\n",
    "all individual classification techniques in four metrics,\n",
    "AUC, $p_s$ at $c_s=0.7145$, $p_g$ at $c_g=0.9600$, and $p_s$ at $c_s=0.2500$.\n",
    "Although BoM always chooses TPC as the best model\n",
    "when we have a high-quality training set,\n",
    "it now chooses various methods in different bins\n",
    "and outperforms all base classifiers.\n",
    "While the performance of the stacking technique is only slightly worse\n",
    "than that of BMC when we have a high-quality training set,\n",
    "stacking now fails to outperform morphological separation.\n",
    "BMC shows an impressive performance and \n",
    "outperforms all other classification techniques in all six metrics.\n",
    "Overall, the improvements are small but still significant\n",
    "since these metrics are averaged over the full test data.\n",
    "\n",
    "In Figure 9 and 10, we again show the $10\\times10$\n",
    "two-dimensional weight maps defined by the SOM."
   ]
  },
  {
   "cell_type": "code",
   "execution_count": 61,
   "metadata": {
    "collapsed": false
   },
   "outputs": [
    {
     "data": {
      "text/html": [
       "<table>\n",
       "<tr>\n",
       "  <th>\n",
       "    <p>\n",
       "      <iframe src=\"paper/figures/som_colors_cut.pdf\" width=\"450\" height=\"350\"></iframe>\n",
       "      <br><center>Figure 9. Similar to Figure 2 but for the reduced training data set.</center></br>\n",
       "    </p>\n",
       "  </th>\n",
       "  <th>\n",
       "    <p>\n",
       "      <iframe src=\"paper/figures/weights_cut.pdf\" width=\"450\" height=\"350\"></iframe>\n",
       "      <br><center>Figure 10. Similar to Figure 3 but for the reduced training data set.</center></br>\n",
       "    </p>\n",
       "  </th>\n",
       "</tr></table>"
      ],
      "text/plain": [
       "<IPython.core.display.HTML object>"
      ]
     },
     "execution_count": 61,
     "metadata": {},
     "output_type": "execute_result"
    }
   ],
   "source": [
    "im1 = 'paper/figures/som_colors_cut.pdf'\n",
    "im2 = 'paper/figures/weights_cut.pdf'\n",
    "\n",
    "width = 450\n",
    "height = 350\n",
    "\n",
    "caption1 = 'Figure 9. Similar to Figure 2 but for the reduced training data set.'\n",
    "caption2 = 'Figure 10. Similar to Figure 3 but for the reduced training data set.'\n",
    "\n",
    "HTML(\"\"\"<table>\n",
    "<tr>\n",
    "  <th>\n",
    "    <p>\n",
    "      <iframe src=\"{0}\" width=\"{2}\" height=\"{3}\"></iframe>\n",
    "      <br><center>{4}</center></br>\n",
    "    </p>\n",
    "  </th>\n",
    "  <th>\n",
    "    <p>\n",
    "      <iframe src=\"{1}\" width=\"{2}\" height=\"{3}\"></iframe>\n",
    "      <br><center>{5}</center></br>\n",
    "    </p>\n",
    "  </th>\n",
    "</tr></table>\"\"\".format(im1, im2, width, height, caption1, caption2))"
   ]
  },
  {
   "cell_type": "markdown",
   "metadata": {},
   "source": [
    "[See code for Figure 9](paper/notebooks/figure10/som_colors_cut.ipynb)\n",
    "\n",
    "[See code for Figure 10](paper/notebooks/figure10/weights_cut.ipynb)"
   ]
  },
  {
   "cell_type": "markdown",
   "metadata": {},
   "source": [
    "When the quality of training data is relatively poor,\n",
    "the performance of training based algorithms will decrease,\n",
    "while the performance of template fitting algorithms\n",
    "or morphological separation methods\n",
    "is independent of training data.\n",
    "Thus, when the weight maps of Figure 3\n",
    "and Figure 10 are visually compared,\n",
    "it is clear that\n",
    "the BMC algorithm now uses more information from\n",
    "morphological separation and HB,\n",
    "while it uses considerably less information from \n",
    "our training based algorithms, TPC and SOMc.\n",
    "Not surprisingly, the morphological separation method\n",
    "performs best at bright magnitudes,\n",
    "and BMC assigns more weight to HB at fainter magnitudes."
   ]
  },
  {
   "cell_type": "code",
   "execution_count": 62,
   "metadata": {
    "collapsed": false
   },
   "outputs": [
    {
     "data": {
      "text/html": [
       "<table>\n",
       "<tr>\n",
       "  <th>\n",
       "    <p>\n",
       "      <iframe src=\"paper/figures/weights.pdf\" width=\"450\" height=\"300\"></iframe>\n",
       "      <br><center>High-quality training</center></br>\n",
       "    </p>\n",
       "  </th>\n",
       "  <th>\n",
       "    <p>\n",
       "      <iframe src=\"paper/figures/weights_cut.pdf\" width=\"450\" height=\"300\"></iframe>\n",
       "      <br><center>Poor training</center></br>\n",
       "    </p>\n",
       "  </th>\n",
       "</tr></table>"
      ],
      "text/plain": [
       "<IPython.core.display.HTML object>"
      ]
     },
     "execution_count": 62,
     "metadata": {},
     "output_type": "execute_result"
    }
   ],
   "source": [
    "im1 = 'paper/figures/weights.pdf'\n",
    "im2 = 'paper/figures/weights_cut.pdf'\n",
    "\n",
    "width = 450\n",
    "height = 300\n",
    "\n",
    "HTML(\"\"\"<table>\n",
    "<tr>\n",
    "  <th>\n",
    "    <p>\n",
    "      <iframe src=\"{0}\" width=\"{2}\" height=\"{3}\"></iframe>\n",
    "      <br><center>High-quality training</center></br>\n",
    "    </p>\n",
    "  </th>\n",
    "  <th>\n",
    "    <p>\n",
    "      <iframe src=\"{1}\" width=\"{2}\" height=\"{3}\"></iframe>\n",
    "      <br><center>Poor training</center></br>\n",
    "    </p>\n",
    "  </th>\n",
    "</tr></table>\"\"\".format(im1, im2, width, height))"
   ]
  },
  {
   "cell_type": "markdown",
   "metadata": {},
   "source": [
    "We present the star and galaxy purity values as functions of\n",
    "$i$-band magnitude in Figure 11."
   ]
  },
  {
   "cell_type": "code",
   "execution_count": 63,
   "metadata": {
    "collapsed": false
   },
   "outputs": [
    {
     "data": {
      "text/html": [
       "<iframe src=paper/figures/purity_mag_cut.pdf width=600 height=1000></iframe>"
      ],
      "text/plain": [
       "<__main__.PDF at 0x7f2577a62690>"
      ]
     },
     "execution_count": 63,
     "metadata": {},
     "output_type": "execute_result"
    }
   ],
   "source": [
    "PDF('paper/figures/purity_mag_cut.pdf', size=(600, 1000))"
   ]
  },
  {
   "cell_type": "markdown",
   "metadata": {},
   "source": [
    "[See code for Figure 11](paper/notebooks/figure11/purity_mag_cut.ipynb)\n",
    "\n",
    "Figure 11. Purity as a function of the $i$-band magnitude\n",
    "  for the reduced training data set.\n",
    "  Top panel shows the histograms and KDEs\n",
    "  for the number count distribution for\n",
    "  the training (blue) and test (green) data set.\n",
    "  The second panel shows the fraction of stars\n",
    "  in the training and test data set in blue and green, respectively.\n",
    "  The bottom two panels compare\n",
    "  the galaxy and star purity values for BMC, TPC,\n",
    "  and morphological separation as functions of $i$-band magnitude."
   ]
  },
  {
   "cell_type": "markdown",
   "metadata": {},
   "source": [
    "The normalized density distribution as a function of magnitude\n",
    "in the top panel\n",
    "and the stellar distribution in the second panel\n",
    "clearly show that the demographics of the training set and \n",
    "that of the test set are different.\n",
    "Since the training set is cut at $i < 22$,\n",
    "the density distribution falls off sharply around $i \\sim 22$\n",
    "and has a higher fraction of stars than the test set.\n",
    "Compared to the purity values in Figure 4,\n",
    "TPC now suffers a significant decrease in star and galaxy purity.\n",
    "However, the purity of BMC does not show such a significant drop\n",
    "and decreases by only 2-5%.\n",
    "As suggested by the weight maps in Figure 10,\n",
    "BMC can accomplish this by shifting the relative weights assigned to\n",
    "each base classifier in different SOM cells.\n",
    "As the quality of training set worsens,\n",
    "BMC assigns less weight to training based methods\n",
    "and more weight to HB and morphological separation.\n",
    "\n",
    "In Figure 12, we show the\n",
    "cumulative galaxy and star purity values as functions of magnitude."
   ]
  },
  {
   "cell_type": "code",
   "execution_count": 64,
   "metadata": {
    "collapsed": false
   },
   "outputs": [
    {
     "data": {
      "text/html": [
       "<iframe src=paper/figures/purity_mag_cut_integrated.pdf width=600 height=650></iframe>"
      ],
      "text/plain": [
       "<__main__.PDF at 0x7f2577b6db10>"
      ]
     },
     "execution_count": 64,
     "metadata": {},
     "output_type": "execute_result"
    }
   ],
   "source": [
    "PDF('paper/figures/purity_mag_cut_integrated.pdf', size=(600, 650))"
   ]
  },
  {
   "cell_type": "markdown",
   "metadata": {},
   "source": [
    "[See code for Figure 12](paper/notebooks/figure12/purity_mag_cut_integrated.ipynb)\n",
    "\n",
    "Figure 12. Similar to [Figure 5](paper/notebooks/figure05/purity_mag_integrated.ipynb)\n",
    "but for the reduced training set."
   ]
  },
  {
   "cell_type": "markdown",
   "metadata": {},
   "source": [
    "Compared to Figure 5,\n",
    "the drop in the performance of TPC is clear.\n",
    "However, even when some classifiers have been trained on\n",
    "a significantly reduced training set,\n",
    "BMC maintains a galaxy purity of 0.970 and a star purity of 1.0\n",
    "up to $i \\sim 24.5$, and it sill outperforms morphological separation\n",
    "at fainter magnitudes $i \\geq 21$."
   ]
  },
  {
   "cell_type": "markdown",
   "metadata": {},
   "source": [
    "We also show the star and galaxy purity values as functions of\n",
    "photo-$z$ in Figure 13\n",
    "and as functions of $g-r$ in Figure 14."
   ]
  },
  {
   "cell_type": "code",
   "execution_count": 65,
   "metadata": {
    "collapsed": false
   },
   "outputs": [
    {
     "data": {
      "text/html": [
       "<iframe src=paper/figures/purity_z_cut.pdf width=600 height=1000></iframe>"
      ],
      "text/plain": [
       "<__main__.PDF at 0x7f2577b6dbd0>"
      ]
     },
     "execution_count": 65,
     "metadata": {},
     "output_type": "execute_result"
    }
   ],
   "source": [
    "PDF('paper/figures/purity_z_cut.pdf', size=(600, 1000))"
   ]
  },
  {
   "cell_type": "markdown",
   "metadata": {},
   "source": [
    "[See code for Figure 13](paper/notebooks/figure13/purity_z_cut.ipynb)\n",
    "\n",
    "Figure 13. Similar to [Figure 11](paper/notebooks/figure11/purity_mag_cut.ipynb)\n",
    "but as a function of photo-$z$."
   ]
  },
  {
   "cell_type": "code",
   "execution_count": 66,
   "metadata": {
    "collapsed": false
   },
   "outputs": [
    {
     "data": {
      "text/html": [
       "<iframe src=paper/figures/purity_g_r_cut.pdf width=600 height=1000></iframe>"
      ],
      "text/plain": [
       "<__main__.PDF at 0x7f2577890950>"
      ]
     },
     "execution_count": 66,
     "metadata": {},
     "output_type": "execute_result"
    }
   ],
   "source": [
    "PDF('paper/figures/purity_g_r_cut.pdf', size=(600, 1000))"
   ]
  },
  {
   "cell_type": "markdown",
   "metadata": {},
   "source": [
    "[See code for Figure 14](paper/notebooks/figure14/purity_g_r_cut.ipynb)\n",
    "\n",
    "Figure 14. Similar to [Figure 11](paper/notebooks/figure11/purity_mag_cut.ipynb)\n",
    "but as a function of $g-r$ color."
   ]
  },
  {
   "cell_type": "markdown",
   "metadata": {},
   "source": [
    "Compared to Figure 6 and 7,\n",
    "the performance of BMC becomes worse in some photo-$z$ and $g-r$ bins.\n",
    "However, this drop in performance seems to be confined to\n",
    "only a small number of objects in particular regions of\n",
    "the parameter space,\n",
    "and BMC still outperforms both TPC and morphological separation\n",
    "for the majority of objects.\n",
    "\n",
    "Compared to Figure 8,\n",
    "the difference between the posterior star probability distribution of\n",
    "TPC and that of BMC is now more pronounced in Figure 15."
   ]
  },
  {
   "cell_type": "code",
   "execution_count": 67,
   "metadata": {
    "collapsed": false
   },
   "outputs": [
    {
     "data": {
      "text/html": [
       "<iframe src=paper/figures/p_dist_cut.pdf width=600 height=600></iframe>"
      ],
      "text/plain": [
       "<__main__.PDF at 0x7f2577bd9650>"
      ]
     },
     "execution_count": 67,
     "metadata": {},
     "output_type": "execute_result"
    }
   ],
   "source": [
    "PDF('paper/figures/p_dist_cut.pdf', size=(600, 600))"
   ]
  },
  {
   "cell_type": "markdown",
   "metadata": {},
   "source": [
    "[See code for Figure 15](paper/notebooks/figure15/p_dist_cut.ipynb)\n",
    "\n",
    "Figure 15. Similar to [Figure 8](paper/notebooks/figure08/p_dist.ipynb)\n",
    "but for the reduced training data set."
   ]
  },
  {
   "cell_type": "markdown",
   "metadata": {},
   "source": [
    "The $P\\left(S\\right)$ distribution of BMC for true galaxies\n",
    "falls off sharply at $P\\left(S\\right)\\approx0.95$,\n",
    "and BMC does not assign a star probability\n",
    "$P(S) \\geq 0.95$ to any true galaxies,\n",
    "On the other hand, both TPC and morphological separation \n",
    "classify some true galaxies as stars with absolute certainty.\n",
    "\n",
    "### V.4. The Quality of Training Data\n",
    "\n",
    "The combination techniques that we have demonstrated so far use\n",
    "two training based algorithms as base classifiers.\n",
    "Ideally, the training data should mirror the entire parameter space\n",
    "occupied by the data to be classified.\n",
    "Yet we have seen in Section V.3\n",
    "that the BMC technique does reliably\n",
    "extrapolate past the limits of the training data,\n",
    "even when some base classifiers are trained on a low-quality training data set.\n",
    "In this section, we further investigate\n",
    "if and where BMC begins to break down\n",
    "by imposing various magnitude, photo-$z$, and color cuts\n",
    "to change the size and composition of the training set.\n",
    "\n",
    "In Figure 16, we present\n",
    "a visual comparison between different classification techniques,\n",
    "when various magnitude cuts are applied on the training data,\n",
    "and the performance is measured on the same test set\n",
    "from Section V.2 and V.3."
   ]
  },
  {
   "cell_type": "code",
   "execution_count": 68,
   "metadata": {
    "collapsed": false
   },
   "outputs": [
    {
     "data": {
      "text/html": [
       "<iframe src=paper/figures/perform_mag_cut.pdf width=600 height=1000></iframe>"
      ],
      "text/plain": [
       "<__main__.PDF at 0x7f25778ae810>"
      ]
     },
     "execution_count": 68,
     "metadata": {},
     "output_type": "execute_result"
    }
   ],
   "source": [
    "PDF('paper/figures/perform_mag_cut.pdf', size=(600, 1000))"
   ]
  },
  {
   "cell_type": "markdown",
   "metadata": {},
   "source": [
    "[See code for Figure 16](paper/notebooks/figure16/perform_mag_cut.ipynb)\n",
    "\n",
    "Figure 16. The classification performance metrics for\n",
    "  BMC (blue), TPC (green), morphology (red), and HB (purple)\n",
    "  as applied to the CFHTLenS data in the VVDS field\n",
    "  with various magnitude cuts.\n",
    "  The top panel shows the number of sources in the training set\n",
    "  at corresponding magnitude cuts.\n",
    "  We show only one of the four combination methods, BMC,\n",
    "  which has the best overall performance."
   ]
  },
  {
   "cell_type": "markdown",
   "metadata": {},
   "source": [
    "It is not surprising that the performance of TPC decreases\n",
    "as we decrease the size of training set\n",
    "by imposing more restrictive magnitude cuts,\n",
    "while the performance of HB and morphological separation\n",
    "is essentially unchanged.\n",
    "However, the effect of change in size and composition of the training set\n",
    "is significantly mitigated by the use of the BMC technique.\n",
    "BMC outperforms both HB and TPC in all four metrics,\n",
    "even when the training set is restricted to $i < 20.0$.\n",
    "BMC also consistently outperforms morphological separation\n",
    "until we impose a magnitude cut of $i < 20.0$ on the training data,\n",
    "beyond which point BMC finally performs worse than morphological separation.\n",
    "It is remarkable that BMC is able to reliably extrapolate\n",
    "past the training data to $i \\sim 24.5$,\n",
    "the limiting magnitude of the test set, and outperform HB, TPC,\n",
    "and morphological separation in all performance metrics,\n",
    "even the demographics of training set do not accurately sample \n",
    "the data to be classified.\n",
    "\n",
    "Similarly, we impose various spectroscopic redshift cuts \n",
    "on the training data in Figure 17."
   ]
  },
  {
   "cell_type": "code",
   "execution_count": 69,
   "metadata": {
    "collapsed": false
   },
   "outputs": [
    {
     "data": {
      "text/html": [
       "<iframe src=paper/figures/perform_z_cut.pdf width=600 height=1000></iframe>"
      ],
      "text/plain": [
       "<__main__.PDF at 0x7f2577a62dd0>"
      ]
     },
     "execution_count": 69,
     "metadata": {},
     "output_type": "execute_result"
    }
   ],
   "source": [
    "PDF('paper/figures/perform_z_cut.pdf', size=(600, 1000))"
   ]
  },
  {
   "cell_type": "markdown",
   "metadata": {},
   "source": [
    "[See code for Figure 17](paper/notebooks/figure17/perform_z_cut.ipynb)\n",
    "\n",
    "Figure 17. Similar to [Figure 16](paper/notebooks/figure16/perform_mag_cut.ipynb) but using $z_{\\text{spec}}$ cuts."
   ]
  },
  {
   "cell_type": "markdown",
   "metadata": {},
   "source": [
    "Since all stars have $z_{\\mathrm{spec}}$ values\n",
    "close to zero, we are effectively changing the demographics\n",
    "of training set by keeping all stars and gradually removing\n",
    "galaxies with high redshifts.\n",
    "BMC begins to perform worse than morphological separation\n",
    "when a conservative cut of $z_{\\mathrm{spec}} < 0.6$ is imposed.\n",
    "However, it is again clear that BMC is able to\n",
    "utilize information from HB and morphological separation to\n",
    "mitigate the drop in the performance of TPC.\n",
    "\n",
    "In Figure 18,\n",
    "we decrease the size of training set\n",
    "by keeping red objects and gradually removing blue objects."
   ]
  },
  {
   "cell_type": "code",
   "execution_count": 70,
   "metadata": {
    "collapsed": false
   },
   "outputs": [
    {
     "data": {
      "text/html": [
       "<iframe src=paper/figures/perform_g_r_cut.pdf width=600 height=1000></iframe>"
      ],
      "text/plain": [
       "<__main__.PDF at 0x7f2577a620d0>"
      ]
     },
     "execution_count": 70,
     "metadata": {},
     "output_type": "execute_result"
    }
   ],
   "source": [
    "PDF('paper/figures/perform_g_r_cut.pdf', size=(600, 1000))"
   ]
  },
  {
   "cell_type": "markdown",
   "metadata": {},
   "source": [
    "[See code for Figure 18](paper/notebooks/figure18/perform_g_r.ipynb)\n",
    "\n",
    "Figure 18. Similar to [Figure 16](paper/notebooks/figure16/perform_mag_cut.ipynb) but using $g-r$ color cuts."
   ]
  },
  {
   "cell_type": "markdown",
   "metadata": {},
   "source": [
    "A color cut seems to have a more pronounced effect\n",
    "on the performance of TPC and BMC,\n",
    "which perform worse than morphological separation\n",
    "when the training set is restricted to $g - r > 0.4$.\n",
    "The performance depends more strongly on the color distribution, because \n",
    "a significant fraction of blue objects consists of stars,\n",
    "while objects with fainter magnitudes and higher redshifts\n",
    "are mostly galaxies.\n",
    "We can verify this in Figure 2,\n",
    "where the darker (higher stellar fraction) cells in the upper middle region\n",
    "of the stellar fraction map (top right panel)\n",
    "have bright magnitudes $i \\leq 20$\n",
    "in the $i$-band magnitude map (top left panel)\n",
    "and blue colors $g-r \\leq 0.5$ in the $g-r$ color map (bottom right panel).\n",
    "On the other hand, the darker (fainter magnitude) cells\n",
    "in the right-hand side of the $i$-band magnitude map\n",
    "have almost no stars in them and\n",
    "are represented by bright (low stellar fraction)\n",
    "cells in the stellar fraction map.\n",
    "Thus, these results indicate that the performance of training based\n",
    "methods depends more strongly on the composition of training data\n",
    "than on the size, and it is necessary to have\n",
    "a sufficient number of the minority class\n",
    "in the training data set to ensure optimal performance.\n",
    "\n",
    "## VI. Conclusions\n",
    "\n",
    "We have presented and analyzed a novel star-galaxy classification framework for combining star-galaxy classifiers using the CFHTLenS data. In particular, we use four independent classification techniques: a morphological separation method; TPC, a supervised machine learning technique based on prediction trees and a random forest; SOMc, an unsupervised machine learning approach based on self-organizing maps and a random atlas; and HB, a Hierarchical Bayesian template-fitting method that we have modified and parallelized. Both TPC and SOMc algorithms are currently available within a software package named [MLZ](http://lcdm.astro.illinois.edu/code/mlz.html). Our implementation of HB and BMC, as well as IPython notebooks that have been used to produce the results in this paper, are available at https://github.com/EdwardJKim/astroclass.  \n",
    "\n",
    "Given the variety of star-galaxy classification methods we are using, we fully expect the relative performance of the individual techniques to vary across the parameter space spanned by the data. We therefore adopt the binning strategy, where we allow different classifier combinations in different parts of parameter space by creating two-dimensional self-organizing maps of the full multi-dimensional magnitude-color space. We apply different star-galaxy classification techniques within each cell of this map, and find that the four techniques are weighted most strongly in different regions of the map.   \n",
    "\n",
    "Using data from the CFHTLenS survey, we have considered different scenarios: when an excellent training set is available with spectroscopic labels from DEEP2, SDSS, VIPERS, and VVDS, and when the demographics of sources in a low-quality training set do not match the demographics of objects in the test data set. We demonstrate that the Bayesian Model Combination (BMC) technique improves the overall performance over any individual classification method in both cases. We note that [Carrasco Kind (2014)](http://adsabs.harvard.edu/abs/2014MNRAS.442.3380C) analyzed different techniques for combining photometric redshift probability density functions (photo-$z$ PDFs) and also found that BMC is in general the best photo-$z$ PDF combination technique.   \n",
    "\n",
    "The problem of star-galaxy classification is a rich area for future research. It is unclear if sufficient training data will be available in future ground-based surveys. Furthermore, in large sky surveys such as DES and LSST, photometric quality is not uniform across the sky, and a purely morphological classifier alone will not be sufficient, especially at faint magnitudes. Given the efficacy of our approach, classifier combination strategies are likely the optimal approach for currently ongoing and forthcoming photometric surveys. We therefore plan to apply the combination technique described in this paper to other surveys such as the DES. Our approach can also be extended more broadly to classify objects that are neither stars nor galaxies (e.g., quasars). Finally, future studies could explore the use of multi-epoch data, which would be particularly useful for the next generation of synoptic surveys.\n",
    "\n",
    "## Acknowledgements\n",
    "\n",
    "The authors thank the referee for a careful reading of the manuscript and comments that improved this work. We thank Ignacio Sevilla for helpful and insightful conversations. We acknowledge support from the  National Science Foundation Grant No. AST-1313415. RJB acknowledges support as an Associate within the Center for Advanced Study at the University of Illinois.\n",
    "\n",
    "This work used the Extreme Science and Engineering Discovery Environment (XSEDE), which is supported by National Science Foundation grant number ACI-1053575.\n",
    "\n",
    "This work is based on observations obtained with MegaPrime/MegaCam, a joint project of CFHT and CEA/DAPNIA, at the Canada-France-Hawaii Telescope (CFHT) which is operated by the National Research Council (NRC) of Canada, the Institut National des Sciences de l'Univers of the Centre National de la Recherche Scientifique (CNRS) of France, and the University of Hawaii. This research used the facilities of the Canadian Astronomy Data Centre operated by the National Research Council of Canada with the support of the Canadian Space Agency. CFHTLenS data processing was made possible thanks to significant computing support from the NSERC Research Tools and Instruments grant program.\n",
    "\n",
    "Funding for the DEEP2 survey has been provided by NSF grants AST-0071048, AST-0071198, AST-0507428, and AST-0507483. \n",
    "\n",
    "Funding for SDSS-III has been provided by the Alfred P. Sloan Foundation, the Participating Institutions, the National Science Foundation, and the U.S. Department of Energy Office of Science. The SDSS-III web site is http://www.sdss3.org/.\n",
    "\n",
    "SDSS-III is managed by the Astrophysical Research Consortium for the Participating Institutions of the SDSS-III Collaboration including the University of Arizona, the Brazilian Participation Group, Brookhaven National Laboratory, Carnegie Mellon University, University of Florida, the French Participation Group, the German Participation Group, Harvard University, the Instituto de Astrofisica de Canarias, the Michigan State/Notre Dame/JINA Participation Group, Johns Hopkins University, Lawrence Berkeley National Laboratory, Max Planck Institute for Astrophysics, Max Planck Institute for Extraterrestrial Physics, New Mexico State University, New York University, Ohio State University, Pennsylvania State University, University of Portsmouth, Princeton University, the Spanish Participation Group, University of Tokyo, University of Utah, Vanderbilt University, University of Virginia, University of Washington, and Yale University.\n",
    "\n",
    "This paper uses data from the VIMOS Public Extragalactic Redshift Survey (VIPERS). VIPERS has been performed using the ESO Very Large Telescope, under the \"Large Programme\" 182.A-0886. The participating institutions and funding agencies are listed at http://vipers.inaf.it/.\n",
    "\n",
    "This research uses data from the VIMOS VLT Deep Survey, obtained from the VVDS database operated by Cesam, Laboratoire d'Astrophysique de Marseille, France."
   ]
  }
 ],
 "metadata": {
  "kernelspec": {
   "display_name": "Python 2",
   "language": "python",
   "name": "python2"
  },
  "language_info": {
   "codemirror_mode": {
    "name": "ipython",
    "version": 2
   },
   "file_extension": ".py",
   "mimetype": "text/x-python",
   "name": "python",
   "nbconvert_exporter": "python",
   "pygments_lexer": "ipython2",
   "version": "2.7.6"
  }
 },
 "nbformat": 4,
 "nbformat_minor": 0
}
